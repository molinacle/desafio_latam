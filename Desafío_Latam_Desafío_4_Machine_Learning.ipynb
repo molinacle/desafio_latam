{
  "nbformat": 4,
  "nbformat_minor": 0,
  "metadata": {
    "colab": {
      "provenance": [],
      "authorship_tag": "ABX9TyMF/TTKP7gITnkRwr25wOgp",
      "include_colab_link": true
    },
    "kernelspec": {
      "name": "python3",
      "display_name": "Python 3"
    },
    "language_info": {
      "name": "python"
    }
  },
  "cells": [
    {
      "cell_type": "markdown",
      "metadata": {
        "id": "view-in-github",
        "colab_type": "text"
      },
      "source": [
        "<a href=\"https://colab.research.google.com/github/molinacle/desafio_latam/blob/main/Desaf%C3%ADo_Latam_Desaf%C3%ADo_4_Machine_Learning.ipynb\" target=\"_parent\"><img src=\"https://colab.research.google.com/assets/colab-badge.svg\" alt=\"Open In Colab\"/></a>"
      ]
    },
    {
      "cell_type": "markdown",
      "source": [
        "**DESAFÍO LATAM - DESAFÍO 4**\n",
        "---\n",
        "\n",
        "*   ALUMNO: SEBASTIÁN MOLINA\n",
        "*   MODULO: MACHINE LEARNING\n",
        "*   CARRERA: DATA SCIENCE"
      ],
      "metadata": {
        "id": "xYBQZgwbC47j"
      }
    },
    {
      "cell_type": "markdown",
      "source": [
        "---\n",
        "**CONTEXTO**\n",
        "\n",
        "En este proyecto de Machine Learning, se te ha encomendado la tarea de construir un modelo de clasificación que determine si un paquete de ramen es \"bueno\" o \"malo\" basándose en sus características específicas. Para ello, se proporciona un conjunto de datos que contiene información sobre diferentes marcas de ramen y sus atributos, así como una etiqueta que indica si el ramen fue considerado como \"bueno\" o \"malo\" por expertos o usuarios."
      ],
      "metadata": {
        "id": "KxpvGp4CcWdO"
      }
    },
    {
      "cell_type": "markdown",
      "source": [
        "Responde las siguientes preguntas:"
      ],
      "metadata": {
        "id": "KhSFsY7EOwnp"
      }
    },
    {
      "cell_type": "markdown",
      "source": [
        "---\n",
        "**1. Realizar un análisis exhaustivo de calidad de datos para identificar y tratar posibles valores faltantes, valores atípicos y errores en los datos. Garantizar que el conjunto de datos esté limpio y preparado para su posterior procesamiento y entrenamiento de los modelos.**"
      ],
      "metadata": {
        "id": "Iy6nGhmmKG1h"
      }
    },
    {
      "cell_type": "code",
      "source": [
        "# Importación de Librerías\n",
        "import pandas as pd\n",
        "import numpy as np\n",
        "import matplotlib.pyplot as plt\n",
        "import seaborn as sns\n",
        "from sklearn.model_selection import train_test_split, GridSearchCV\n",
        "from sklearn.preprocessing import StandardScaler, LabelEncoder, OneHotEncoder\n",
        "from sklearn.compose import ColumnTransformer\n",
        "from sklearn.pipeline import Pipeline\n",
        "from sklearn.impute import SimpleImputer\n",
        "from sklearn.linear_model import LogisticRegression\n",
        "from sklearn.svm import SVC\n",
        "from sklearn.metrics import accuracy_score, precision_score, recall_score, f1_score, confusion_matrix, classification_report, roc_curve, auc, roc_auc_score"
      ],
      "metadata": {
        "id": "tkiwCHNhePAG"
      },
      "execution_count": 1,
      "outputs": []
    },
    {
      "cell_type": "code",
      "source": [
        "# Cargar los datos\n",
        "data = pd.read_excel('ramen-ratings.xlsx')"
      ],
      "metadata": {
        "id": "TWsYv9E1eY-u"
      },
      "execution_count": 2,
      "outputs": []
    },
    {
      "cell_type": "code",
      "source": [
        "# Visualizar las primeras filas de los datos\n",
        "data.head()"
      ],
      "metadata": {
        "colab": {
          "base_uri": "https://localhost:8080/",
          "height": 206
        },
        "id": "u9vZ-4n8gyJr",
        "outputId": "b54d0121-9c4d-41c6-cee0-052c70750c27"
      },
      "execution_count": 3,
      "outputs": [
        {
          "output_type": "execute_result",
          "data": {
            "text/plain": [
              "   Review #           Brand  \\\n",
              "0      2580       New Touch   \n",
              "1      2579        Just Way   \n",
              "2      2578          Nissin   \n",
              "3      2577         Wei Lih   \n",
              "4      2576  Ching's Secret   \n",
              "\n",
              "                                             Variety Style Country Stars  \\\n",
              "0                           T's Restaurant Tantanmen   Cup   Japan  3.75   \n",
              "1  Noodles Spicy Hot Sesame Spicy Hot Sesame Guan...  Pack  Taiwan     1   \n",
              "2                      Cup Noodles Chicken Vegetable   Cup     USA  2.25   \n",
              "3                      GGE Ramen Snack Tomato Flavor  Pack  Taiwan  2.75   \n",
              "4                                    Singapore Curry  Pack   India  3.75   \n",
              "\n",
              "  Top Ten  \n",
              "0     NaN  \n",
              "1     NaN  \n",
              "2     NaN  \n",
              "3     NaN  \n",
              "4     NaN  "
            ],
            "text/html": [
              "\n",
              "  <div id=\"df-6c847252-6d0f-426a-9aaa-9b36bc24285e\" class=\"colab-df-container\">\n",
              "    <div>\n",
              "<style scoped>\n",
              "    .dataframe tbody tr th:only-of-type {\n",
              "        vertical-align: middle;\n",
              "    }\n",
              "\n",
              "    .dataframe tbody tr th {\n",
              "        vertical-align: top;\n",
              "    }\n",
              "\n",
              "    .dataframe thead th {\n",
              "        text-align: right;\n",
              "    }\n",
              "</style>\n",
              "<table border=\"1\" class=\"dataframe\">\n",
              "  <thead>\n",
              "    <tr style=\"text-align: right;\">\n",
              "      <th></th>\n",
              "      <th>Review #</th>\n",
              "      <th>Brand</th>\n",
              "      <th>Variety</th>\n",
              "      <th>Style</th>\n",
              "      <th>Country</th>\n",
              "      <th>Stars</th>\n",
              "      <th>Top Ten</th>\n",
              "    </tr>\n",
              "  </thead>\n",
              "  <tbody>\n",
              "    <tr>\n",
              "      <th>0</th>\n",
              "      <td>2580</td>\n",
              "      <td>New Touch</td>\n",
              "      <td>T's Restaurant Tantanmen</td>\n",
              "      <td>Cup</td>\n",
              "      <td>Japan</td>\n",
              "      <td>3.75</td>\n",
              "      <td>NaN</td>\n",
              "    </tr>\n",
              "    <tr>\n",
              "      <th>1</th>\n",
              "      <td>2579</td>\n",
              "      <td>Just Way</td>\n",
              "      <td>Noodles Spicy Hot Sesame Spicy Hot Sesame Guan...</td>\n",
              "      <td>Pack</td>\n",
              "      <td>Taiwan</td>\n",
              "      <td>1</td>\n",
              "      <td>NaN</td>\n",
              "    </tr>\n",
              "    <tr>\n",
              "      <th>2</th>\n",
              "      <td>2578</td>\n",
              "      <td>Nissin</td>\n",
              "      <td>Cup Noodles Chicken Vegetable</td>\n",
              "      <td>Cup</td>\n",
              "      <td>USA</td>\n",
              "      <td>2.25</td>\n",
              "      <td>NaN</td>\n",
              "    </tr>\n",
              "    <tr>\n",
              "      <th>3</th>\n",
              "      <td>2577</td>\n",
              "      <td>Wei Lih</td>\n",
              "      <td>GGE Ramen Snack Tomato Flavor</td>\n",
              "      <td>Pack</td>\n",
              "      <td>Taiwan</td>\n",
              "      <td>2.75</td>\n",
              "      <td>NaN</td>\n",
              "    </tr>\n",
              "    <tr>\n",
              "      <th>4</th>\n",
              "      <td>2576</td>\n",
              "      <td>Ching's Secret</td>\n",
              "      <td>Singapore Curry</td>\n",
              "      <td>Pack</td>\n",
              "      <td>India</td>\n",
              "      <td>3.75</td>\n",
              "      <td>NaN</td>\n",
              "    </tr>\n",
              "  </tbody>\n",
              "</table>\n",
              "</div>\n",
              "    <div class=\"colab-df-buttons\">\n",
              "\n",
              "  <div class=\"colab-df-container\">\n",
              "    <button class=\"colab-df-convert\" onclick=\"convertToInteractive('df-6c847252-6d0f-426a-9aaa-9b36bc24285e')\"\n",
              "            title=\"Convert this dataframe to an interactive table.\"\n",
              "            style=\"display:none;\">\n",
              "\n",
              "  <svg xmlns=\"http://www.w3.org/2000/svg\" height=\"24px\" viewBox=\"0 -960 960 960\">\n",
              "    <path d=\"M120-120v-720h720v720H120Zm60-500h600v-160H180v160Zm220 220h160v-160H400v160Zm0 220h160v-160H400v160ZM180-400h160v-160H180v160Zm440 0h160v-160H620v160ZM180-180h160v-160H180v160Zm440 0h160v-160H620v160Z\"/>\n",
              "  </svg>\n",
              "    </button>\n",
              "\n",
              "  <style>\n",
              "    .colab-df-container {\n",
              "      display:flex;\n",
              "      gap: 12px;\n",
              "    }\n",
              "\n",
              "    .colab-df-convert {\n",
              "      background-color: #E8F0FE;\n",
              "      border: none;\n",
              "      border-radius: 50%;\n",
              "      cursor: pointer;\n",
              "      display: none;\n",
              "      fill: #1967D2;\n",
              "      height: 32px;\n",
              "      padding: 0 0 0 0;\n",
              "      width: 32px;\n",
              "    }\n",
              "\n",
              "    .colab-df-convert:hover {\n",
              "      background-color: #E2EBFA;\n",
              "      box-shadow: 0px 1px 2px rgba(60, 64, 67, 0.3), 0px 1px 3px 1px rgba(60, 64, 67, 0.15);\n",
              "      fill: #174EA6;\n",
              "    }\n",
              "\n",
              "    .colab-df-buttons div {\n",
              "      margin-bottom: 4px;\n",
              "    }\n",
              "\n",
              "    [theme=dark] .colab-df-convert {\n",
              "      background-color: #3B4455;\n",
              "      fill: #D2E3FC;\n",
              "    }\n",
              "\n",
              "    [theme=dark] .colab-df-convert:hover {\n",
              "      background-color: #434B5C;\n",
              "      box-shadow: 0px 1px 3px 1px rgba(0, 0, 0, 0.15);\n",
              "      filter: drop-shadow(0px 1px 2px rgba(0, 0, 0, 0.3));\n",
              "      fill: #FFFFFF;\n",
              "    }\n",
              "  </style>\n",
              "\n",
              "    <script>\n",
              "      const buttonEl =\n",
              "        document.querySelector('#df-6c847252-6d0f-426a-9aaa-9b36bc24285e button.colab-df-convert');\n",
              "      buttonEl.style.display =\n",
              "        google.colab.kernel.accessAllowed ? 'block' : 'none';\n",
              "\n",
              "      async function convertToInteractive(key) {\n",
              "        const element = document.querySelector('#df-6c847252-6d0f-426a-9aaa-9b36bc24285e');\n",
              "        const dataTable =\n",
              "          await google.colab.kernel.invokeFunction('convertToInteractive',\n",
              "                                                    [key], {});\n",
              "        if (!dataTable) return;\n",
              "\n",
              "        const docLinkHtml = 'Like what you see? Visit the ' +\n",
              "          '<a target=\"_blank\" href=https://colab.research.google.com/notebooks/data_table.ipynb>data table notebook</a>'\n",
              "          + ' to learn more about interactive tables.';\n",
              "        element.innerHTML = '';\n",
              "        dataTable['output_type'] = 'display_data';\n",
              "        await google.colab.output.renderOutput(dataTable, element);\n",
              "        const docLink = document.createElement('div');\n",
              "        docLink.innerHTML = docLinkHtml;\n",
              "        element.appendChild(docLink);\n",
              "      }\n",
              "    </script>\n",
              "  </div>\n",
              "\n",
              "\n",
              "<div id=\"df-609e907e-2194-4f92-8ca8-358a95c0841e\">\n",
              "  <button class=\"colab-df-quickchart\" onclick=\"quickchart('df-609e907e-2194-4f92-8ca8-358a95c0841e')\"\n",
              "            title=\"Suggest charts\"\n",
              "            style=\"display:none;\">\n",
              "\n",
              "<svg xmlns=\"http://www.w3.org/2000/svg\" height=\"24px\"viewBox=\"0 0 24 24\"\n",
              "     width=\"24px\">\n",
              "    <g>\n",
              "        <path d=\"M19 3H5c-1.1 0-2 .9-2 2v14c0 1.1.9 2 2 2h14c1.1 0 2-.9 2-2V5c0-1.1-.9-2-2-2zM9 17H7v-7h2v7zm4 0h-2V7h2v10zm4 0h-2v-4h2v4z\"/>\n",
              "    </g>\n",
              "</svg>\n",
              "  </button>\n",
              "\n",
              "<style>\n",
              "  .colab-df-quickchart {\n",
              "      --bg-color: #E8F0FE;\n",
              "      --fill-color: #1967D2;\n",
              "      --hover-bg-color: #E2EBFA;\n",
              "      --hover-fill-color: #174EA6;\n",
              "      --disabled-fill-color: #AAA;\n",
              "      --disabled-bg-color: #DDD;\n",
              "  }\n",
              "\n",
              "  [theme=dark] .colab-df-quickchart {\n",
              "      --bg-color: #3B4455;\n",
              "      --fill-color: #D2E3FC;\n",
              "      --hover-bg-color: #434B5C;\n",
              "      --hover-fill-color: #FFFFFF;\n",
              "      --disabled-bg-color: #3B4455;\n",
              "      --disabled-fill-color: #666;\n",
              "  }\n",
              "\n",
              "  .colab-df-quickchart {\n",
              "    background-color: var(--bg-color);\n",
              "    border: none;\n",
              "    border-radius: 50%;\n",
              "    cursor: pointer;\n",
              "    display: none;\n",
              "    fill: var(--fill-color);\n",
              "    height: 32px;\n",
              "    padding: 0;\n",
              "    width: 32px;\n",
              "  }\n",
              "\n",
              "  .colab-df-quickchart:hover {\n",
              "    background-color: var(--hover-bg-color);\n",
              "    box-shadow: 0 1px 2px rgba(60, 64, 67, 0.3), 0 1px 3px 1px rgba(60, 64, 67, 0.15);\n",
              "    fill: var(--button-hover-fill-color);\n",
              "  }\n",
              "\n",
              "  .colab-df-quickchart-complete:disabled,\n",
              "  .colab-df-quickchart-complete:disabled:hover {\n",
              "    background-color: var(--disabled-bg-color);\n",
              "    fill: var(--disabled-fill-color);\n",
              "    box-shadow: none;\n",
              "  }\n",
              "\n",
              "  .colab-df-spinner {\n",
              "    border: 2px solid var(--fill-color);\n",
              "    border-color: transparent;\n",
              "    border-bottom-color: var(--fill-color);\n",
              "    animation:\n",
              "      spin 1s steps(1) infinite;\n",
              "  }\n",
              "\n",
              "  @keyframes spin {\n",
              "    0% {\n",
              "      border-color: transparent;\n",
              "      border-bottom-color: var(--fill-color);\n",
              "      border-left-color: var(--fill-color);\n",
              "    }\n",
              "    20% {\n",
              "      border-color: transparent;\n",
              "      border-left-color: var(--fill-color);\n",
              "      border-top-color: var(--fill-color);\n",
              "    }\n",
              "    30% {\n",
              "      border-color: transparent;\n",
              "      border-left-color: var(--fill-color);\n",
              "      border-top-color: var(--fill-color);\n",
              "      border-right-color: var(--fill-color);\n",
              "    }\n",
              "    40% {\n",
              "      border-color: transparent;\n",
              "      border-right-color: var(--fill-color);\n",
              "      border-top-color: var(--fill-color);\n",
              "    }\n",
              "    60% {\n",
              "      border-color: transparent;\n",
              "      border-right-color: var(--fill-color);\n",
              "    }\n",
              "    80% {\n",
              "      border-color: transparent;\n",
              "      border-right-color: var(--fill-color);\n",
              "      border-bottom-color: var(--fill-color);\n",
              "    }\n",
              "    90% {\n",
              "      border-color: transparent;\n",
              "      border-bottom-color: var(--fill-color);\n",
              "    }\n",
              "  }\n",
              "</style>\n",
              "\n",
              "  <script>\n",
              "    async function quickchart(key) {\n",
              "      const quickchartButtonEl =\n",
              "        document.querySelector('#' + key + ' button');\n",
              "      quickchartButtonEl.disabled = true;  // To prevent multiple clicks.\n",
              "      quickchartButtonEl.classList.add('colab-df-spinner');\n",
              "      try {\n",
              "        const charts = await google.colab.kernel.invokeFunction(\n",
              "            'suggestCharts', [key], {});\n",
              "      } catch (error) {\n",
              "        console.error('Error during call to suggestCharts:', error);\n",
              "      }\n",
              "      quickchartButtonEl.classList.remove('colab-df-spinner');\n",
              "      quickchartButtonEl.classList.add('colab-df-quickchart-complete');\n",
              "    }\n",
              "    (() => {\n",
              "      let quickchartButtonEl =\n",
              "        document.querySelector('#df-609e907e-2194-4f92-8ca8-358a95c0841e button');\n",
              "      quickchartButtonEl.style.display =\n",
              "        google.colab.kernel.accessAllowed ? 'block' : 'none';\n",
              "    })();\n",
              "  </script>\n",
              "</div>\n",
              "\n",
              "    </div>\n",
              "  </div>\n"
            ],
            "application/vnd.google.colaboratory.intrinsic+json": {
              "type": "dataframe",
              "variable_name": "data",
              "summary": "{\n  \"name\": \"data\",\n  \"rows\": 2580,\n  \"fields\": [\n    {\n      \"column\": \"Review #\",\n      \"properties\": {\n        \"dtype\": \"number\",\n        \"std\": 744,\n        \"min\": 1,\n        \"max\": 2580,\n        \"num_unique_values\": 2580,\n        \"samples\": [\n          1771,\n          224,\n          1819\n        ],\n        \"semantic_type\": \"\",\n        \"description\": \"\"\n      }\n    },\n    {\n      \"column\": \"Brand\",\n      \"properties\": {\n        \"dtype\": \"category\",\n        \"num_unique_values\": 355,\n        \"samples\": [\n          \"Thai Choice\",\n          \"GGE\",\n          \"HoMyeonDang\"\n        ],\n        \"semantic_type\": \"\",\n        \"description\": \"\"\n      }\n    },\n    {\n      \"column\": \"Variety\",\n      \"properties\": {\n        \"dtype\": \"string\",\n        \"num_unique_values\": 2412,\n        \"samples\": [\n          \"Selera Pedas Hot Tomato Soup Flavor\",\n          \"Bowl Noodle Spicy Seafood\",\n          \"Jin Ramen (Hot Taste)\"\n        ],\n        \"semantic_type\": \"\",\n        \"description\": \"\"\n      }\n    },\n    {\n      \"column\": \"Style\",\n      \"properties\": {\n        \"dtype\": \"category\",\n        \"num_unique_values\": 7,\n        \"samples\": [\n          \"Cup\",\n          \"Pack\",\n          \"Can\"\n        ],\n        \"semantic_type\": \"\",\n        \"description\": \"\"\n      }\n    },\n    {\n      \"column\": \"Country\",\n      \"properties\": {\n        \"dtype\": \"category\",\n        \"num_unique_values\": 38,\n        \"samples\": [\n          \"Colombia\",\n          \"Poland\",\n          \"South Korea\"\n        ],\n        \"semantic_type\": \"\",\n        \"description\": \"\"\n      }\n    },\n    {\n      \"column\": \"Stars\",\n      \"properties\": {\n        \"dtype\": \"category\",\n        \"num_unique_values\": 43,\n        \"samples\": [\n          3.4,\n          0.75,\n          1.25\n        ],\n        \"semantic_type\": \"\",\n        \"description\": \"\"\n      }\n    },\n    {\n      \"column\": \"Top Ten\",\n      \"properties\": {\n        \"dtype\": \"category\",\n        \"num_unique_values\": 38,\n        \"samples\": [\n          \"2012 #9\",\n          \"2013 #6\",\n          \"2016 #9\"\n        ],\n        \"semantic_type\": \"\",\n        \"description\": \"\"\n      }\n    }\n  ]\n}"
            }
          },
          "metadata": {},
          "execution_count": 3
        }
      ]
    },
    {
      "cell_type": "code",
      "source": [
        "# Obtener información sobre los tipos de datos y la cantidad de valores no nulos\n",
        "data.info()"
      ],
      "metadata": {
        "colab": {
          "base_uri": "https://localhost:8080/"
        },
        "id": "goZxyQmFg8S6",
        "outputId": "0f9e1311-af3a-41b7-aa7a-f84043a1581c"
      },
      "execution_count": 4,
      "outputs": [
        {
          "output_type": "stream",
          "name": "stdout",
          "text": [
            "<class 'pandas.core.frame.DataFrame'>\n",
            "RangeIndex: 2580 entries, 0 to 2579\n",
            "Data columns (total 7 columns):\n",
            " #   Column    Non-Null Count  Dtype \n",
            "---  ------    --------------  ----- \n",
            " 0   Review #  2580 non-null   int64 \n",
            " 1   Brand     2580 non-null   object\n",
            " 2   Variety   2580 non-null   object\n",
            " 3   Style     2578 non-null   object\n",
            " 4   Country   2580 non-null   object\n",
            " 5   Stars     2580 non-null   object\n",
            " 6   Top Ten   41 non-null     object\n",
            "dtypes: int64(1), object(6)\n",
            "memory usage: 141.2+ KB\n"
          ]
        }
      ]
    },
    {
      "cell_type": "markdown",
      "source": [
        "Casi todas las variables son categóricas, solo 2 son numéricas, sin embargo tendremos que convertir la variable \"Stars\" dado que aparece como categórica. Además se ve que la columna \"Style\" contiene algunos valores nulos, mientras que la columna \"Top Ten\" es mayoritariamente Nula, exceptuando solo 41 registros que contienen información, por lo que tendremos que analizar el dominio de valores y definir si se debe mantener en el dataset o si se debe eliminar del mismo.\n",
        "\n",
        "---\n",
        "\n"
      ],
      "metadata": {
        "id": "80J0gGawRt2i"
      }
    },
    {
      "cell_type": "code",
      "source": [
        "data['Style'].isnull().value_counts(normalize=True)"
      ],
      "metadata": {
        "colab": {
          "base_uri": "https://localhost:8080/",
          "height": 178
        },
        "id": "w2FHeoiFSHNj",
        "outputId": "c6a4e0e8-272f-4975-bbb5-c18c889c2b85"
      },
      "execution_count": 5,
      "outputs": [
        {
          "output_type": "execute_result",
          "data": {
            "text/plain": [
              "Style\n",
              "False    0.999225\n",
              "True     0.000775\n",
              "Name: proportion, dtype: float64"
            ],
            "text/html": [
              "<div>\n",
              "<style scoped>\n",
              "    .dataframe tbody tr th:only-of-type {\n",
              "        vertical-align: middle;\n",
              "    }\n",
              "\n",
              "    .dataframe tbody tr th {\n",
              "        vertical-align: top;\n",
              "    }\n",
              "\n",
              "    .dataframe thead th {\n",
              "        text-align: right;\n",
              "    }\n",
              "</style>\n",
              "<table border=\"1\" class=\"dataframe\">\n",
              "  <thead>\n",
              "    <tr style=\"text-align: right;\">\n",
              "      <th></th>\n",
              "      <th>proportion</th>\n",
              "    </tr>\n",
              "    <tr>\n",
              "      <th>Style</th>\n",
              "      <th></th>\n",
              "    </tr>\n",
              "  </thead>\n",
              "  <tbody>\n",
              "    <tr>\n",
              "      <th>False</th>\n",
              "      <td>0.999225</td>\n",
              "    </tr>\n",
              "    <tr>\n",
              "      <th>True</th>\n",
              "      <td>0.000775</td>\n",
              "    </tr>\n",
              "  </tbody>\n",
              "</table>\n",
              "</div><br><label><b>dtype:</b> float64</label>"
            ]
          },
          "metadata": {},
          "execution_count": 5
        }
      ]
    },
    {
      "cell_type": "markdown",
      "source": [
        "Los nulos de la columna \"Style\" representan solo el 0,0008% de los registros por lo que los eliminaremos en la etapa de preprocesamiento."
      ],
      "metadata": {
        "id": "L_JABhUBS0i-"
      }
    },
    {
      "cell_type": "code",
      "source": [
        "data['Top Ten'].isnull().value_counts(normalize=True)"
      ],
      "metadata": {
        "colab": {
          "base_uri": "https://localhost:8080/",
          "height": 178
        },
        "id": "qLUkR5-3_1XP",
        "outputId": "13f136e6-6923-4247-b9da-f162fb130eb4"
      },
      "execution_count": 6,
      "outputs": [
        {
          "output_type": "execute_result",
          "data": {
            "text/plain": [
              "Top Ten\n",
              "True     0.984109\n",
              "False    0.015891\n",
              "Name: proportion, dtype: float64"
            ],
            "text/html": [
              "<div>\n",
              "<style scoped>\n",
              "    .dataframe tbody tr th:only-of-type {\n",
              "        vertical-align: middle;\n",
              "    }\n",
              "\n",
              "    .dataframe tbody tr th {\n",
              "        vertical-align: top;\n",
              "    }\n",
              "\n",
              "    .dataframe thead th {\n",
              "        text-align: right;\n",
              "    }\n",
              "</style>\n",
              "<table border=\"1\" class=\"dataframe\">\n",
              "  <thead>\n",
              "    <tr style=\"text-align: right;\">\n",
              "      <th></th>\n",
              "      <th>proportion</th>\n",
              "    </tr>\n",
              "    <tr>\n",
              "      <th>Top Ten</th>\n",
              "      <th></th>\n",
              "    </tr>\n",
              "  </thead>\n",
              "  <tbody>\n",
              "    <tr>\n",
              "      <th>True</th>\n",
              "      <td>0.984109</td>\n",
              "    </tr>\n",
              "    <tr>\n",
              "      <th>False</th>\n",
              "      <td>0.015891</td>\n",
              "    </tr>\n",
              "  </tbody>\n",
              "</table>\n",
              "</div><br><label><b>dtype:</b> float64</label>"
            ]
          },
          "metadata": {},
          "execution_count": 6
        }
      ]
    },
    {
      "cell_type": "markdown",
      "source": [
        "Los nulos de la columna \"Top Ten\" representan el 98,4% de los registros por lo que haremos un análisis adicional antes de decidir si eliminar o no la columna en la etapa de preprocesamiento."
      ],
      "metadata": {
        "id": "EqXO8oYe__nO"
      }
    },
    {
      "cell_type": "code",
      "source": [
        "# Dominio de valores de la columna Top Ten\n",
        "unique_top_ten = data['Top Ten'].unique()\n",
        "print(unique_top_ten)"
      ],
      "metadata": {
        "colab": {
          "base_uri": "https://localhost:8080/"
        },
        "id": "foG3lDkaAOYR",
        "outputId": "4ae23379-bcb8-4d2f-ec89-dc5634ffce8d"
      },
      "execution_count": 7,
      "outputs": [
        {
          "output_type": "stream",
          "name": "stdout",
          "text": [
            "[nan '2016 #10' '2016 #1' '2016 #8' '2016 #5' '2016 #9' '2016 #7'\n",
            " '2015 #10' '2015 #7' '2015 #4' '2015 #9' '2015 #6' '2015 #1' '2013 #10'\n",
            " '2015 #8' '2014 #7' '2014 #4' '2014 #9' '2014 #10' '2014 #8' '2014 #5'\n",
            " '2014 #6' '2014 #1' '2013 #1' '2013 #2' '2013 #4' '\\n' '2013 #9'\n",
            " '2013 #3' '2012 #10' '2012 #7' '2012 #5' '2012 #3' '2012 #6' '2012 #9'\n",
            " '2012 #1' '2012 #2' '2013 #6' '2012 #4']\n"
          ]
        }
      ]
    },
    {
      "cell_type": "markdown",
      "source": [
        "Ok, lo que muestra el análisis anterior es que existe un top ten para cada año, por lo que en la etapa de preprocesamiento de los datos podriamos crear una nueva columna que indique simplemente con 1 si el ramen se ha encontrado dentro del top ten alguna vez o 0 si nunca lo ha estado."
      ],
      "metadata": {
        "id": "k4hB1X69GEtm"
      }
    },
    {
      "cell_type": "code",
      "source": [
        "# Visualizar la distribución de la variable 'Stars'\n",
        "data['Brand'].value_counts(normalize=True)"
      ],
      "metadata": {
        "colab": {
          "base_uri": "https://localhost:8080/",
          "height": 490
        },
        "id": "K-glYtgqhRLE",
        "outputId": "da6551d7-7b26-4ee7-e13c-d5c4bd7912c6"
      },
      "execution_count": 8,
      "outputs": [
        {
          "output_type": "execute_result",
          "data": {
            "text/plain": [
              "Brand\n",
              "Nissin           0.147674\n",
              "Nongshim         0.037984\n",
              "Maruchan         0.029457\n",
              "Mama             0.027519\n",
              "Paldo            0.025581\n",
              "                   ...   \n",
              "Golden Wonder    0.000388\n",
              "Peyang           0.000388\n",
              "Sanrio           0.000388\n",
              "China Best       0.000388\n",
              "Westbrae         0.000388\n",
              "Name: proportion, Length: 355, dtype: float64"
            ],
            "text/html": [
              "<div>\n",
              "<style scoped>\n",
              "    .dataframe tbody tr th:only-of-type {\n",
              "        vertical-align: middle;\n",
              "    }\n",
              "\n",
              "    .dataframe tbody tr th {\n",
              "        vertical-align: top;\n",
              "    }\n",
              "\n",
              "    .dataframe thead th {\n",
              "        text-align: right;\n",
              "    }\n",
              "</style>\n",
              "<table border=\"1\" class=\"dataframe\">\n",
              "  <thead>\n",
              "    <tr style=\"text-align: right;\">\n",
              "      <th></th>\n",
              "      <th>proportion</th>\n",
              "    </tr>\n",
              "    <tr>\n",
              "      <th>Brand</th>\n",
              "      <th></th>\n",
              "    </tr>\n",
              "  </thead>\n",
              "  <tbody>\n",
              "    <tr>\n",
              "      <th>Nissin</th>\n",
              "      <td>0.147674</td>\n",
              "    </tr>\n",
              "    <tr>\n",
              "      <th>Nongshim</th>\n",
              "      <td>0.037984</td>\n",
              "    </tr>\n",
              "    <tr>\n",
              "      <th>Maruchan</th>\n",
              "      <td>0.029457</td>\n",
              "    </tr>\n",
              "    <tr>\n",
              "      <th>Mama</th>\n",
              "      <td>0.027519</td>\n",
              "    </tr>\n",
              "    <tr>\n",
              "      <th>Paldo</th>\n",
              "      <td>0.025581</td>\n",
              "    </tr>\n",
              "    <tr>\n",
              "      <th>...</th>\n",
              "      <td>...</td>\n",
              "    </tr>\n",
              "    <tr>\n",
              "      <th>Golden Wonder</th>\n",
              "      <td>0.000388</td>\n",
              "    </tr>\n",
              "    <tr>\n",
              "      <th>Peyang</th>\n",
              "      <td>0.000388</td>\n",
              "    </tr>\n",
              "    <tr>\n",
              "      <th>Sanrio</th>\n",
              "      <td>0.000388</td>\n",
              "    </tr>\n",
              "    <tr>\n",
              "      <th>China Best</th>\n",
              "      <td>0.000388</td>\n",
              "    </tr>\n",
              "    <tr>\n",
              "      <th>Westbrae</th>\n",
              "      <td>0.000388</td>\n",
              "    </tr>\n",
              "  </tbody>\n",
              "</table>\n",
              "<p>355 rows × 1 columns</p>\n",
              "</div><br><label><b>dtype:</b> float64</label>"
            ]
          },
          "metadata": {},
          "execution_count": 8
        }
      ]
    },
    {
      "cell_type": "markdown",
      "source": [
        "Es claro que \"Nissin\" es la marca más importante en término de distribución."
      ],
      "metadata": {
        "id": "HHnIGrntd53X"
      }
    },
    {
      "cell_type": "code",
      "source": [
        "# Visualizar la distribución de la variable 'Stars'\n",
        "data['Style'].value_counts(normalize=True)"
      ],
      "metadata": {
        "colab": {
          "base_uri": "https://localhost:8080/",
          "height": 335
        },
        "id": "CKWIwsCsaUa_",
        "outputId": "e5fbce67-306e-4b59-b466-910fb98957b9"
      },
      "execution_count": 9,
      "outputs": [
        {
          "output_type": "execute_result",
          "data": {
            "text/plain": [
              "Style\n",
              "Pack    0.593871\n",
              "Bowl    0.186579\n",
              "Cup     0.174554\n",
              "Tray    0.041893\n",
              "Box     0.002327\n",
              "Can     0.000388\n",
              "Bar     0.000388\n",
              "Name: proportion, dtype: float64"
            ],
            "text/html": [
              "<div>\n",
              "<style scoped>\n",
              "    .dataframe tbody tr th:only-of-type {\n",
              "        vertical-align: middle;\n",
              "    }\n",
              "\n",
              "    .dataframe tbody tr th {\n",
              "        vertical-align: top;\n",
              "    }\n",
              "\n",
              "    .dataframe thead th {\n",
              "        text-align: right;\n",
              "    }\n",
              "</style>\n",
              "<table border=\"1\" class=\"dataframe\">\n",
              "  <thead>\n",
              "    <tr style=\"text-align: right;\">\n",
              "      <th></th>\n",
              "      <th>proportion</th>\n",
              "    </tr>\n",
              "    <tr>\n",
              "      <th>Style</th>\n",
              "      <th></th>\n",
              "    </tr>\n",
              "  </thead>\n",
              "  <tbody>\n",
              "    <tr>\n",
              "      <th>Pack</th>\n",
              "      <td>0.593871</td>\n",
              "    </tr>\n",
              "    <tr>\n",
              "      <th>Bowl</th>\n",
              "      <td>0.186579</td>\n",
              "    </tr>\n",
              "    <tr>\n",
              "      <th>Cup</th>\n",
              "      <td>0.174554</td>\n",
              "    </tr>\n",
              "    <tr>\n",
              "      <th>Tray</th>\n",
              "      <td>0.041893</td>\n",
              "    </tr>\n",
              "    <tr>\n",
              "      <th>Box</th>\n",
              "      <td>0.002327</td>\n",
              "    </tr>\n",
              "    <tr>\n",
              "      <th>Can</th>\n",
              "      <td>0.000388</td>\n",
              "    </tr>\n",
              "    <tr>\n",
              "      <th>Bar</th>\n",
              "      <td>0.000388</td>\n",
              "    </tr>\n",
              "  </tbody>\n",
              "</table>\n",
              "</div><br><label><b>dtype:</b> float64</label>"
            ]
          },
          "metadata": {},
          "execution_count": 9
        }
      ]
    },
    {
      "cell_type": "markdown",
      "source": [
        "Es interesante que cerca del 80% de los ramen se concentren en tan solo 2 estilos."
      ],
      "metadata": {
        "id": "lGPoWzP2cmK4"
      }
    },
    {
      "cell_type": "code",
      "source": [
        "data['Country'].value_counts(normalize=True)"
      ],
      "metadata": {
        "colab": {
          "base_uri": "https://localhost:8080/",
          "height": 1000
        },
        "id": "pfH6QNcqVf8j",
        "outputId": "27ffcd68-bfe1-4451-85e8-bc37c297fad1"
      },
      "execution_count": 10,
      "outputs": [
        {
          "output_type": "execute_result",
          "data": {
            "text/plain": [
              "Country\n",
              "Japan            0.136434\n",
              "USA              0.125194\n",
              "South Korea      0.119767\n",
              "Taiwan           0.086822\n",
              "Thailand         0.074031\n",
              "China            0.065504\n",
              "Malaysia         0.060465\n",
              "Hong Kong        0.053101\n",
              "Indonesia        0.048837\n",
              "Singapore        0.042248\n",
              "Vietnam          0.041860\n",
              "UK               0.026744\n",
              "Philippines      0.018217\n",
              "Canada           0.015891\n",
              "India            0.012016\n",
              "Germany          0.010465\n",
              "Mexico           0.009690\n",
              "Australia        0.008527\n",
              "Netherlands      0.005814\n",
              "Myanmar          0.005426\n",
              "Nepal            0.005426\n",
              "Pakistan         0.003488\n",
              "Hungary          0.003488\n",
              "Bangladesh       0.002713\n",
              "Colombia         0.002326\n",
              "Brazil           0.001938\n",
              "Cambodia         0.001938\n",
              "Fiji             0.001550\n",
              "Holland          0.001550\n",
              "Poland           0.001550\n",
              "Finland          0.001163\n",
              "Sarawak          0.001163\n",
              "Sweden           0.001163\n",
              "Dubai            0.001163\n",
              "Ghana            0.000775\n",
              "Estonia          0.000775\n",
              "Nigeria          0.000388\n",
              "United States    0.000388\n",
              "Name: proportion, dtype: float64"
            ],
            "text/html": [
              "<div>\n",
              "<style scoped>\n",
              "    .dataframe tbody tr th:only-of-type {\n",
              "        vertical-align: middle;\n",
              "    }\n",
              "\n",
              "    .dataframe tbody tr th {\n",
              "        vertical-align: top;\n",
              "    }\n",
              "\n",
              "    .dataframe thead th {\n",
              "        text-align: right;\n",
              "    }\n",
              "</style>\n",
              "<table border=\"1\" class=\"dataframe\">\n",
              "  <thead>\n",
              "    <tr style=\"text-align: right;\">\n",
              "      <th></th>\n",
              "      <th>proportion</th>\n",
              "    </tr>\n",
              "    <tr>\n",
              "      <th>Country</th>\n",
              "      <th></th>\n",
              "    </tr>\n",
              "  </thead>\n",
              "  <tbody>\n",
              "    <tr>\n",
              "      <th>Japan</th>\n",
              "      <td>0.136434</td>\n",
              "    </tr>\n",
              "    <tr>\n",
              "      <th>USA</th>\n",
              "      <td>0.125194</td>\n",
              "    </tr>\n",
              "    <tr>\n",
              "      <th>South Korea</th>\n",
              "      <td>0.119767</td>\n",
              "    </tr>\n",
              "    <tr>\n",
              "      <th>Taiwan</th>\n",
              "      <td>0.086822</td>\n",
              "    </tr>\n",
              "    <tr>\n",
              "      <th>Thailand</th>\n",
              "      <td>0.074031</td>\n",
              "    </tr>\n",
              "    <tr>\n",
              "      <th>China</th>\n",
              "      <td>0.065504</td>\n",
              "    </tr>\n",
              "    <tr>\n",
              "      <th>Malaysia</th>\n",
              "      <td>0.060465</td>\n",
              "    </tr>\n",
              "    <tr>\n",
              "      <th>Hong Kong</th>\n",
              "      <td>0.053101</td>\n",
              "    </tr>\n",
              "    <tr>\n",
              "      <th>Indonesia</th>\n",
              "      <td>0.048837</td>\n",
              "    </tr>\n",
              "    <tr>\n",
              "      <th>Singapore</th>\n",
              "      <td>0.042248</td>\n",
              "    </tr>\n",
              "    <tr>\n",
              "      <th>Vietnam</th>\n",
              "      <td>0.041860</td>\n",
              "    </tr>\n",
              "    <tr>\n",
              "      <th>UK</th>\n",
              "      <td>0.026744</td>\n",
              "    </tr>\n",
              "    <tr>\n",
              "      <th>Philippines</th>\n",
              "      <td>0.018217</td>\n",
              "    </tr>\n",
              "    <tr>\n",
              "      <th>Canada</th>\n",
              "      <td>0.015891</td>\n",
              "    </tr>\n",
              "    <tr>\n",
              "      <th>India</th>\n",
              "      <td>0.012016</td>\n",
              "    </tr>\n",
              "    <tr>\n",
              "      <th>Germany</th>\n",
              "      <td>0.010465</td>\n",
              "    </tr>\n",
              "    <tr>\n",
              "      <th>Mexico</th>\n",
              "      <td>0.009690</td>\n",
              "    </tr>\n",
              "    <tr>\n",
              "      <th>Australia</th>\n",
              "      <td>0.008527</td>\n",
              "    </tr>\n",
              "    <tr>\n",
              "      <th>Netherlands</th>\n",
              "      <td>0.005814</td>\n",
              "    </tr>\n",
              "    <tr>\n",
              "      <th>Myanmar</th>\n",
              "      <td>0.005426</td>\n",
              "    </tr>\n",
              "    <tr>\n",
              "      <th>Nepal</th>\n",
              "      <td>0.005426</td>\n",
              "    </tr>\n",
              "    <tr>\n",
              "      <th>Pakistan</th>\n",
              "      <td>0.003488</td>\n",
              "    </tr>\n",
              "    <tr>\n",
              "      <th>Hungary</th>\n",
              "      <td>0.003488</td>\n",
              "    </tr>\n",
              "    <tr>\n",
              "      <th>Bangladesh</th>\n",
              "      <td>0.002713</td>\n",
              "    </tr>\n",
              "    <tr>\n",
              "      <th>Colombia</th>\n",
              "      <td>0.002326</td>\n",
              "    </tr>\n",
              "    <tr>\n",
              "      <th>Brazil</th>\n",
              "      <td>0.001938</td>\n",
              "    </tr>\n",
              "    <tr>\n",
              "      <th>Cambodia</th>\n",
              "      <td>0.001938</td>\n",
              "    </tr>\n",
              "    <tr>\n",
              "      <th>Fiji</th>\n",
              "      <td>0.001550</td>\n",
              "    </tr>\n",
              "    <tr>\n",
              "      <th>Holland</th>\n",
              "      <td>0.001550</td>\n",
              "    </tr>\n",
              "    <tr>\n",
              "      <th>Poland</th>\n",
              "      <td>0.001550</td>\n",
              "    </tr>\n",
              "    <tr>\n",
              "      <th>Finland</th>\n",
              "      <td>0.001163</td>\n",
              "    </tr>\n",
              "    <tr>\n",
              "      <th>Sarawak</th>\n",
              "      <td>0.001163</td>\n",
              "    </tr>\n",
              "    <tr>\n",
              "      <th>Sweden</th>\n",
              "      <td>0.001163</td>\n",
              "    </tr>\n",
              "    <tr>\n",
              "      <th>Dubai</th>\n",
              "      <td>0.001163</td>\n",
              "    </tr>\n",
              "    <tr>\n",
              "      <th>Ghana</th>\n",
              "      <td>0.000775</td>\n",
              "    </tr>\n",
              "    <tr>\n",
              "      <th>Estonia</th>\n",
              "      <td>0.000775</td>\n",
              "    </tr>\n",
              "    <tr>\n",
              "      <th>Nigeria</th>\n",
              "      <td>0.000388</td>\n",
              "    </tr>\n",
              "    <tr>\n",
              "      <th>United States</th>\n",
              "      <td>0.000388</td>\n",
              "    </tr>\n",
              "  </tbody>\n",
              "</table>\n",
              "</div><br><label><b>dtype:</b> float64</label>"
            ]
          },
          "metadata": {},
          "execution_count": 10
        }
      ]
    },
    {
      "cell_type": "markdown",
      "source": [
        "En esta gráfica se puede apreciar que hay muchos países que producen ramen, y no hay ninguno que predomine notoriamente con los otros en términos de distribución. Ahora comenzaré con la limpieza de datos de los puntos de mejora encontrados hasta ahora."
      ],
      "metadata": {
        "id": "WmroyehefV-b"
      }
    },
    {
      "cell_type": "code",
      "source": [
        "# Reemplazar 'Unrated' en la columna 'Stars' con NaN para poder tratarlo como datos faltantes\n",
        "data['Stars'].replace('Unrated', pd.NA, inplace=True)\n",
        "\n",
        "# Convertir la columna 'Stars' a tipo numérico\n",
        "data['Stars'] = pd.to_numeric(data['Stars'], errors='coerce')\n",
        "\n",
        "# Imputar valores faltantes en 'Style' con el método más frecuente\n",
        "most_frequent_style = data['Style'].mode()[0]\n",
        "data['Style'].fillna(most_frequent_style, inplace=True)\n",
        "\n",
        "# Crear una columna de etiquetas 'Rating' donde 'bueno' es 1 y 'malo' es 0\n",
        "data['Rating'] = data['Stars'].apply(lambda x: 1 if x >= 3 else 0)\n",
        "\n",
        "# Creación de la nueva columna 'Ever Top Ten'\n",
        "data['Ever Top Ten'] = data['Top Ten'].notna().astype(int)\n",
        "\n",
        "# Eliminar la columna 'Top Ten' del dataset\n",
        "data.drop(columns=['Top Ten'], inplace=True)\n",
        "\n",
        "# Verificar la limpieza y las nuevas columnas\n",
        "data.head()"
      ],
      "metadata": {
        "colab": {
          "base_uri": "https://localhost:8080/",
          "height": 206
        },
        "id": "Wyzwf_kvhExF",
        "outputId": "e2757e14-2517-4bf1-d52e-7a74109e3896"
      },
      "execution_count": 11,
      "outputs": [
        {
          "output_type": "execute_result",
          "data": {
            "text/plain": [
              "   Review #           Brand  \\\n",
              "0      2580       New Touch   \n",
              "1      2579        Just Way   \n",
              "2      2578          Nissin   \n",
              "3      2577         Wei Lih   \n",
              "4      2576  Ching's Secret   \n",
              "\n",
              "                                             Variety Style Country  Stars  \\\n",
              "0                           T's Restaurant Tantanmen   Cup   Japan   3.75   \n",
              "1  Noodles Spicy Hot Sesame Spicy Hot Sesame Guan...  Pack  Taiwan   1.00   \n",
              "2                      Cup Noodles Chicken Vegetable   Cup     USA   2.25   \n",
              "3                      GGE Ramen Snack Tomato Flavor  Pack  Taiwan   2.75   \n",
              "4                                    Singapore Curry  Pack   India   3.75   \n",
              "\n",
              "   Rating  Ever Top Ten  \n",
              "0       1             0  \n",
              "1       0             0  \n",
              "2       0             0  \n",
              "3       0             0  \n",
              "4       1             0  "
            ],
            "text/html": [
              "\n",
              "  <div id=\"df-4e0008fa-fbdc-499c-bb02-204aaf5d3321\" class=\"colab-df-container\">\n",
              "    <div>\n",
              "<style scoped>\n",
              "    .dataframe tbody tr th:only-of-type {\n",
              "        vertical-align: middle;\n",
              "    }\n",
              "\n",
              "    .dataframe tbody tr th {\n",
              "        vertical-align: top;\n",
              "    }\n",
              "\n",
              "    .dataframe thead th {\n",
              "        text-align: right;\n",
              "    }\n",
              "</style>\n",
              "<table border=\"1\" class=\"dataframe\">\n",
              "  <thead>\n",
              "    <tr style=\"text-align: right;\">\n",
              "      <th></th>\n",
              "      <th>Review #</th>\n",
              "      <th>Brand</th>\n",
              "      <th>Variety</th>\n",
              "      <th>Style</th>\n",
              "      <th>Country</th>\n",
              "      <th>Stars</th>\n",
              "      <th>Rating</th>\n",
              "      <th>Ever Top Ten</th>\n",
              "    </tr>\n",
              "  </thead>\n",
              "  <tbody>\n",
              "    <tr>\n",
              "      <th>0</th>\n",
              "      <td>2580</td>\n",
              "      <td>New Touch</td>\n",
              "      <td>T's Restaurant Tantanmen</td>\n",
              "      <td>Cup</td>\n",
              "      <td>Japan</td>\n",
              "      <td>3.75</td>\n",
              "      <td>1</td>\n",
              "      <td>0</td>\n",
              "    </tr>\n",
              "    <tr>\n",
              "      <th>1</th>\n",
              "      <td>2579</td>\n",
              "      <td>Just Way</td>\n",
              "      <td>Noodles Spicy Hot Sesame Spicy Hot Sesame Guan...</td>\n",
              "      <td>Pack</td>\n",
              "      <td>Taiwan</td>\n",
              "      <td>1.00</td>\n",
              "      <td>0</td>\n",
              "      <td>0</td>\n",
              "    </tr>\n",
              "    <tr>\n",
              "      <th>2</th>\n",
              "      <td>2578</td>\n",
              "      <td>Nissin</td>\n",
              "      <td>Cup Noodles Chicken Vegetable</td>\n",
              "      <td>Cup</td>\n",
              "      <td>USA</td>\n",
              "      <td>2.25</td>\n",
              "      <td>0</td>\n",
              "      <td>0</td>\n",
              "    </tr>\n",
              "    <tr>\n",
              "      <th>3</th>\n",
              "      <td>2577</td>\n",
              "      <td>Wei Lih</td>\n",
              "      <td>GGE Ramen Snack Tomato Flavor</td>\n",
              "      <td>Pack</td>\n",
              "      <td>Taiwan</td>\n",
              "      <td>2.75</td>\n",
              "      <td>0</td>\n",
              "      <td>0</td>\n",
              "    </tr>\n",
              "    <tr>\n",
              "      <th>4</th>\n",
              "      <td>2576</td>\n",
              "      <td>Ching's Secret</td>\n",
              "      <td>Singapore Curry</td>\n",
              "      <td>Pack</td>\n",
              "      <td>India</td>\n",
              "      <td>3.75</td>\n",
              "      <td>1</td>\n",
              "      <td>0</td>\n",
              "    </tr>\n",
              "  </tbody>\n",
              "</table>\n",
              "</div>\n",
              "    <div class=\"colab-df-buttons\">\n",
              "\n",
              "  <div class=\"colab-df-container\">\n",
              "    <button class=\"colab-df-convert\" onclick=\"convertToInteractive('df-4e0008fa-fbdc-499c-bb02-204aaf5d3321')\"\n",
              "            title=\"Convert this dataframe to an interactive table.\"\n",
              "            style=\"display:none;\">\n",
              "\n",
              "  <svg xmlns=\"http://www.w3.org/2000/svg\" height=\"24px\" viewBox=\"0 -960 960 960\">\n",
              "    <path d=\"M120-120v-720h720v720H120Zm60-500h600v-160H180v160Zm220 220h160v-160H400v160Zm0 220h160v-160H400v160ZM180-400h160v-160H180v160Zm440 0h160v-160H620v160ZM180-180h160v-160H180v160Zm440 0h160v-160H620v160Z\"/>\n",
              "  </svg>\n",
              "    </button>\n",
              "\n",
              "  <style>\n",
              "    .colab-df-container {\n",
              "      display:flex;\n",
              "      gap: 12px;\n",
              "    }\n",
              "\n",
              "    .colab-df-convert {\n",
              "      background-color: #E8F0FE;\n",
              "      border: none;\n",
              "      border-radius: 50%;\n",
              "      cursor: pointer;\n",
              "      display: none;\n",
              "      fill: #1967D2;\n",
              "      height: 32px;\n",
              "      padding: 0 0 0 0;\n",
              "      width: 32px;\n",
              "    }\n",
              "\n",
              "    .colab-df-convert:hover {\n",
              "      background-color: #E2EBFA;\n",
              "      box-shadow: 0px 1px 2px rgba(60, 64, 67, 0.3), 0px 1px 3px 1px rgba(60, 64, 67, 0.15);\n",
              "      fill: #174EA6;\n",
              "    }\n",
              "\n",
              "    .colab-df-buttons div {\n",
              "      margin-bottom: 4px;\n",
              "    }\n",
              "\n",
              "    [theme=dark] .colab-df-convert {\n",
              "      background-color: #3B4455;\n",
              "      fill: #D2E3FC;\n",
              "    }\n",
              "\n",
              "    [theme=dark] .colab-df-convert:hover {\n",
              "      background-color: #434B5C;\n",
              "      box-shadow: 0px 1px 3px 1px rgba(0, 0, 0, 0.15);\n",
              "      filter: drop-shadow(0px 1px 2px rgba(0, 0, 0, 0.3));\n",
              "      fill: #FFFFFF;\n",
              "    }\n",
              "  </style>\n",
              "\n",
              "    <script>\n",
              "      const buttonEl =\n",
              "        document.querySelector('#df-4e0008fa-fbdc-499c-bb02-204aaf5d3321 button.colab-df-convert');\n",
              "      buttonEl.style.display =\n",
              "        google.colab.kernel.accessAllowed ? 'block' : 'none';\n",
              "\n",
              "      async function convertToInteractive(key) {\n",
              "        const element = document.querySelector('#df-4e0008fa-fbdc-499c-bb02-204aaf5d3321');\n",
              "        const dataTable =\n",
              "          await google.colab.kernel.invokeFunction('convertToInteractive',\n",
              "                                                    [key], {});\n",
              "        if (!dataTable) return;\n",
              "\n",
              "        const docLinkHtml = 'Like what you see? Visit the ' +\n",
              "          '<a target=\"_blank\" href=https://colab.research.google.com/notebooks/data_table.ipynb>data table notebook</a>'\n",
              "          + ' to learn more about interactive tables.';\n",
              "        element.innerHTML = '';\n",
              "        dataTable['output_type'] = 'display_data';\n",
              "        await google.colab.output.renderOutput(dataTable, element);\n",
              "        const docLink = document.createElement('div');\n",
              "        docLink.innerHTML = docLinkHtml;\n",
              "        element.appendChild(docLink);\n",
              "      }\n",
              "    </script>\n",
              "  </div>\n",
              "\n",
              "\n",
              "<div id=\"df-3b4052ba-4300-4d8a-904c-d1b5fd820658\">\n",
              "  <button class=\"colab-df-quickchart\" onclick=\"quickchart('df-3b4052ba-4300-4d8a-904c-d1b5fd820658')\"\n",
              "            title=\"Suggest charts\"\n",
              "            style=\"display:none;\">\n",
              "\n",
              "<svg xmlns=\"http://www.w3.org/2000/svg\" height=\"24px\"viewBox=\"0 0 24 24\"\n",
              "     width=\"24px\">\n",
              "    <g>\n",
              "        <path d=\"M19 3H5c-1.1 0-2 .9-2 2v14c0 1.1.9 2 2 2h14c1.1 0 2-.9 2-2V5c0-1.1-.9-2-2-2zM9 17H7v-7h2v7zm4 0h-2V7h2v10zm4 0h-2v-4h2v4z\"/>\n",
              "    </g>\n",
              "</svg>\n",
              "  </button>\n",
              "\n",
              "<style>\n",
              "  .colab-df-quickchart {\n",
              "      --bg-color: #E8F0FE;\n",
              "      --fill-color: #1967D2;\n",
              "      --hover-bg-color: #E2EBFA;\n",
              "      --hover-fill-color: #174EA6;\n",
              "      --disabled-fill-color: #AAA;\n",
              "      --disabled-bg-color: #DDD;\n",
              "  }\n",
              "\n",
              "  [theme=dark] .colab-df-quickchart {\n",
              "      --bg-color: #3B4455;\n",
              "      --fill-color: #D2E3FC;\n",
              "      --hover-bg-color: #434B5C;\n",
              "      --hover-fill-color: #FFFFFF;\n",
              "      --disabled-bg-color: #3B4455;\n",
              "      --disabled-fill-color: #666;\n",
              "  }\n",
              "\n",
              "  .colab-df-quickchart {\n",
              "    background-color: var(--bg-color);\n",
              "    border: none;\n",
              "    border-radius: 50%;\n",
              "    cursor: pointer;\n",
              "    display: none;\n",
              "    fill: var(--fill-color);\n",
              "    height: 32px;\n",
              "    padding: 0;\n",
              "    width: 32px;\n",
              "  }\n",
              "\n",
              "  .colab-df-quickchart:hover {\n",
              "    background-color: var(--hover-bg-color);\n",
              "    box-shadow: 0 1px 2px rgba(60, 64, 67, 0.3), 0 1px 3px 1px rgba(60, 64, 67, 0.15);\n",
              "    fill: var(--button-hover-fill-color);\n",
              "  }\n",
              "\n",
              "  .colab-df-quickchart-complete:disabled,\n",
              "  .colab-df-quickchart-complete:disabled:hover {\n",
              "    background-color: var(--disabled-bg-color);\n",
              "    fill: var(--disabled-fill-color);\n",
              "    box-shadow: none;\n",
              "  }\n",
              "\n",
              "  .colab-df-spinner {\n",
              "    border: 2px solid var(--fill-color);\n",
              "    border-color: transparent;\n",
              "    border-bottom-color: var(--fill-color);\n",
              "    animation:\n",
              "      spin 1s steps(1) infinite;\n",
              "  }\n",
              "\n",
              "  @keyframes spin {\n",
              "    0% {\n",
              "      border-color: transparent;\n",
              "      border-bottom-color: var(--fill-color);\n",
              "      border-left-color: var(--fill-color);\n",
              "    }\n",
              "    20% {\n",
              "      border-color: transparent;\n",
              "      border-left-color: var(--fill-color);\n",
              "      border-top-color: var(--fill-color);\n",
              "    }\n",
              "    30% {\n",
              "      border-color: transparent;\n",
              "      border-left-color: var(--fill-color);\n",
              "      border-top-color: var(--fill-color);\n",
              "      border-right-color: var(--fill-color);\n",
              "    }\n",
              "    40% {\n",
              "      border-color: transparent;\n",
              "      border-right-color: var(--fill-color);\n",
              "      border-top-color: var(--fill-color);\n",
              "    }\n",
              "    60% {\n",
              "      border-color: transparent;\n",
              "      border-right-color: var(--fill-color);\n",
              "    }\n",
              "    80% {\n",
              "      border-color: transparent;\n",
              "      border-right-color: var(--fill-color);\n",
              "      border-bottom-color: var(--fill-color);\n",
              "    }\n",
              "    90% {\n",
              "      border-color: transparent;\n",
              "      border-bottom-color: var(--fill-color);\n",
              "    }\n",
              "  }\n",
              "</style>\n",
              "\n",
              "  <script>\n",
              "    async function quickchart(key) {\n",
              "      const quickchartButtonEl =\n",
              "        document.querySelector('#' + key + ' button');\n",
              "      quickchartButtonEl.disabled = true;  // To prevent multiple clicks.\n",
              "      quickchartButtonEl.classList.add('colab-df-spinner');\n",
              "      try {\n",
              "        const charts = await google.colab.kernel.invokeFunction(\n",
              "            'suggestCharts', [key], {});\n",
              "      } catch (error) {\n",
              "        console.error('Error during call to suggestCharts:', error);\n",
              "      }\n",
              "      quickchartButtonEl.classList.remove('colab-df-spinner');\n",
              "      quickchartButtonEl.classList.add('colab-df-quickchart-complete');\n",
              "    }\n",
              "    (() => {\n",
              "      let quickchartButtonEl =\n",
              "        document.querySelector('#df-3b4052ba-4300-4d8a-904c-d1b5fd820658 button');\n",
              "      quickchartButtonEl.style.display =\n",
              "        google.colab.kernel.accessAllowed ? 'block' : 'none';\n",
              "    })();\n",
              "  </script>\n",
              "</div>\n",
              "\n",
              "    </div>\n",
              "  </div>\n"
            ],
            "application/vnd.google.colaboratory.intrinsic+json": {
              "type": "dataframe",
              "variable_name": "data",
              "summary": "{\n  \"name\": \"data\",\n  \"rows\": 2580,\n  \"fields\": [\n    {\n      \"column\": \"Review #\",\n      \"properties\": {\n        \"dtype\": \"number\",\n        \"std\": 744,\n        \"min\": 1,\n        \"max\": 2580,\n        \"num_unique_values\": 2580,\n        \"samples\": [\n          1771,\n          224,\n          1819\n        ],\n        \"semantic_type\": \"\",\n        \"description\": \"\"\n      }\n    },\n    {\n      \"column\": \"Brand\",\n      \"properties\": {\n        \"dtype\": \"category\",\n        \"num_unique_values\": 355,\n        \"samples\": [\n          \"Thai Choice\",\n          \"GGE\",\n          \"HoMyeonDang\"\n        ],\n        \"semantic_type\": \"\",\n        \"description\": \"\"\n      }\n    },\n    {\n      \"column\": \"Variety\",\n      \"properties\": {\n        \"dtype\": \"string\",\n        \"num_unique_values\": 2412,\n        \"samples\": [\n          \"Selera Pedas Hot Tomato Soup Flavor\",\n          \"Bowl Noodle Spicy Seafood\",\n          \"Jin Ramen (Hot Taste)\"\n        ],\n        \"semantic_type\": \"\",\n        \"description\": \"\"\n      }\n    },\n    {\n      \"column\": \"Style\",\n      \"properties\": {\n        \"dtype\": \"category\",\n        \"num_unique_values\": 7,\n        \"samples\": [\n          \"Cup\",\n          \"Pack\",\n          \"Can\"\n        ],\n        \"semantic_type\": \"\",\n        \"description\": \"\"\n      }\n    },\n    {\n      \"column\": \"Country\",\n      \"properties\": {\n        \"dtype\": \"category\",\n        \"num_unique_values\": 38,\n        \"samples\": [\n          \"Colombia\",\n          \"Poland\",\n          \"South Korea\"\n        ],\n        \"semantic_type\": \"\",\n        \"description\": \"\"\n      }\n    },\n    {\n      \"column\": \"Stars\",\n      \"properties\": {\n        \"dtype\": \"number\",\n        \"std\": 1.0153305948246303,\n        \"min\": 0.0,\n        \"max\": 5.0,\n        \"num_unique_values\": 42,\n        \"samples\": [\n          1.1,\n          3.25,\n          5.0\n        ],\n        \"semantic_type\": \"\",\n        \"description\": \"\"\n      }\n    },\n    {\n      \"column\": \"Rating\",\n      \"properties\": {\n        \"dtype\": \"number\",\n        \"std\": 0,\n        \"min\": 0,\n        \"max\": 1,\n        \"num_unique_values\": 2,\n        \"samples\": [\n          0,\n          1\n        ],\n        \"semantic_type\": \"\",\n        \"description\": \"\"\n      }\n    },\n    {\n      \"column\": \"Ever Top Ten\",\n      \"properties\": {\n        \"dtype\": \"number\",\n        \"std\": 0,\n        \"min\": 0,\n        \"max\": 1,\n        \"num_unique_values\": 2,\n        \"samples\": [\n          1,\n          0\n        ],\n        \"semantic_type\": \"\",\n        \"description\": \"\"\n      }\n    }\n  ]\n}"
            }
          },
          "metadata": {},
          "execution_count": 11
        }
      ]
    },
    {
      "cell_type": "markdown",
      "source": [
        "Los datos han sido limpiados y preparados:\n",
        "\n",
        "- La columna 'Stars' ha sido convertida a valores numéricos, con 'Unrated' tratado como null.\n",
        "- Los valores faltantes en 'Style' han sido imputados con la moda.\n",
        "- Se ha creado una nueva columna 'Rating' que clasifica el ramen como 'bueno' o 'malo' basado en las calificaciones ('Stars').\n",
        "- Se ha creado una nueva columna 'Ever Top Ten' con 1 y 0 para indicar si alguna vez el ramen ha estado dentro del top ten.\n",
        "- Se ha eliminado la columna 'Top Ten'.\n",
        "\n",
        "A continuación, procederemos con el preprocesamiento de los datos, incluyendo la codificación de variables categóricas y la normalización de características, seguido de la división en conjuntos de entrenamiento y prueba."
      ],
      "metadata": {
        "id": "xPOQVCpLDIfx"
      }
    },
    {
      "cell_type": "markdown",
      "source": [
        "---\n",
        "**2. Realizar el preprocesamiento de los datos, incluyendo la normalización o estandarización de las características y codificación de variables categóricas.**"
      ],
      "metadata": {
        "id": "nu8O0_e7KuOM"
      }
    },
    {
      "cell_type": "markdown",
      "source": [
        "Ahora que hemos finalizado el análsis exploratorio de los datos comenzaremos con el preprocesamiento. Lo primero que haremos será definir el target,  codificar las variables categóricas y normalizar las variables numéricas."
      ],
      "metadata": {
        "id": "s-4o4ympmd4A"
      }
    },
    {
      "cell_type": "code",
      "source": [
        "data.info()"
      ],
      "metadata": {
        "colab": {
          "base_uri": "https://localhost:8080/"
        },
        "id": "8RhiOxpVE6DI",
        "outputId": "c43d3adb-a1b8-4b14-d16c-2d7b02d31252"
      },
      "execution_count": 13,
      "outputs": [
        {
          "output_type": "stream",
          "name": "stdout",
          "text": [
            "<class 'pandas.core.frame.DataFrame'>\n",
            "RangeIndex: 2580 entries, 0 to 2579\n",
            "Data columns (total 8 columns):\n",
            " #   Column        Non-Null Count  Dtype  \n",
            "---  ------        --------------  -----  \n",
            " 0   Review #      2580 non-null   int64  \n",
            " 1   Brand         2580 non-null   object \n",
            " 2   Variety       2580 non-null   object \n",
            " 3   Style         2580 non-null   object \n",
            " 4   Country       2580 non-null   object \n",
            " 5   Stars         2577 non-null   float64\n",
            " 6   Rating        2580 non-null   int64  \n",
            " 7   Ever Top Ten  2580 non-null   int64  \n",
            "dtypes: float64(1), int64(3), object(4)\n",
            "memory usage: 161.4+ KB\n"
          ]
        }
      ]
    },
    {
      "cell_type": "code",
      "source": [
        "# Seleccionar características relevantes y la etiqueta\n",
        "features = data[['Brand', 'Variety', 'Style', 'Country', 'Ever Top Ten']]\n",
        "target = data['Rating']\n",
        "\n",
        "# Codificar la etiqueta 'Rating' a valores numéricos\n",
        "label_encoder = LabelEncoder()\n",
        "target_encoded = label_encoder.fit_transform(target)\n",
        "\n",
        "# Definir el preprocesador para manejar características categóricas\n",
        "preprocessor = ColumnTransformer(\n",
        "    transformers=[\n",
        "        ('num', StandardScaler(), []),\n",
        "        ('cat', Pipeline(steps=[\n",
        "            ('imputer', SimpleImputer(strategy='constant', fill_value='missing')),\n",
        "            ('onehot', OneHotEncoder(handle_unknown='ignore'))\n",
        "        ]), features.columns)\n",
        "    ])"
      ],
      "metadata": {
        "id": "QG7gmiL41Yvh"
      },
      "execution_count": 15,
      "outputs": []
    },
    {
      "cell_type": "markdown",
      "source": [
        "Ahora que ya hemos preprocesado las variables vamos a avanzar hacia la construcción de los modelos, para ello, comenzamos por separar los conjuntos de datos.."
      ],
      "metadata": {
        "id": "0uj02x2Cm1PR"
      }
    },
    {
      "cell_type": "markdown",
      "source": [
        "---\n",
        "**3. Dividir los datos en conjuntos de entrenamiento y prueba y entrenar dos modelos de clasificación: uno utilizando Regresión Logística y otro utilizando Support Vector Machine (SVM). Estos modelos servirán para determinar si un paquete de ramen es \"bueno\" o \"malo\" en función de las características proporcionadas y realiza una búsqueda de hiperparámetros.**"
      ],
      "metadata": {
        "id": "rkzvKKcyMO3-"
      }
    },
    {
      "cell_type": "code",
      "source": [
        "# Dividir los datos en conjuntos de entrenamiento y prueba\n",
        "X_train, X_test, y_train, y_test = train_test_split(features, target_encoded, test_size=0.2, random_state=42)\n",
        "\n",
        "# Aplicar el preprocesamiento a los conjuntos de datos de entrenamiento y prueba\n",
        "X_train_transformed = preprocessor.fit_transform(X_train)\n",
        "X_test_transformed = preprocessor.transform(X_test)\n",
        "\n",
        "X_train_transformed.shape, X_test_transformed.shape"
      ],
      "metadata": {
        "id": "q8w8Acgnkwdb",
        "colab": {
          "base_uri": "https://localhost:8080/"
        },
        "outputId": "8fcc103a-53ae-40e2-82fc-1276374bed3c"
      },
      "execution_count": 16,
      "outputs": [
        {
          "output_type": "execute_result",
          "data": {
            "text/plain": [
              "((2064, 2331), (516, 2331))"
            ]
          },
          "metadata": {},
          "execution_count": 16
        }
      ]
    },
    {
      "cell_type": "code",
      "source": [
        "# Definir modelos\n",
        "logistic_model = LogisticRegression(max_iter=1000, random_state=42)\n",
        "svm_model = SVC(probability=True, random_state=42)\n",
        "\n",
        "# Definir hiperparámetros para la búsqueda\n",
        "logistic_params = {'C': [0.1, 1, 10, 100]}\n",
        "svm_params = {'C': [0.1, 1, 10, 100], 'kernel': ['linear', 'rbf']}\n",
        "\n",
        "# Búsqueda de hiperparámetros con validación cruzada\n",
        "logistic_search = GridSearchCV(logistic_model, logistic_params, cv=5, scoring='accuracy')\n",
        "svm_search = GridSearchCV(svm_model, svm_params, cv=5, scoring='accuracy')\n",
        "\n",
        "# Entrenar modelos y buscar los mejores hiperparámetros\n",
        "logistic_search.fit(X_train_transformed, y_train)\n",
        "svm_search.fit(X_train_transformed, y_train)\n",
        "\n",
        "# Evaluar los modelos en el conjunto de prueba\n",
        "logistic_pred = logistic_search.predict(X_test_transformed)\n",
        "svm_pred = svm_search.predict(X_test_transformed)\n",
        "\n",
        "# Eliminar 'target_names' ya que estamos usando valores numéricos (0 y 1)\n",
        "logistic_report = classification_report(y_test, logistic_pred)\n",
        "svm_report = classification_report(y_test, svm_pred)\n",
        "\n",
        "# Calcular AUC-ROC\n",
        "logistic_auc = roc_auc_score(y_test, logistic_search.predict_proba(X_test_transformed)[:, 1])\n",
        "svm_auc = roc_auc_score(y_test, svm_search.predict_proba(X_test_transformed)[:, 1])\n",
        "\n",
        "logistic_report, svm_report, logistic_auc, svm_auc"
      ],
      "metadata": {
        "colab": {
          "base_uri": "https://localhost:8080/"
        },
        "id": "zOyArFxPozlw",
        "outputId": "9bd5e810-baca-4d54-c6ae-2c2892ad41c7"
      },
      "execution_count": 18,
      "outputs": [
        {
          "output_type": "execute_result",
          "data": {
            "text/plain": [
              "('              precision    recall  f1-score   support\\n\\n           0       0.56      0.06      0.11        80\\n           1       0.85      0.99      0.92       436\\n\\n    accuracy                           0.85       516\\n   macro avg       0.70      0.53      0.51       516\\nweighted avg       0.81      0.85      0.79       516\\n',\n",
              " '              precision    recall  f1-score   support\\n\\n           0       0.78      0.09      0.16        80\\n           1       0.86      1.00      0.92       436\\n\\n    accuracy                           0.85       516\\n   macro avg       0.82      0.54      0.54       516\\nweighted avg       0.84      0.85      0.80       516\\n',\n",
              " 0.768119266055046,\n",
              " 0.751834862385321)"
            ]
          },
          "metadata": {},
          "execution_count": 18
        }
      ]
    },
    {
      "cell_type": "markdown",
      "source": [
        "---\n",
        "**4. Evaluar el rendimiento de ambos modelos utilizando métricas relevantes para problemas de clasificación, como precisión, recall, F1-score y el área bajo la curva ROC (AUC-ROC). A partir de esto, debes comparar y analizar los resultados obtenidos por cada modelo para determinar cuál es más adecuado para este problema específico.**"
      ],
      "metadata": {
        "id": "CE2VuIP9MkSk"
      }
    },
    {
      "cell_type": "code",
      "source": [
        "# Evaluar los modelos en el conjunto de prueba\n",
        "logistic_pred = logistic_search.predict(X_test_transformed)\n",
        "svm_pred = svm_search.predict(X_test_transformed)\n",
        "\n",
        "# Como ahora no utilizamos target_names, no necesitamos especificar nombres de clase\n",
        "logistic_report = classification_report(y_test, logistic_pred)\n",
        "svm_report = classification_report(y_test, svm_pred)\n",
        "\n",
        "# Calcular AUC-ROC si es necesario\n",
        "logistic_auc = roc_auc_score(y_test, logistic_search.predict_proba(X_test_transformed)[:, 1])\n",
        "svm_auc = roc_auc_score(y_test, svm_search.predict_proba(X_test_transformed)[:, 1])\n",
        "\n",
        "print(\"Logistic Regression Report:\\n\", logistic_report)\n",
        "print(\"SVM Report:\\n\", svm_report)\n",
        "print(\"Logistic Regression AUC-ROC:\", logistic_auc)\n",
        "print(\"SVM AUC-ROC:\", svm_auc)"
      ],
      "metadata": {
        "id": "3jSaDjyfqYPq",
        "colab": {
          "base_uri": "https://localhost:8080/"
        },
        "outputId": "31a9408c-b5fc-438a-b4e5-9c87184224b8"
      },
      "execution_count": 19,
      "outputs": [
        {
          "output_type": "stream",
          "name": "stdout",
          "text": [
            "Logistic Regression Report:\n",
            "               precision    recall  f1-score   support\n",
            "\n",
            "           0       0.56      0.06      0.11        80\n",
            "           1       0.85      0.99      0.92       436\n",
            "\n",
            "    accuracy                           0.85       516\n",
            "   macro avg       0.70      0.53      0.51       516\n",
            "weighted avg       0.81      0.85      0.79       516\n",
            "\n",
            "SVM Report:\n",
            "               precision    recall  f1-score   support\n",
            "\n",
            "           0       0.78      0.09      0.16        80\n",
            "           1       0.86      1.00      0.92       436\n",
            "\n",
            "    accuracy                           0.85       516\n",
            "   macro avg       0.82      0.54      0.54       516\n",
            "weighted avg       0.84      0.85      0.80       516\n",
            "\n",
            "Logistic Regression AUC-ROC: 0.768119266055046\n",
            "SVM AUC-ROC: 0.751834862385321\n"
          ]
        }
      ]
    },
    {
      "cell_type": "code",
      "source": [
        "# Get confusion matrices\n",
        "conf_matrix_logistic = confusion_matrix(y_test, logistic_pred)\n",
        "conf_matrix_svm = confusion_matrix(y_test, svm_pred)\n",
        "\n",
        "# Plot confusion matrices\n",
        "fig, ax = plt.subplots(1, 2, figsize=(12, 6))\n",
        "\n",
        "sns.heatmap(conf_matrix_logistic, annot=True, fmt='d', cmap='Blues', ax=ax[0])\n",
        "ax[0].set_title('Logistic Regression Confusion Matrix')\n",
        "ax[0].set_xlabel('Predicted')\n",
        "ax[0].set_ylabel('Actual')\n",
        "\n",
        "sns.heatmap(conf_matrix_svm, annot=True, fmt='d', cmap='Greens', ax=ax[1])\n",
        "ax[1].set_title('Support Vector Machine Confusion Matrix')\n",
        "ax[1].set_xlabel('Predicted')\n",
        "ax[1].set_ylabel('Actual')\n",
        "\n",
        "plt.tight_layout()\n",
        "plt.show()"
      ],
      "metadata": {
        "colab": {
          "base_uri": "https://localhost:8080/",
          "height": 607
        },
        "id": "TOzSquZALrH4",
        "outputId": "4abb88ea-e86a-4535-f2f6-72df76d01941"
      },
      "execution_count": 20,
      "outputs": [
        {
          "output_type": "display_data",
          "data": {
            "text/plain": [
              "<Figure size 1200x600 with 4 Axes>"
            ],
            "image/png": "[encoded data removed]"
          },
          "metadata": {}
        }
      ]
    },
    {
      "cell_type": "markdown",
      "source": [
        "Aquí tenemos las matrices de confusión para los dos modelos:\n",
        "\n",
        "- Regresión Logística: Muestra un buen equilibrio entre verdaderos positivos y verdaderos negativos, con menos falsos negativos y falsos positivos.\n",
        "\n",
        "- Support Vector Machine: Presenta un menor número de falsos negativos y falsos positivos en comparación con la regresión logística, lo que indica un desempeño más consistente en identificar correctamente ambas clases.\n",
        "\n",
        "Basado en estas matrices de confusión y las métricas de cada modelo y considerando el objetivo de maximizar la clasificación de ramen buenos, SVM parece tener el mejor desempeño."
      ],
      "metadata": {
        "id": "p3wNJnCLp-XN"
      }
    }
  ]
}