{
  "nbformat": 4,
  "nbformat_minor": 0,
  "metadata": {
    "colab": {
      "provenance": [],
      "authorship_tag": "ABX9TyM16yarJS59eMsBKmrH2AOV",
      "include_colab_link": true
    },
    "kernelspec": {
      "name": "python3",
      "display_name": "Python 3"
    },
    "language_info": {
      "name": "python"
    }
  },
  "cells": [
    {
      "cell_type": "markdown",
      "metadata": {
        "id": "view-in-github",
        "colab_type": "text"
      },
      "source": [
        "<a href=\"https://colab.research.google.com/github/molinacle/desafio_latam/blob/main/Desaf%C3%ADo_Latam_Desaf%C3%ADo_1_Estad%C3%ADstica.ipynb\" target=\"_parent\"><img src=\"https://colab.research.google.com/assets/colab-badge.svg\" alt=\"Open In Colab\"/></a>"
      ]
    },
    {
      "cell_type": "markdown",
      "source": [
        "**DESAFÍO LATAM - DESAFÍO 2**\n",
        "---\n",
        "\n",
        "*   ALUMNO: SEBASTIÁN MOLINA\n",
        "*   MODULO: ESTADÍSTICA DESCRIPTIVA Y PROBABILIDAD\n",
        "*   CARRERA: DATA SCIENCE"
      ],
      "metadata": {
        "id": "xYBQZgwbC47j"
      }
    },
    {
      "cell_type": "markdown",
      "source": [
        "###Experimento:###\n",
        "Una casa de apuestas quiere perfeccionar sus modelos de estimaciones de factores de\n",
        "apuestas, por lo que quiere hacer una revisión sobre los resultados del Mundial 2014.\n",
        "Para resolver este desafío deberás cargar datos desde el dataset worldcup2014.csv, y\n",
        "realizar las operaciones necesarias para determinar lo pedido."
      ],
      "metadata": {
        "id": "qeR_ktxvCrxo"
      }
    },
    {
      "cell_type": "markdown",
      "source": [
        "###Pregunta 1###\n",
        "Considerando el experimento de seleccionar un país participante al azar, se pide determinar las probabilidades de los siguientes sucesos:\n",
        "- a. pertenecer a África\n",
        "- b. pertenecer a Asia\n",
        "- c. pertenecer a Europa\n",
        "- d. pertenecer a Norteamérica\n",
        "- e. pertenecer a Sudamérica\n",
        "- f. clasificar a segunda ronda\n",
        "- g. ganar al menos un partido\n",
        "- h. pertenecer a África y clasificar a segunda ronda\n",
        "- i. pertenecer a Europa y clasificar a segunda ronda\n",
        "- j. pertenecer a Asia y clasificar a segunda ronda\n",
        "- k. pertenecer a Sudamérica y clasificar a segunda ronda\n",
        "- l. pertenecer a Norteamérica y clasificar a segunda ronda\n",
        "- m. pertenecer a África o clasificar a segunda ronda\n",
        "- n. pertenecer a Europa o clasificar a segunda ronda\n",
        "- o. pertenecer a Asia o clasificar a segunda ronda\n",
        "- p. pertenecer a Sudamérica o clasificar a segunda ronda\n",
        "- q. pertenecer a Norteamérica o clasificar a segunda ronda\n",
        "- r. pertenecer a África y haber ganado al menos un partido\n",
        "- s. pertenecer a Europa y haber ganado al menos un partido\n",
        "- t. pertenecer a Asia y haber ganado al menos un partido\n",
        "- u. pertenecer a Sudamérica y haber ganado al menos un partido\n",
        "- v. pertenecer a Norteamérica y haber ganado al menos un partido\n",
        "- w. haber ganado al menos un partido y clasificar a segunda ronda"
      ],
      "metadata": {
        "id": "OBdCqfdDfL_1"
      }
    },
    {
      "cell_type": "code",
      "source": [
        "# Importación de librerías y datos.\n",
        "\n",
        "import pandas as pd"
      ],
      "metadata": {
        "id": "fnEOyjBtDB9p"
      },
      "execution_count": 2,
      "outputs": []
    },
    {
      "cell_type": "code",
      "source": [
        "# Cargar el dataset\n",
        "\n",
        "df = pd.read_csv('worldcup2014.csv')\n",
        "df.head()"
      ],
      "metadata": {
        "colab": {
          "base_uri": "https://localhost:8080/",
          "height": 226
        },
        "id": "WV4qm3XiDFA_",
        "outputId": "1ea7fef8-2b49-4d90-8af8-56727fcf09b0"
      },
      "execution_count": 4,
      "outputs": [
        {
          "output_type": "execute_result",
          "data": {
            "text/plain": [
              "          team     continent group  group_pos  cantidad_juegos  \\\n",
              "0       Brazil  southamerica     A          1                3   \n",
              "1       Mexico  northamerica     A          2                3   \n",
              "2      Croatia        europe     A          3                3   \n",
              "3     Cameroon        africa     A          4                3   \n",
              "4  Netherlands        europe     B          1                3   \n",
              "\n",
              "   juegos_ganados  juegos_empatados  juegos_perdidos  goles_favor  \\\n",
              "0               2                 1                0            7   \n",
              "1               2                 1                0            4   \n",
              "2               1                 0                2            6   \n",
              "3               0                 0                3            1   \n",
              "4               3                 0                0           10   \n",
              "\n",
              "   goles_contra goles_diferencia  puntos  clasificado  \n",
              "0             2                5       7            1  \n",
              "1             1                3       7            1  \n",
              "2             6                0       3            0  \n",
              "3             9               −8       0            0  \n",
              "4             3                7       9            1  "
            ],
            "text/html": [
              "\n",
              "  <div id=\"df-3f6367cd-4d0b-4d3d-8152-393d898320b5\" class=\"colab-df-container\">\n",
              "    <div>\n",
              "<style scoped>\n",
              "    .dataframe tbody tr th:only-of-type {\n",
              "        vertical-align: middle;\n",
              "    }\n",
              "\n",
              "    .dataframe tbody tr th {\n",
              "        vertical-align: top;\n",
              "    }\n",
              "\n",
              "    .dataframe thead th {\n",
              "        text-align: right;\n",
              "    }\n",
              "</style>\n",
              "<table border=\"1\" class=\"dataframe\">\n",
              "  <thead>\n",
              "    <tr style=\"text-align: right;\">\n",
              "      <th></th>\n",
              "      <th>team</th>\n",
              "      <th>continent</th>\n",
              "      <th>group</th>\n",
              "      <th>group_pos</th>\n",
              "      <th>cantidad_juegos</th>\n",
              "      <th>juegos_ganados</th>\n",
              "      <th>juegos_empatados</th>\n",
              "      <th>juegos_perdidos</th>\n",
              "      <th>goles_favor</th>\n",
              "      <th>goles_contra</th>\n",
              "      <th>goles_diferencia</th>\n",
              "      <th>puntos</th>\n",
              "      <th>clasificado</th>\n",
              "    </tr>\n",
              "  </thead>\n",
              "  <tbody>\n",
              "    <tr>\n",
              "      <th>0</th>\n",
              "      <td>Brazil</td>\n",
              "      <td>southamerica</td>\n",
              "      <td>A</td>\n",
              "      <td>1</td>\n",
              "      <td>3</td>\n",
              "      <td>2</td>\n",
              "      <td>1</td>\n",
              "      <td>0</td>\n",
              "      <td>7</td>\n",
              "      <td>2</td>\n",
              "      <td>5</td>\n",
              "      <td>7</td>\n",
              "      <td>1</td>\n",
              "    </tr>\n",
              "    <tr>\n",
              "      <th>1</th>\n",
              "      <td>Mexico</td>\n",
              "      <td>northamerica</td>\n",
              "      <td>A</td>\n",
              "      <td>2</td>\n",
              "      <td>3</td>\n",
              "      <td>2</td>\n",
              "      <td>1</td>\n",
              "      <td>0</td>\n",
              "      <td>4</td>\n",
              "      <td>1</td>\n",
              "      <td>3</td>\n",
              "      <td>7</td>\n",
              "      <td>1</td>\n",
              "    </tr>\n",
              "    <tr>\n",
              "      <th>2</th>\n",
              "      <td>Croatia</td>\n",
              "      <td>europe</td>\n",
              "      <td>A</td>\n",
              "      <td>3</td>\n",
              "      <td>3</td>\n",
              "      <td>1</td>\n",
              "      <td>0</td>\n",
              "      <td>2</td>\n",
              "      <td>6</td>\n",
              "      <td>6</td>\n",
              "      <td>0</td>\n",
              "      <td>3</td>\n",
              "      <td>0</td>\n",
              "    </tr>\n",
              "    <tr>\n",
              "      <th>3</th>\n",
              "      <td>Cameroon</td>\n",
              "      <td>africa</td>\n",
              "      <td>A</td>\n",
              "      <td>4</td>\n",
              "      <td>3</td>\n",
              "      <td>0</td>\n",
              "      <td>0</td>\n",
              "      <td>3</td>\n",
              "      <td>1</td>\n",
              "      <td>9</td>\n",
              "      <td>−8</td>\n",
              "      <td>0</td>\n",
              "      <td>0</td>\n",
              "    </tr>\n",
              "    <tr>\n",
              "      <th>4</th>\n",
              "      <td>Netherlands</td>\n",
              "      <td>europe</td>\n",
              "      <td>B</td>\n",
              "      <td>1</td>\n",
              "      <td>3</td>\n",
              "      <td>3</td>\n",
              "      <td>0</td>\n",
              "      <td>0</td>\n",
              "      <td>10</td>\n",
              "      <td>3</td>\n",
              "      <td>7</td>\n",
              "      <td>9</td>\n",
              "      <td>1</td>\n",
              "    </tr>\n",
              "  </tbody>\n",
              "</table>\n",
              "</div>\n",
              "    <div class=\"colab-df-buttons\">\n",
              "\n",
              "  <div class=\"colab-df-container\">\n",
              "    <button class=\"colab-df-convert\" onclick=\"convertToInteractive('df-3f6367cd-4d0b-4d3d-8152-393d898320b5')\"\n",
              "            title=\"Convert this dataframe to an interactive table.\"\n",
              "            style=\"display:none;\">\n",
              "\n",
              "  <svg xmlns=\"http://www.w3.org/2000/svg\" height=\"24px\" viewBox=\"0 -960 960 960\">\n",
              "    <path d=\"M120-120v-720h720v720H120Zm60-500h600v-160H180v160Zm220 220h160v-160H400v160Zm0 220h160v-160H400v160ZM180-400h160v-160H180v160Zm440 0h160v-160H620v160ZM180-180h160v-160H180v160Zm440 0h160v-160H620v160Z\"/>\n",
              "  </svg>\n",
              "    </button>\n",
              "\n",
              "  <style>\n",
              "    .colab-df-container {\n",
              "      display:flex;\n",
              "      gap: 12px;\n",
              "    }\n",
              "\n",
              "    .colab-df-convert {\n",
              "      background-color: #E8F0FE;\n",
              "      border: none;\n",
              "      border-radius: 50%;\n",
              "      cursor: pointer;\n",
              "      display: none;\n",
              "      fill: #1967D2;\n",
              "      height: 32px;\n",
              "      padding: 0 0 0 0;\n",
              "      width: 32px;\n",
              "    }\n",
              "\n",
              "    .colab-df-convert:hover {\n",
              "      background-color: #E2EBFA;\n",
              "      box-shadow: 0px 1px 2px rgba(60, 64, 67, 0.3), 0px 1px 3px 1px rgba(60, 64, 67, 0.15);\n",
              "      fill: #174EA6;\n",
              "    }\n",
              "\n",
              "    .colab-df-buttons div {\n",
              "      margin-bottom: 4px;\n",
              "    }\n",
              "\n",
              "    [theme=dark] .colab-df-convert {\n",
              "      background-color: #3B4455;\n",
              "      fill: #D2E3FC;\n",
              "    }\n",
              "\n",
              "    [theme=dark] .colab-df-convert:hover {\n",
              "      background-color: #434B5C;\n",
              "      box-shadow: 0px 1px 3px 1px rgba(0, 0, 0, 0.15);\n",
              "      filter: drop-shadow(0px 1px 2px rgba(0, 0, 0, 0.3));\n",
              "      fill: #FFFFFF;\n",
              "    }\n",
              "  </style>\n",
              "\n",
              "    <script>\n",
              "      const buttonEl =\n",
              "        document.querySelector('#df-3f6367cd-4d0b-4d3d-8152-393d898320b5 button.colab-df-convert');\n",
              "      buttonEl.style.display =\n",
              "        google.colab.kernel.accessAllowed ? 'block' : 'none';\n",
              "\n",
              "      async function convertToInteractive(key) {\n",
              "        const element = document.querySelector('#df-3f6367cd-4d0b-4d3d-8152-393d898320b5');\n",
              "        const dataTable =\n",
              "          await google.colab.kernel.invokeFunction('convertToInteractive',\n",
              "                                                    [key], {});\n",
              "        if (!dataTable) return;\n",
              "\n",
              "        const docLinkHtml = 'Like what you see? Visit the ' +\n",
              "          '<a target=\"_blank\" href=https://colab.research.google.com/notebooks/data_table.ipynb>data table notebook</a>'\n",
              "          + ' to learn more about interactive tables.';\n",
              "        element.innerHTML = '';\n",
              "        dataTable['output_type'] = 'display_data';\n",
              "        await google.colab.output.renderOutput(dataTable, element);\n",
              "        const docLink = document.createElement('div');\n",
              "        docLink.innerHTML = docLinkHtml;\n",
              "        element.appendChild(docLink);\n",
              "      }\n",
              "    </script>\n",
              "  </div>\n",
              "\n",
              "\n",
              "<div id=\"df-b376e415-cf85-4484-aff7-26336372492c\">\n",
              "  <button class=\"colab-df-quickchart\" onclick=\"quickchart('df-b376e415-cf85-4484-aff7-26336372492c')\"\n",
              "            title=\"Suggest charts\"\n",
              "            style=\"display:none;\">\n",
              "\n",
              "<svg xmlns=\"http://www.w3.org/2000/svg\" height=\"24px\"viewBox=\"0 0 24 24\"\n",
              "     width=\"24px\">\n",
              "    <g>\n",
              "        <path d=\"M19 3H5c-1.1 0-2 .9-2 2v14c0 1.1.9 2 2 2h14c1.1 0 2-.9 2-2V5c0-1.1-.9-2-2-2zM9 17H7v-7h2v7zm4 0h-2V7h2v10zm4 0h-2v-4h2v4z\"/>\n",
              "    </g>\n",
              "</svg>\n",
              "  </button>\n",
              "\n",
              "<style>\n",
              "  .colab-df-quickchart {\n",
              "      --bg-color: #E8F0FE;\n",
              "      --fill-color: #1967D2;\n",
              "      --hover-bg-color: #E2EBFA;\n",
              "      --hover-fill-color: #174EA6;\n",
              "      --disabled-fill-color: #AAA;\n",
              "      --disabled-bg-color: #DDD;\n",
              "  }\n",
              "\n",
              "  [theme=dark] .colab-df-quickchart {\n",
              "      --bg-color: #3B4455;\n",
              "      --fill-color: #D2E3FC;\n",
              "      --hover-bg-color: #434B5C;\n",
              "      --hover-fill-color: #FFFFFF;\n",
              "      --disabled-bg-color: #3B4455;\n",
              "      --disabled-fill-color: #666;\n",
              "  }\n",
              "\n",
              "  .colab-df-quickchart {\n",
              "    background-color: var(--bg-color);\n",
              "    border: none;\n",
              "    border-radius: 50%;\n",
              "    cursor: pointer;\n",
              "    display: none;\n",
              "    fill: var(--fill-color);\n",
              "    height: 32px;\n",
              "    padding: 0;\n",
              "    width: 32px;\n",
              "  }\n",
              "\n",
              "  .colab-df-quickchart:hover {\n",
              "    background-color: var(--hover-bg-color);\n",
              "    box-shadow: 0 1px 2px rgba(60, 64, 67, 0.3), 0 1px 3px 1px rgba(60, 64, 67, 0.15);\n",
              "    fill: var(--button-hover-fill-color);\n",
              "  }\n",
              "\n",
              "  .colab-df-quickchart-complete:disabled,\n",
              "  .colab-df-quickchart-complete:disabled:hover {\n",
              "    background-color: var(--disabled-bg-color);\n",
              "    fill: var(--disabled-fill-color);\n",
              "    box-shadow: none;\n",
              "  }\n",
              "\n",
              "  .colab-df-spinner {\n",
              "    border: 2px solid var(--fill-color);\n",
              "    border-color: transparent;\n",
              "    border-bottom-color: var(--fill-color);\n",
              "    animation:\n",
              "      spin 1s steps(1) infinite;\n",
              "  }\n",
              "\n",
              "  @keyframes spin {\n",
              "    0% {\n",
              "      border-color: transparent;\n",
              "      border-bottom-color: var(--fill-color);\n",
              "      border-left-color: var(--fill-color);\n",
              "    }\n",
              "    20% {\n",
              "      border-color: transparent;\n",
              "      border-left-color: var(--fill-color);\n",
              "      border-top-color: var(--fill-color);\n",
              "    }\n",
              "    30% {\n",
              "      border-color: transparent;\n",
              "      border-left-color: var(--fill-color);\n",
              "      border-top-color: var(--fill-color);\n",
              "      border-right-color: var(--fill-color);\n",
              "    }\n",
              "    40% {\n",
              "      border-color: transparent;\n",
              "      border-right-color: var(--fill-color);\n",
              "      border-top-color: var(--fill-color);\n",
              "    }\n",
              "    60% {\n",
              "      border-color: transparent;\n",
              "      border-right-color: var(--fill-color);\n",
              "    }\n",
              "    80% {\n",
              "      border-color: transparent;\n",
              "      border-right-color: var(--fill-color);\n",
              "      border-bottom-color: var(--fill-color);\n",
              "    }\n",
              "    90% {\n",
              "      border-color: transparent;\n",
              "      border-bottom-color: var(--fill-color);\n",
              "    }\n",
              "  }\n",
              "</style>\n",
              "\n",
              "  <script>\n",
              "    async function quickchart(key) {\n",
              "      const quickchartButtonEl =\n",
              "        document.querySelector('#' + key + ' button');\n",
              "      quickchartButtonEl.disabled = true;  // To prevent multiple clicks.\n",
              "      quickchartButtonEl.classList.add('colab-df-spinner');\n",
              "      try {\n",
              "        const charts = await google.colab.kernel.invokeFunction(\n",
              "            'suggestCharts', [key], {});\n",
              "      } catch (error) {\n",
              "        console.error('Error during call to suggestCharts:', error);\n",
              "      }\n",
              "      quickchartButtonEl.classList.remove('colab-df-spinner');\n",
              "      quickchartButtonEl.classList.add('colab-df-quickchart-complete');\n",
              "    }\n",
              "    (() => {\n",
              "      let quickchartButtonEl =\n",
              "        document.querySelector('#df-b376e415-cf85-4484-aff7-26336372492c button');\n",
              "      quickchartButtonEl.style.display =\n",
              "        google.colab.kernel.accessAllowed ? 'block' : 'none';\n",
              "    })();\n",
              "  </script>\n",
              "</div>\n",
              "\n",
              "    </div>\n",
              "  </div>\n"
            ]
          },
          "metadata": {},
          "execution_count": 4
        }
      ]
    },
    {
      "cell_type": "code",
      "source": [
        "# Total de equipos\n",
        "\n",
        "total_equipos = len(df)"
      ],
      "metadata": {
        "id": "t9BcDiUfDnfa"
      },
      "execution_count": 6,
      "outputs": []
    },
    {
      "cell_type": "code",
      "source": [
        "# a. Probabilidad de pertenecer a África\n",
        "\n",
        "prob_africa = len(df[df['continent'] == 'africa']) / total_equipos\n",
        "print(f'a. Probabilidad de pertenecer a África: {prob_africa}')"
      ],
      "metadata": {
        "colab": {
          "base_uri": "https://localhost:8080/"
        },
        "id": "Igh9SYohD5tL",
        "outputId": "e7857240-c001-4ab7-cb45-9da3647356a7"
      },
      "execution_count": 31,
      "outputs": [
        {
          "output_type": "stream",
          "name": "stdout",
          "text": [
            "a. Probabilidad de pertenecer a África: 0.15625\n"
          ]
        }
      ]
    },
    {
      "cell_type": "code",
      "source": [
        "# b. Probabilidad de pertenecer a Asia\n",
        "\n",
        "prob_asia = len(df[df['continent'] == 'asia']) / total_equipos\n",
        "print(f'b. Probabilidad de pertenecer a Asia: {prob_asia}')"
      ],
      "metadata": {
        "colab": {
          "base_uri": "https://localhost:8080/"
        },
        "id": "1uqvHz4BEdfF",
        "outputId": "46df1937-e80f-4a3d-c9f3-e773e6b36a96"
      },
      "execution_count": 32,
      "outputs": [
        {
          "output_type": "stream",
          "name": "stdout",
          "text": [
            "b. Probabilidad de pertenecer a Asia: 0.125\n"
          ]
        }
      ]
    },
    {
      "cell_type": "code",
      "source": [
        "# c. Probabilidad de pertenecer a Europa\n",
        "\n",
        "prob_europa = len(df[df['continent'] == 'europe']) / total_equipos\n",
        "print(f'c. Probabilidad de pertenecer a Europa: {prob_europa}')"
      ],
      "metadata": {
        "colab": {
          "base_uri": "https://localhost:8080/"
        },
        "id": "Em3p37bhExfh",
        "outputId": "529ea74e-b410-4b78-e92a-12801b94145c"
      },
      "execution_count": 33,
      "outputs": [
        {
          "output_type": "stream",
          "name": "stdout",
          "text": [
            "c. Probabilidad de pertenecer a Europa: 0.40625\n"
          ]
        }
      ]
    },
    {
      "cell_type": "code",
      "source": [
        "# d. Probabilidad de pertenecer a Norteamérica\n",
        "\n",
        "prob_norteamerica = len(df[df['continent'] == 'northamerica']) / total_equipos\n",
        "print(f'd. Probabilidad de pertenecer a Norteamérica: {prob_norteamerica}')"
      ],
      "metadata": {
        "colab": {
          "base_uri": "https://localhost:8080/"
        },
        "id": "Mc-2--akG9k6",
        "outputId": "09b8dcd7-4e7d-43f0-af55-18c68aacf853"
      },
      "execution_count": 34,
      "outputs": [
        {
          "output_type": "stream",
          "name": "stdout",
          "text": [
            "d. Probabilidad de pertenecer a Norteamérica: 0.125\n"
          ]
        }
      ]
    },
    {
      "cell_type": "code",
      "source": [
        "# e. Probabilidad de pertenecer a Sudamérica\n",
        "\n",
        "prob_sudamerica = len(df[df['continent'] == 'southamerica']) / total_equipos\n",
        "print(f'e. Probabilidad de pertenecer a Sudamérica:{prob_sudamerica}')"
      ],
      "metadata": {
        "colab": {
          "base_uri": "https://localhost:8080/"
        },
        "id": "of-BWbr5HZtF",
        "outputId": "8444d74f-35bf-4548-fe65-62e5a6d64051"
      },
      "execution_count": 35,
      "outputs": [
        {
          "output_type": "stream",
          "name": "stdout",
          "text": [
            "e. Probabilidad de pertenecer a Sudamérica:0.1875\n"
          ]
        }
      ]
    },
    {
      "cell_type": "code",
      "source": [
        "# f. Probabilidad de clasificar a segunda ronda\n",
        "\n",
        "prob_segunda_ronda = len(df[df['clasificado'] == 1]) / total_equipos\n",
        "print(f'f. Probabilidad de clasificar a segunda ronda: {prob_segunda_ronda}')"
      ],
      "metadata": {
        "colab": {
          "base_uri": "https://localhost:8080/"
        },
        "id": "mzJPkMPpIkLX",
        "outputId": "ec80292e-9d6b-4f8c-8eea-4832b122d552"
      },
      "execution_count": 36,
      "outputs": [
        {
          "output_type": "stream",
          "name": "stdout",
          "text": [
            "f. Probabilidad de clasificar a segunda ronda: 0.5\n"
          ]
        }
      ]
    },
    {
      "cell_type": "code",
      "source": [
        "# g. Probabilidad de ganar al menos un partido\n",
        "\n",
        "prob_ganar_al_menos_un_partido = juegos_ganados(0) / total_equipos\n",
        "print(f'g. Probabilidad de ganar al menos un partido: {prob_ganar_al_menos_un_partido}')"
      ],
      "metadata": {
        "colab": {
          "base_uri": "https://localhost:8080/"
        },
        "id": "xGNuFBuLIkEK",
        "outputId": "1eb2a9f2-3f58-42ab-f5f1-da382c130693"
      },
      "execution_count": 13,
      "outputs": [
        {
          "output_type": "stream",
          "name": "stdout",
          "text": [
            "g. Probabilidad de ganar al menos un partido: 0.71875\n"
          ]
        }
      ]
    },
    {
      "cell_type": "code",
      "source": [
        "# h. Probabilidad de pertenecer a África y clasificar a segunda ronda\n",
        "\n",
        "prob_africa_y_segunda_ronda =  len(df[(df['continent'] == 'africa') & (df['clasificado'] == 1)]) / total_equipos\n",
        "print(f'h. Probabilidad de pertenecer a África y clasificar a segunda ronda: {prob_africa_y_segunda_ronda}')"
      ],
      "metadata": {
        "colab": {
          "base_uri": "https://localhost:8080/"
        },
        "id": "AVEV70fWIj-s",
        "outputId": "35aeac78-760c-4c67-bf01-d117fdc9bbd0"
      },
      "execution_count": 40,
      "outputs": [
        {
          "output_type": "stream",
          "name": "stdout",
          "text": [
            "h. Probabilidad de pertenecer a África y clasificar a segunda ronda: 0.0625\n"
          ]
        }
      ]
    },
    {
      "cell_type": "code",
      "source": [
        "# i. Probabilidad de pertenecer a Europa y clasificar a segunda ronda\n",
        "\n",
        "prob_europa_y_segunda_ronda = len(df[(df['continent'] == 'europe') & (df['clasificado'] == 1)]) / total_equipos\n",
        "print(f'i. Probabilidad de pertenecer a Europa y clasificar a segunda ronda: {prob_europa_y_segunda_ronda}')"
      ],
      "metadata": {
        "colab": {
          "base_uri": "https://localhost:8080/"
        },
        "id": "Zj1DoatUIj3o",
        "outputId": "a017e51e-4c40-4b83-a120-77ad51333eab"
      },
      "execution_count": 41,
      "outputs": [
        {
          "output_type": "stream",
          "name": "stdout",
          "text": [
            "i. Probabilidad de pertenecer a Europa y clasificar a segunda ronda: 0.1875\n"
          ]
        }
      ]
    },
    {
      "cell_type": "code",
      "source": [
        "# j. Probabilidad de pertenecer a Asia y clasificar a segunda ronda\n",
        "\n",
        "prob_asia_y_segunda_ronda = len(df[(df['continent'] == 'asia') & (df['clasificado'] == 1)]) / total_equipos\n",
        "print(f'j. Probabilidad de pertenecer a Asia y clasificar a segunda ronda: {prob_asia_y_segunda_ronda}')"
      ],
      "metadata": {
        "colab": {
          "base_uri": "https://localhost:8080/"
        },
        "id": "2eKZ1--6IjwT",
        "outputId": "0ce2098e-23eb-4425-f9c0-f98422657781"
      },
      "execution_count": 42,
      "outputs": [
        {
          "output_type": "stream",
          "name": "stdout",
          "text": [
            "j. Probabilidad de pertenecer a Asia y clasificar a segunda ronda: 0.0\n"
          ]
        }
      ]
    },
    {
      "cell_type": "code",
      "source": [
        "# k. Probabilidad de pertenecer a Sudamérica y clasificar a segunda ronda\n",
        "\n",
        "prob_sudamerica_y_segunda_ronda = len(df[(df['continent'] == 'southamerica') & (df['clasificado'] == 1)]) / total_equipos\n",
        "print(f'k. Probabilidad de pertenecer a Sudamérica y clasificar a segunda ronda: {prob_sudamerica_y_segunda_ronda}')"
      ],
      "metadata": {
        "colab": {
          "base_uri": "https://localhost:8080/"
        },
        "id": "fF1i4G3UIjlo",
        "outputId": "2dabed02-eaf7-4584-c2ce-1d7b5bd58db3"
      },
      "execution_count": 43,
      "outputs": [
        {
          "output_type": "stream",
          "name": "stdout",
          "text": [
            "k. Probabilidad de pertenecer a Sudamérica y clasificar a segunda ronda: 0.15625\n"
          ]
        }
      ]
    },
    {
      "cell_type": "code",
      "source": [
        "# l. Probabilidad de pertenecer a Norteamérica y clasificar a segunda ronda\n",
        "\n",
        "prob_norteamerica_y_segunda_ronda = len(df[(df['continent'] == 'northamerica') & (df['clasificado'] == 1)]) / total_equipos\n",
        "print(\"l. Probabilidad de pertenecer a Norteamérica y clasificar a segunda ronda:\", prob_norteamerica_y_segunda_ronda)"
      ],
      "metadata": {
        "colab": {
          "base_uri": "https://localhost:8080/"
        },
        "id": "yVc9P1biIjcM",
        "outputId": "5702bb35-c2b8-4b83-ba30-6e4d67fdfe58"
      },
      "execution_count": 44,
      "outputs": [
        {
          "output_type": "stream",
          "name": "stdout",
          "text": [
            "l. Probabilidad de pertenecer a Norteamérica y clasificar a segunda ronda: 0.09375\n"
          ]
        }
      ]
    },
    {
      "cell_type": "code",
      "source": [
        "# m. Probabilidad de pertenecer a África o clasificar a segunda ronda\n",
        "\n",
        "prob_africa_o_segunda_ronda = len(df[(df['continent'] == 'africa') | (df['clasificado'] == 1)]) / total_equipos\n",
        "print(f'm. Probabilidad de pertenecer a África o clasificar a segunda ronda: {prob_africa_o_segunda_ronda}')"
      ],
      "metadata": {
        "colab": {
          "base_uri": "https://localhost:8080/"
        },
        "id": "_0weL4fYIjKm",
        "outputId": "2ecc974f-b4f7-4f6a-e96b-cf20769fcd9a"
      },
      "execution_count": 45,
      "outputs": [
        {
          "output_type": "stream",
          "name": "stdout",
          "text": [
            "m. Probabilidad de pertenecer a África o clasificar a segunda ronda: 0.59375\n"
          ]
        }
      ]
    },
    {
      "cell_type": "code",
      "source": [
        "# n. Probabilidad de pertenecer a Europa o clasificar a segunda ronda\n",
        "\n",
        "prob_europa_o_segunda_ronda = len(df[(df['continent'] == 'europe') | (df['clasificado'] == 1)]) / total_equipos\n",
        "print(f'n. Probabilidad de pertenecer a Europa o clasificar a segunda ronda: {prob_europa_o_segunda_ronda}')"
      ],
      "metadata": {
        "colab": {
          "base_uri": "https://localhost:8080/"
        },
        "id": "xHWuRmvmJqPO",
        "outputId": "a18ec5a8-8c94-4923-cebc-a3dc50dd2bc3"
      },
      "execution_count": 46,
      "outputs": [
        {
          "output_type": "stream",
          "name": "stdout",
          "text": [
            "n. Probabilidad de pertenecer a Europa o clasificar a segunda ronda: 0.71875\n"
          ]
        }
      ]
    },
    {
      "cell_type": "code",
      "source": [
        "# o. Probabilidad de pertenecer a Asia o clasificar a segunda ronda\n",
        "\n",
        "prob_asia_o_segunda_ronda = len(df[(df['continent'] == 'asia') | (df['clasificado'] == 1)]) / total_equipos\n",
        "print(f'o. Probabilidad de pertenecer a Asia o clasificar a segunda ronda: {prob_asia_o_segunda_ronda}')"
      ],
      "metadata": {
        "colab": {
          "base_uri": "https://localhost:8080/"
        },
        "id": "_4o_Bm-oJqKQ",
        "outputId": "39a6cc09-d3a4-42d9-cfb8-3c81b60da9d4"
      },
      "execution_count": 47,
      "outputs": [
        {
          "output_type": "stream",
          "name": "stdout",
          "text": [
            "o. Probabilidad de pertenecer a Asia o clasificar a segunda ronda: 0.625\n"
          ]
        }
      ]
    },
    {
      "cell_type": "code",
      "source": [
        "# p. Probabilidad de pertenecer a Sudamérica o clasificar a segunda ronda\n",
        "\n",
        "prob_sudamerica_o_segunda_ronda = len(df[(df['continent'] == 'southamerica') | (df['clasificado'] == 1)]) / total_equipos\n",
        "print(f'p. Probabilidad de pertenecer a Sudamérica o clasificar a segunda ronda: {prob_sudamerica_o_segunda_ronda}')"
      ],
      "metadata": {
        "colab": {
          "base_uri": "https://localhost:8080/"
        },
        "id": "7RYuErMMJqHi",
        "outputId": "500703ca-0651-4be8-b449-8d31392236a1"
      },
      "execution_count": 48,
      "outputs": [
        {
          "output_type": "stream",
          "name": "stdout",
          "text": [
            "p. Probabilidad de pertenecer a Sudamérica o clasificar a segunda ronda: 0.53125\n"
          ]
        }
      ]
    },
    {
      "cell_type": "code",
      "source": [
        "# q. Probabilidad de pertenecer a Norteamérica o clasificar a segunda ronda\n",
        "\n",
        "prob_norteamerica_o_segunda_ronda = len(df[(df['continent'] == 'northamerica') | (df['clasificado'] == 1)]) / total_equipos\n",
        "print(f'q. Probabilidad de pertenecer a Norteamérica o clasificar a segunda ronda: {prob_norteamerica_o_segunda_ronda}')"
      ],
      "metadata": {
        "colab": {
          "base_uri": "https://localhost:8080/"
        },
        "id": "_c_1N1xbJqE7",
        "outputId": "1d33822f-32aa-4f97-d94c-9c54b262d5cf"
      },
      "execution_count": 49,
      "outputs": [
        {
          "output_type": "stream",
          "name": "stdout",
          "text": [
            "q. Probabilidad de pertenecer a Norteamérica o clasificar a segunda ronda: 0.53125\n"
          ]
        }
      ]
    },
    {
      "cell_type": "code",
      "source": [
        "# r. Probabilidad de pertenecer a África y haber ganado al menos un partido\n",
        "\n",
        "prob_africa_y_ganar_al_menos_un_partido = len(df[(df['continent'] == 'africa') & (df['juegos_ganados'] > 0)]) / total_equipos\n",
        "print(f'r. Probabilidad de pertenecer a África y haber ganado al menos un partido: {prob_africa_y_ganar_al_menos_un_partido}')"
      ],
      "metadata": {
        "colab": {
          "base_uri": "https://localhost:8080/"
        },
        "id": "LNJfN_s3Jp8G",
        "outputId": "900d746c-f032-489b-a7da-8e1c54be1320"
      },
      "execution_count": 50,
      "outputs": [
        {
          "output_type": "stream",
          "name": "stdout",
          "text": [
            "r. Probabilidad de pertenecer a África y haber ganado al menos un partido: 0.09375\n"
          ]
        }
      ]
    },
    {
      "cell_type": "code",
      "source": [
        "# s. Probabilidad de pertenecer a Europa y haber ganado al menos un partido\n",
        "\n",
        "prob_europa_y_ganar_al_menos_un_partido = len(df[(df['continent'] == 'europe') & (df['juegos_ganados'] > 0)]) / total_equipos\n",
        "print(f's. Probabilidad de pertenecer a Europa y haber ganado al menos un partido: {prob_europa_y_ganar_al_menos_un_partido}')"
      ],
      "metadata": {
        "colab": {
          "base_uri": "https://localhost:8080/"
        },
        "id": "XbdpuYXDJ72a",
        "outputId": "e61b4c0b-5506-4b72-adbd-e27f9ee63b90"
      },
      "execution_count": 51,
      "outputs": [
        {
          "output_type": "stream",
          "name": "stdout",
          "text": [
            "s. Probabilidad de pertenecer a Europa y haber ganado al menos un partido: 0.34375\n"
          ]
        }
      ]
    },
    {
      "cell_type": "code",
      "source": [
        "# t. Probabilidad de pertenecer a Asia y haber ganado al menos un partido\n",
        "\n",
        "prob_asia_y_ganar_al_menos_un_partido = len(df[(df['continent'] == 'asia') & (df['juegos_ganados'] > 0)]) / total_equipos\n",
        "print(f't. Probabilidad de pertenecer a Asia y haber ganado al menos un partido: {prob_asia_y_ganar_al_menos_un_partido}')"
      ],
      "metadata": {
        "colab": {
          "base_uri": "https://localhost:8080/"
        },
        "id": "wrHKt5XbJ7rK",
        "outputId": "9cad6eda-955d-4f58-a002-8cfb61300034"
      },
      "execution_count": 52,
      "outputs": [
        {
          "output_type": "stream",
          "name": "stdout",
          "text": [
            "t. Probabilidad de pertenecer a Asia y haber ganado al menos un partido: 0.0\n"
          ]
        }
      ]
    },
    {
      "cell_type": "code",
      "source": [
        "# u. Probabilidad de pertenecer a Sudamérica y haber ganado al menos un partido\n",
        "\n",
        "prob_sudamerica_y_ganar_al_menos_un_partido = len(df[(df['continent'] == 'southamerica') & (df['juegos_ganados'] > 0)]) / total_equipos\n",
        "print(f'u. Probabilidad de pertenecer a Sudamérica y haber ganado al menos un partido: {prob_sudamerica_y_ganar_al_menos_un_partido}')"
      ],
      "metadata": {
        "colab": {
          "base_uri": "https://localhost:8080/"
        },
        "id": "uxwnVVWNVsGq",
        "outputId": "3b423929-7b58-431d-a5f7-67e05f039699"
      },
      "execution_count": 53,
      "outputs": [
        {
          "output_type": "stream",
          "name": "stdout",
          "text": [
            "u. Probabilidad de pertenecer a Sudamérica y haber ganado al menos un partido: 0.1875\n"
          ]
        }
      ]
    },
    {
      "cell_type": "code",
      "source": [
        "# v. Probabilidad de pertenecer a Norteamérica y haber ganado al menos un partido\n",
        "\n",
        "prob_norteamerica_y_ganar_al_menos_un_partido = len(df[(df['continent'] == 'northamerica') & (df['juegos_ganados'] > 0)]) / total_equipos\n",
        "print(f'v. Probabilidad de pertenecer a Norteamérica y haber ganado al menos un partido: {prob_norteamerica_y_ganar_al_menos_un_partido}')"
      ],
      "metadata": {
        "colab": {
          "base_uri": "https://localhost:8080/"
        },
        "id": "9wul9200V8hJ",
        "outputId": "81ee559f-7874-481e-969f-0586f26c2534"
      },
      "execution_count": 54,
      "outputs": [
        {
          "output_type": "stream",
          "name": "stdout",
          "text": [
            "v. Probabilidad de pertenecer a Norteamérica y haber ganado al menos un partido: 0.09375\n"
          ]
        }
      ]
    },
    {
      "cell_type": "code",
      "source": [
        "# w. Probabilidad de haber ganado al menos un partido y clasificar a segunda ronda\n",
        "\n",
        "prob_ganar_al_menos_un_partido_y_segunda_ronda = len(df[(df['juegos_ganados'] > 0) & (df['clasificado'] == 1)]) / total_equipos\n",
        "print(f'w. Probabilidad de haber ganado al menos un partido y clasificar a segunda ronda: {prob_ganar_al_menos_un_partido_y_segunda_ronda}')"
      ],
      "metadata": {
        "colab": {
          "base_uri": "https://localhost:8080/"
        },
        "id": "Ol_nv8yJWPy8",
        "outputId": "4a5a66ec-782b-4a6f-e092-2a08c727f758"
      },
      "execution_count": 55,
      "outputs": [
        {
          "output_type": "stream",
          "name": "stdout",
          "text": [
            "w. Probabilidad de haber ganado al menos un partido y clasificar a segunda ronda: 0.5\n"
          ]
        }
      ]
    },
    {
      "cell_type": "markdown",
      "source": [
        "###Pregunta 2###\n",
        "A partir de las probabilidades anteriores, y sin realizar conteos, calcular las siguientes probabilidades:\n",
        "\n",
        "- a. pertenecer a Europa, si se sabe que clasificó\n",
        "- b. pertenecer a Sudamérica, si se sabe que clasificó\n",
        "- c. pertenecer a África, si se sabe que ganó al menos un partido\n",
        "- d. haber ganado al menos un partido, si se sabe que clasificó\n",
        "- e. haber ganado al menos un partido, si se sabe que pertenece a Norteamérica\n",
        "- f. NO haber clasificado, si se sabe que pertenece a África"
      ],
      "metadata": {
        "id": "bKjuhp0hTXNE"
      }
    },
    {
      "cell_type": "code",
      "source": [
        "# a. Pertenecer a Europa, si se sabe que clasificó\n",
        "\n",
        "prob_europa_dado_clasifico = prob_europa_y_segunda_ronda / prob_segunda_ronda\n",
        "print(\"a. Pertenecer a Europa, si se sabe que clasificó:\", prob_europa_dado_clasifico)"
      ],
      "metadata": {
        "colab": {
          "base_uri": "https://localhost:8080/"
        },
        "id": "jD-GJ_b-dkDb",
        "outputId": "e11f6b4c-eb67-4bec-f5a4-ad33bcd8b6e6"
      },
      "execution_count": 56,
      "outputs": [
        {
          "output_type": "stream",
          "name": "stdout",
          "text": [
            "a. Pertenecer a Europa, si se sabe que clasificó: 0.375\n"
          ]
        }
      ]
    },
    {
      "cell_type": "code",
      "source": [
        "# b. Pertenecer a Sudamérica, si se sabe que clasificó\n",
        "\n",
        "prob_sudamerica_dado_clasifico = prob_sudamerica_y_segunda_ronda / prob_segunda_ronda\n",
        "print(\"b. Pertenecer a Sudamérica, si se sabe que clasificó:\", prob_sudamerica_dado_clasifico)"
      ],
      "metadata": {
        "colab": {
          "base_uri": "https://localhost:8080/"
        },
        "id": "3O0Pw2FydpIs",
        "outputId": "17b220b2-9315-478e-e78c-b4f91f8607b1"
      },
      "execution_count": 57,
      "outputs": [
        {
          "output_type": "stream",
          "name": "stdout",
          "text": [
            "b. Pertenecer a Sudamérica, si se sabe que clasificó: 0.3125\n"
          ]
        }
      ]
    },
    {
      "cell_type": "code",
      "source": [
        "# c. Pertenecer a África, si se sabe que ganó al menos un partido\n",
        "\n",
        "prob_africa_dado_ganar_al_menos_un_partido = prob_africa_y_ganar_al_menos_un_partido / prob_ganar_al_menos_un_partido\n",
        "print(\"c. Pertenecer a África, si se sabe que ganó al menos un partido:\", prob_africa_dado_ganar_al_menos_un_partido)"
      ],
      "metadata": {
        "colab": {
          "base_uri": "https://localhost:8080/"
        },
        "id": "NBfIafqxdo-6",
        "outputId": "99053f4c-1c31-4ca1-a32a-de54288e817e"
      },
      "execution_count": 58,
      "outputs": [
        {
          "output_type": "stream",
          "name": "stdout",
          "text": [
            "c. Pertenecer a África, si se sabe que ganó al menos un partido: 0.13043478260869565\n"
          ]
        }
      ]
    },
    {
      "cell_type": "code",
      "source": [
        "# d. Haber ganado al menos un partido, si se sabe que clasificó\n",
        "\n",
        "prob_ganar_al_menos_un_partido_dado_clasifico = prob_ganar_al_menos_un_partido_y_segunda_ronda / prob_segunda_ronda\n",
        "print(\"d. Haber ganado al menos un partido, si se sabe que clasificó:\", prob_ganar_al_menos_un_partido_dado_clasifico)"
      ],
      "metadata": {
        "colab": {
          "base_uri": "https://localhost:8080/"
        },
        "id": "wXFUYBscdo1b",
        "outputId": "a0dff081-1a6c-45ac-f82d-cfca83ac9536"
      },
      "execution_count": 59,
      "outputs": [
        {
          "output_type": "stream",
          "name": "stdout",
          "text": [
            "d. Haber ganado al menos un partido, si se sabe que clasificó: 1.0\n"
          ]
        }
      ]
    },
    {
      "cell_type": "code",
      "source": [
        "# e. Haber ganado al menos un partido, si se sabe que pertenece a Norteamérica\n",
        "\n",
        "prob_ganar_al_menos_un_partido_dado_norteamerica = prob_norteamerica_y_ganar_al_menos_un_partido / prob_norteamerica\n",
        "print(\"e. Haber ganado al menos un partido, si se sabe que pertenece a Norteamérica:\", prob_ganar_al_menos_un_partido_dado_norteamerica)"
      ],
      "metadata": {
        "colab": {
          "base_uri": "https://localhost:8080/"
        },
        "id": "Jlg5C2KvdosS",
        "outputId": "37406fcb-0d3d-4c5d-f852-bad3e8a20c29"
      },
      "execution_count": 60,
      "outputs": [
        {
          "output_type": "stream",
          "name": "stdout",
          "text": [
            "e. Haber ganado al menos un partido, si se sabe que pertenece a Norteamérica: 0.75\n"
          ]
        }
      ]
    },
    {
      "cell_type": "code",
      "source": [
        "# f. NO haber clasificado, si se sabe que pertenece a África\n",
        "\n",
        "prob_no_clasificar_dado_africa = (len(df[(df['continent'] == 'africa') & (df['clasificado'] == 0)]) / total_equipos) / (1 - prob_segunda_ronda)\n",
        "print(\"f. NO haber clasificado, si se sabe que pertenece a África:\", prob_no_clasificar_dado_africa)"
      ],
      "metadata": {
        "colab": {
          "base_uri": "https://localhost:8080/"
        },
        "id": "lO1M6lTGdoXd",
        "outputId": "d08440c4-2d67-403f-f59a-67dab2e8cd78"
      },
      "execution_count": 63,
      "outputs": [
        {
          "output_type": "stream",
          "name": "stdout",
          "text": [
            "f. NO haber clasificado, si se sabe que pertenece a África: 0.1875\n"
          ]
        }
      ]
    }
  ]
}