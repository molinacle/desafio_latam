{
  "nbformat": 4,
  "nbformat_minor": 0,
  "metadata": {
    "colab": {
      "provenance": [],
      "authorship_tag": "ABX9TyPsbsgkj+rzZNqdGf2qrGX5",
      "include_colab_link": true
    },
    "kernelspec": {
      "name": "python3",
      "display_name": "Python 3"
    },
    "language_info": {
      "name": "python"
    }
  },
  "cells": [
    {
      "cell_type": "markdown",
      "metadata": {
        "id": "view-in-github",
        "colab_type": "text"
      },
      "source": [
        "<a href=\"https://colab.research.google.com/github/molinacle/desafio_latam/blob/main/Desaf%C3%ADo_Latam_Prueba_Estad%C3%ADstica_y_Probabilidad.ipynb\" target=\"_parent\"><img src=\"https://colab.research.google.com/assets/colab-badge.svg\" alt=\"Open In Colab\"/></a>"
      ]
    },
    {
      "cell_type": "markdown",
      "source": [
        "**DESAFÍO LATAM - PRUEBA ESTADÍSTICA Y PROBABILIDAD**\n",
        "---\n",
        "\n",
        "*   ALUMNO: SEBASTIÁN MOLINA\n",
        "*   MODULO: ESTADÍSTICA DESCRIPTIVA Y PROBABILIDAD\n",
        "*   CARRERA: DATA SCIENCE"
      ],
      "metadata": {
        "id": "xYBQZgwbC47j"
      }
    },
    {
      "cell_type": "markdown",
      "source": [
        "---"
      ],
      "metadata": {
        "id": "8t97iKp-Gvw4"
      }
    },
    {
      "cell_type": "markdown",
      "source": [
        "**ENUNCIADO DEL EJERCICIO**\n",
        "- La OMS estima que cada año se producen 12 millones de muertes en todo el mundo debido a enfermedades cardíacas, producidas en su gran mayoría por enfermedades cardiovasculares. El pronóstico temprano de las enfermedades cardiovasculares puede ayudar en la toma de decisiones sobre cambios en el estilo de vida en pacientes de alto riesgo y reducir las complicaciones.\n",
        "- La base de datos cardio.csv contiene mediciones realizadas a pacientes hace 10 años, entre los cuales se encuentran:\n",
        "  - **Sex:** M - F\n",
        "  - **Age:** edad\n",
        "  - **Education:** codificada, considerando que un valor más alto\n",
        " corresponde a un mayor nivel educativo.\n",
        "  - **currentSmoker:** si el paciente es o no fumador actual\n",
        "  - **cigsPerDay:** el número de cigarrillos que la persona fumaba en promedio en un día.\n",
        "  - **BPMeds:** si el paciente estaba tomando medicamentos para la presión arterial (0: No, 1: Sí)\n",
        "  - **prevalenStroke:** si el paciente había tenido un accidente cerebrovascular previamente (0: No, 1: Sí)\n",
        "  - **prevalentHyp:** si el paciente era hipertenso o no (0: No, 1: Sí)\n",
        "  - **diabetes:** si el paciente tenía diabetes o no (0: No, 1: Sí)\n",
        "  - **totChol:** nivel de colesterol total\n",
        "  - **sysBP:** presión arterial sistólica\n",
        "  - **diaBP_BMI:** presión arterial diastólica\n",
        "  - **BMI:** Índice de masa corporal\n",
        "  - **heartRate:** ritmo cardíaco\n",
        "  - **glucose:** nivel de glucosa\n",
        "  - **TenYearCHD:** se indica si el paciente sufrió o no una enfermedad coronaria en los últimos 10 años.(0: No, 1: Sí)\n",
        "- A partir de estos datos, buscaremos realizar algunas descripciones predictivos. Para esto se te solicita:"
      ],
      "metadata": {
        "id": "qeR_ktxvCrxo"
      }
    },
    {
      "cell_type": "markdown",
      "source": [
        "---"
      ],
      "metadata": {
        "id": "SW93zURTAYfH"
      }
    },
    {
      "cell_type": "markdown",
      "source": [
        "**PREGUNTA 1**\n",
        "- Carga los datos y explóralos. Elimina los datos nulos o incorrectos."
      ],
      "metadata": {
        "id": "-b-hfcrNcpPy"
      }
    },
    {
      "cell_type": "code",
      "source": [
        "#Importación de librerías\n",
        "import pandas as pd\n",
        "import numpy as np\n",
        "import matplotlib.pyplot as plt\n",
        "import seaborn as sns\n",
        "from scipy.stats import ttest_1samp\n",
        "from scipy.stats import ttest_ind\n",
        "from sklearn.linear_model import LinearRegression\n",
        "from sklearn.linear_model import LogisticRegression\n",
        "from sklearn.model_selection import train_test_split\n",
        "from sklearn.metrics import r2_score, mean_squared_error\n",
        "from sklearn.metrics import accuracy_score, confusion_matrix, classification_report\n",
        "from imblearn.over_sampling import SMOTE\n",
        "from sklearn.preprocessing import StandardScaler"
      ],
      "metadata": {
        "id": "9A0BfPuxsyrS"
      },
      "execution_count": 58,
      "outputs": []
    },
    {
      "cell_type": "code",
      "source": [
        "# Cargar los datos\n",
        "df = pd.read_csv('cardio.csv')"
      ],
      "metadata": {
        "id": "aO3CBIrNqiPX"
      },
      "execution_count": 59,
      "outputs": []
    },
    {
      "cell_type": "code",
      "source": [
        "# Exploración Inicial de los Datos\n",
        "df.head()"
      ],
      "metadata": {
        "colab": {
          "base_uri": "https://localhost:8080/",
          "height": 226
        },
        "id": "vmbXqbMv_P0n",
        "outputId": "e4506784-dd1a-4661-f1ba-4d3fb0215ed0"
      },
      "execution_count": 60,
      "outputs": [
        {
          "output_type": "execute_result",
          "data": {
            "text/plain": [
              "  sex  age  education currentSmoker  cigsPerDay  BPMeds  prevalentStroke  \\\n",
              "0   M   39        4.0            No         0.0     0.0                0   \n",
              "1   F   46        2.0            No         0.0     0.0                0   \n",
              "2   M   48        1.0           Yes        20.0     0.0                0   \n",
              "3   F   61        3.0           Yes        30.0     0.0                0   \n",
              "4   F   46        3.0           Yes        23.0     0.0                0   \n",
              "\n",
              "   prevalentHyp  diabetes  totChol  sysBP  diaBP    BMI  heartRate  glucose  \\\n",
              "0             0         0    195.0  106.0   70.0  26.97       80.0     77.0   \n",
              "1             0         0    250.0  121.0   81.0  28.73       95.0     76.0   \n",
              "2             0         0    245.0  127.5   80.0  25.34       75.0     70.0   \n",
              "3             1         0    225.0  150.0   95.0  28.58       65.0    103.0   \n",
              "4             0         0    285.0  130.0   84.0  23.10       85.0     85.0   \n",
              "\n",
              "   TenYearCHD  \n",
              "0           0  \n",
              "1           0  \n",
              "2           0  \n",
              "3           1  \n",
              "4           0  "
            ],
            "text/html": [
              "\n",
              "  <div id=\"df-e82eaf24-3424-433f-a218-a797bbd4a871\" class=\"colab-df-container\">\n",
              "    <div>\n",
              "<style scoped>\n",
              "    .dataframe tbody tr th:only-of-type {\n",
              "        vertical-align: middle;\n",
              "    }\n",
              "\n",
              "    .dataframe tbody tr th {\n",
              "        vertical-align: top;\n",
              "    }\n",
              "\n",
              "    .dataframe thead th {\n",
              "        text-align: right;\n",
              "    }\n",
              "</style>\n",
              "<table border=\"1\" class=\"dataframe\">\n",
              "  <thead>\n",
              "    <tr style=\"text-align: right;\">\n",
              "      <th></th>\n",
              "      <th>sex</th>\n",
              "      <th>age</th>\n",
              "      <th>education</th>\n",
              "      <th>currentSmoker</th>\n",
              "      <th>cigsPerDay</th>\n",
              "      <th>BPMeds</th>\n",
              "      <th>prevalentStroke</th>\n",
              "      <th>prevalentHyp</th>\n",
              "      <th>diabetes</th>\n",
              "      <th>totChol</th>\n",
              "      <th>sysBP</th>\n",
              "      <th>diaBP</th>\n",
              "      <th>BMI</th>\n",
              "      <th>heartRate</th>\n",
              "      <th>glucose</th>\n",
              "      <th>TenYearCHD</th>\n",
              "    </tr>\n",
              "  </thead>\n",
              "  <tbody>\n",
              "    <tr>\n",
              "      <th>0</th>\n",
              "      <td>M</td>\n",
              "      <td>39</td>\n",
              "      <td>4.0</td>\n",
              "      <td>No</td>\n",
              "      <td>0.0</td>\n",
              "      <td>0.0</td>\n",
              "      <td>0</td>\n",
              "      <td>0</td>\n",
              "      <td>0</td>\n",
              "      <td>195.0</td>\n",
              "      <td>106.0</td>\n",
              "      <td>70.0</td>\n",
              "      <td>26.97</td>\n",
              "      <td>80.0</td>\n",
              "      <td>77.0</td>\n",
              "      <td>0</td>\n",
              "    </tr>\n",
              "    <tr>\n",
              "      <th>1</th>\n",
              "      <td>F</td>\n",
              "      <td>46</td>\n",
              "      <td>2.0</td>\n",
              "      <td>No</td>\n",
              "      <td>0.0</td>\n",
              "      <td>0.0</td>\n",
              "      <td>0</td>\n",
              "      <td>0</td>\n",
              "      <td>0</td>\n",
              "      <td>250.0</td>\n",
              "      <td>121.0</td>\n",
              "      <td>81.0</td>\n",
              "      <td>28.73</td>\n",
              "      <td>95.0</td>\n",
              "      <td>76.0</td>\n",
              "      <td>0</td>\n",
              "    </tr>\n",
              "    <tr>\n",
              "      <th>2</th>\n",
              "      <td>M</td>\n",
              "      <td>48</td>\n",
              "      <td>1.0</td>\n",
              "      <td>Yes</td>\n",
              "      <td>20.0</td>\n",
              "      <td>0.0</td>\n",
              "      <td>0</td>\n",
              "      <td>0</td>\n",
              "      <td>0</td>\n",
              "      <td>245.0</td>\n",
              "      <td>127.5</td>\n",
              "      <td>80.0</td>\n",
              "      <td>25.34</td>\n",
              "      <td>75.0</td>\n",
              "      <td>70.0</td>\n",
              "      <td>0</td>\n",
              "    </tr>\n",
              "    <tr>\n",
              "      <th>3</th>\n",
              "      <td>F</td>\n",
              "      <td>61</td>\n",
              "      <td>3.0</td>\n",
              "      <td>Yes</td>\n",
              "      <td>30.0</td>\n",
              "      <td>0.0</td>\n",
              "      <td>0</td>\n",
              "      <td>1</td>\n",
              "      <td>0</td>\n",
              "      <td>225.0</td>\n",
              "      <td>150.0</td>\n",
              "      <td>95.0</td>\n",
              "      <td>28.58</td>\n",
              "      <td>65.0</td>\n",
              "      <td>103.0</td>\n",
              "      <td>1</td>\n",
              "    </tr>\n",
              "    <tr>\n",
              "      <th>4</th>\n",
              "      <td>F</td>\n",
              "      <td>46</td>\n",
              "      <td>3.0</td>\n",
              "      <td>Yes</td>\n",
              "      <td>23.0</td>\n",
              "      <td>0.0</td>\n",
              "      <td>0</td>\n",
              "      <td>0</td>\n",
              "      <td>0</td>\n",
              "      <td>285.0</td>\n",
              "      <td>130.0</td>\n",
              "      <td>84.0</td>\n",
              "      <td>23.10</td>\n",
              "      <td>85.0</td>\n",
              "      <td>85.0</td>\n",
              "      <td>0</td>\n",
              "    </tr>\n",
              "  </tbody>\n",
              "</table>\n",
              "</div>\n",
              "    <div class=\"colab-df-buttons\">\n",
              "\n",
              "  <div class=\"colab-df-container\">\n",
              "    <button class=\"colab-df-convert\" onclick=\"convertToInteractive('df-e82eaf24-3424-433f-a218-a797bbd4a871')\"\n",
              "            title=\"Convert this dataframe to an interactive table.\"\n",
              "            style=\"display:none;\">\n",
              "\n",
              "  <svg xmlns=\"http://www.w3.org/2000/svg\" height=\"24px\" viewBox=\"0 -960 960 960\">\n",
              "    <path d=\"M120-120v-720h720v720H120Zm60-500h600v-160H180v160Zm220 220h160v-160H400v160Zm0 220h160v-160H400v160ZM180-400h160v-160H180v160Zm440 0h160v-160H620v160ZM180-180h160v-160H180v160Zm440 0h160v-160H620v160Z\"/>\n",
              "  </svg>\n",
              "    </button>\n",
              "\n",
              "  <style>\n",
              "    .colab-df-container {\n",
              "      display:flex;\n",
              "      gap: 12px;\n",
              "    }\n",
              "\n",
              "    .colab-df-convert {\n",
              "      background-color: #E8F0FE;\n",
              "      border: none;\n",
              "      border-radius: 50%;\n",
              "      cursor: pointer;\n",
              "      display: none;\n",
              "      fill: #1967D2;\n",
              "      height: 32px;\n",
              "      padding: 0 0 0 0;\n",
              "      width: 32px;\n",
              "    }\n",
              "\n",
              "    .colab-df-convert:hover {\n",
              "      background-color: #E2EBFA;\n",
              "      box-shadow: 0px 1px 2px rgba(60, 64, 67, 0.3), 0px 1px 3px 1px rgba(60, 64, 67, 0.15);\n",
              "      fill: #174EA6;\n",
              "    }\n",
              "\n",
              "    .colab-df-buttons div {\n",
              "      margin-bottom: 4px;\n",
              "    }\n",
              "\n",
              "    [theme=dark] .colab-df-convert {\n",
              "      background-color: #3B4455;\n",
              "      fill: #D2E3FC;\n",
              "    }\n",
              "\n",
              "    [theme=dark] .colab-df-convert:hover {\n",
              "      background-color: #434B5C;\n",
              "      box-shadow: 0px 1px 3px 1px rgba(0, 0, 0, 0.15);\n",
              "      filter: drop-shadow(0px 1px 2px rgba(0, 0, 0, 0.3));\n",
              "      fill: #FFFFFF;\n",
              "    }\n",
              "  </style>\n",
              "\n",
              "    <script>\n",
              "      const buttonEl =\n",
              "        document.querySelector('#df-e82eaf24-3424-433f-a218-a797bbd4a871 button.colab-df-convert');\n",
              "      buttonEl.style.display =\n",
              "        google.colab.kernel.accessAllowed ? 'block' : 'none';\n",
              "\n",
              "      async function convertToInteractive(key) {\n",
              "        const element = document.querySelector('#df-e82eaf24-3424-433f-a218-a797bbd4a871');\n",
              "        const dataTable =\n",
              "          await google.colab.kernel.invokeFunction('convertToInteractive',\n",
              "                                                    [key], {});\n",
              "        if (!dataTable) return;\n",
              "\n",
              "        const docLinkHtml = 'Like what you see? Visit the ' +\n",
              "          '<a target=\"_blank\" href=https://colab.research.google.com/notebooks/data_table.ipynb>data table notebook</a>'\n",
              "          + ' to learn more about interactive tables.';\n",
              "        element.innerHTML = '';\n",
              "        dataTable['output_type'] = 'display_data';\n",
              "        await google.colab.output.renderOutput(dataTable, element);\n",
              "        const docLink = document.createElement('div');\n",
              "        docLink.innerHTML = docLinkHtml;\n",
              "        element.appendChild(docLink);\n",
              "      }\n",
              "    </script>\n",
              "  </div>\n",
              "\n",
              "\n",
              "<div id=\"df-71abcd13-1422-46c2-9bdb-851fb53d89fe\">\n",
              "  <button class=\"colab-df-quickchart\" onclick=\"quickchart('df-71abcd13-1422-46c2-9bdb-851fb53d89fe')\"\n",
              "            title=\"Suggest charts\"\n",
              "            style=\"display:none;\">\n",
              "\n",
              "<svg xmlns=\"http://www.w3.org/2000/svg\" height=\"24px\"viewBox=\"0 0 24 24\"\n",
              "     width=\"24px\">\n",
              "    <g>\n",
              "        <path d=\"M19 3H5c-1.1 0-2 .9-2 2v14c0 1.1.9 2 2 2h14c1.1 0 2-.9 2-2V5c0-1.1-.9-2-2-2zM9 17H7v-7h2v7zm4 0h-2V7h2v10zm4 0h-2v-4h2v4z\"/>\n",
              "    </g>\n",
              "</svg>\n",
              "  </button>\n",
              "\n",
              "<style>\n",
              "  .colab-df-quickchart {\n",
              "      --bg-color: #E8F0FE;\n",
              "      --fill-color: #1967D2;\n",
              "      --hover-bg-color: #E2EBFA;\n",
              "      --hover-fill-color: #174EA6;\n",
              "      --disabled-fill-color: #AAA;\n",
              "      --disabled-bg-color: #DDD;\n",
              "  }\n",
              "\n",
              "  [theme=dark] .colab-df-quickchart {\n",
              "      --bg-color: #3B4455;\n",
              "      --fill-color: #D2E3FC;\n",
              "      --hover-bg-color: #434B5C;\n",
              "      --hover-fill-color: #FFFFFF;\n",
              "      --disabled-bg-color: #3B4455;\n",
              "      --disabled-fill-color: #666;\n",
              "  }\n",
              "\n",
              "  .colab-df-quickchart {\n",
              "    background-color: var(--bg-color);\n",
              "    border: none;\n",
              "    border-radius: 50%;\n",
              "    cursor: pointer;\n",
              "    display: none;\n",
              "    fill: var(--fill-color);\n",
              "    height: 32px;\n",
              "    padding: 0;\n",
              "    width: 32px;\n",
              "  }\n",
              "\n",
              "  .colab-df-quickchart:hover {\n",
              "    background-color: var(--hover-bg-color);\n",
              "    box-shadow: 0 1px 2px rgba(60, 64, 67, 0.3), 0 1px 3px 1px rgba(60, 64, 67, 0.15);\n",
              "    fill: var(--button-hover-fill-color);\n",
              "  }\n",
              "\n",
              "  .colab-df-quickchart-complete:disabled,\n",
              "  .colab-df-quickchart-complete:disabled:hover {\n",
              "    background-color: var(--disabled-bg-color);\n",
              "    fill: var(--disabled-fill-color);\n",
              "    box-shadow: none;\n",
              "  }\n",
              "\n",
              "  .colab-df-spinner {\n",
              "    border: 2px solid var(--fill-color);\n",
              "    border-color: transparent;\n",
              "    border-bottom-color: var(--fill-color);\n",
              "    animation:\n",
              "      spin 1s steps(1) infinite;\n",
              "  }\n",
              "\n",
              "  @keyframes spin {\n",
              "    0% {\n",
              "      border-color: transparent;\n",
              "      border-bottom-color: var(--fill-color);\n",
              "      border-left-color: var(--fill-color);\n",
              "    }\n",
              "    20% {\n",
              "      border-color: transparent;\n",
              "      border-left-color: var(--fill-color);\n",
              "      border-top-color: var(--fill-color);\n",
              "    }\n",
              "    30% {\n",
              "      border-color: transparent;\n",
              "      border-left-color: var(--fill-color);\n",
              "      border-top-color: var(--fill-color);\n",
              "      border-right-color: var(--fill-color);\n",
              "    }\n",
              "    40% {\n",
              "      border-color: transparent;\n",
              "      border-right-color: var(--fill-color);\n",
              "      border-top-color: var(--fill-color);\n",
              "    }\n",
              "    60% {\n",
              "      border-color: transparent;\n",
              "      border-right-color: var(--fill-color);\n",
              "    }\n",
              "    80% {\n",
              "      border-color: transparent;\n",
              "      border-right-color: var(--fill-color);\n",
              "      border-bottom-color: var(--fill-color);\n",
              "    }\n",
              "    90% {\n",
              "      border-color: transparent;\n",
              "      border-bottom-color: var(--fill-color);\n",
              "    }\n",
              "  }\n",
              "</style>\n",
              "\n",
              "  <script>\n",
              "    async function quickchart(key) {\n",
              "      const quickchartButtonEl =\n",
              "        document.querySelector('#' + key + ' button');\n",
              "      quickchartButtonEl.disabled = true;  // To prevent multiple clicks.\n",
              "      quickchartButtonEl.classList.add('colab-df-spinner');\n",
              "      try {\n",
              "        const charts = await google.colab.kernel.invokeFunction(\n",
              "            'suggestCharts', [key], {});\n",
              "      } catch (error) {\n",
              "        console.error('Error during call to suggestCharts:', error);\n",
              "      }\n",
              "      quickchartButtonEl.classList.remove('colab-df-spinner');\n",
              "      quickchartButtonEl.classList.add('colab-df-quickchart-complete');\n",
              "    }\n",
              "    (() => {\n",
              "      let quickchartButtonEl =\n",
              "        document.querySelector('#df-71abcd13-1422-46c2-9bdb-851fb53d89fe button');\n",
              "      quickchartButtonEl.style.display =\n",
              "        google.colab.kernel.accessAllowed ? 'block' : 'none';\n",
              "    })();\n",
              "  </script>\n",
              "</div>\n",
              "\n",
              "    </div>\n",
              "  </div>\n"
            ],
            "application/vnd.google.colaboratory.intrinsic+json": {
              "type": "dataframe",
              "variable_name": "df",
              "summary": "{\n  \"name\": \"df\",\n  \"rows\": 4238,\n  \"fields\": [\n    {\n      \"column\": \"sex\",\n      \"properties\": {\n        \"dtype\": \"category\",\n        \"samples\": [\n          \"F\",\n          \"M\"\n        ],\n        \"num_unique_values\": 2,\n        \"semantic_type\": \"\",\n        \"description\": \"\"\n      }\n    },\n    {\n      \"column\": \"age\",\n      \"properties\": {\n        \"dtype\": \"number\",\n        \"std\": 8,\n        \"min\": 32,\n        \"max\": 70,\n        \"samples\": [\n          34,\n          70\n        ],\n        \"num_unique_values\": 39,\n        \"semantic_type\": \"\",\n        \"description\": \"\"\n      }\n    },\n    {\n      \"column\": \"education\",\n      \"properties\": {\n        \"dtype\": \"number\",\n        \"std\": 1.019790689312203,\n        \"min\": 1.0,\n        \"max\": 4.0,\n        \"samples\": [\n          2.0,\n          3.0\n        ],\n        \"num_unique_values\": 4,\n        \"semantic_type\": \"\",\n        \"description\": \"\"\n      }\n    },\n    {\n      \"column\": \"currentSmoker\",\n      \"properties\": {\n        \"dtype\": \"category\",\n        \"samples\": [\n          \"Yes\",\n          \"No\"\n        ],\n        \"num_unique_values\": 2,\n        \"semantic_type\": \"\",\n        \"description\": \"\"\n      }\n    },\n    {\n      \"column\": \"cigsPerDay\",\n      \"properties\": {\n        \"dtype\": \"number\",\n        \"std\": 11.92009358782776,\n        \"min\": 0.0,\n        \"max\": 70.0,\n        \"samples\": [\n          19.0,\n          4.0\n        ],\n        \"num_unique_values\": 33,\n        \"semantic_type\": \"\",\n        \"description\": \"\"\n      }\n    },\n    {\n      \"column\": \"BPMeds\",\n      \"properties\": {\n        \"dtype\": \"number\",\n        \"std\": 0.16958356790200033,\n        \"min\": 0.0,\n        \"max\": 1.0,\n        \"samples\": [\n          1.0,\n          0.0\n        ],\n        \"num_unique_values\": 2,\n        \"semantic_type\": \"\",\n        \"description\": \"\"\n      }\n    },\n    {\n      \"column\": \"prevalentStroke\",\n      \"properties\": {\n        \"dtype\": \"number\",\n        \"std\": 0,\n        \"min\": 0,\n        \"max\": 1,\n        \"samples\": [\n          1,\n          0\n        ],\n        \"num_unique_values\": 2,\n        \"semantic_type\": \"\",\n        \"description\": \"\"\n      }\n    },\n    {\n      \"column\": \"prevalentHyp\",\n      \"properties\": {\n        \"dtype\": \"number\",\n        \"std\": 0,\n        \"min\": 0,\n        \"max\": 1,\n        \"samples\": [\n          1,\n          0\n        ],\n        \"num_unique_values\": 2,\n        \"semantic_type\": \"\",\n        \"description\": \"\"\n      }\n    },\n    {\n      \"column\": \"diabetes\",\n      \"properties\": {\n        \"dtype\": \"number\",\n        \"std\": 0,\n        \"min\": 0,\n        \"max\": 1,\n        \"samples\": [\n          1,\n          0\n        ],\n        \"num_unique_values\": 2,\n        \"semantic_type\": \"\",\n        \"description\": \"\"\n      }\n    },\n    {\n      \"column\": \"totChol\",\n      \"properties\": {\n        \"dtype\": \"number\",\n        \"std\": 44.590334318749456,\n        \"min\": 107.0,\n        \"max\": 696.0,\n        \"samples\": [\n          311.0,\n          205.0\n        ],\n        \"num_unique_values\": 248,\n        \"semantic_type\": \"\",\n        \"description\": \"\"\n      }\n    },\n    {\n      \"column\": \"sysBP\",\n      \"properties\": {\n        \"dtype\": \"number\",\n        \"std\": 22.038096643544584,\n        \"min\": 83.5,\n        \"max\": 295.0,\n        \"samples\": [\n          109.0,\n          184.5\n        ],\n        \"num_unique_values\": 234,\n        \"semantic_type\": \"\",\n        \"description\": \"\"\n      }\n    },\n    {\n      \"column\": \"diaBP\",\n      \"properties\": {\n        \"dtype\": \"number\",\n        \"std\": 11.9108496002255,\n        \"min\": 48.0,\n        \"max\": 142.5,\n        \"samples\": [\n          106.0,\n          108.5\n        ],\n        \"num_unique_values\": 146,\n        \"semantic_type\": \"\",\n        \"description\": \"\"\n      }\n    },\n    {\n      \"column\": \"BMI\",\n      \"properties\": {\n        \"dtype\": \"number\",\n        \"std\": 4.080111062409028,\n        \"min\": 15.54,\n        \"max\": 56.8,\n        \"samples\": [\n          24.56,\n          19.87\n        ],\n        \"num_unique_values\": 1363,\n        \"semantic_type\": \"\",\n        \"description\": \"\"\n      }\n    },\n    {\n      \"column\": \"heartRate\",\n      \"properties\": {\n        \"dtype\": \"number\",\n        \"std\": 12.0265963516126,\n        \"min\": 44.0,\n        \"max\": 143.0,\n        \"samples\": [\n          85.0,\n          47.0\n        ],\n        \"num_unique_values\": 73,\n        \"semantic_type\": \"\",\n        \"description\": \"\"\n      }\n    },\n    {\n      \"column\": \"glucose\",\n      \"properties\": {\n        \"dtype\": \"number\",\n        \"std\": 23.959998189237478,\n        \"min\": 40.0,\n        \"max\": 394.0,\n        \"samples\": [\n          394.0,\n          74.0\n        ],\n        \"num_unique_values\": 143,\n        \"semantic_type\": \"\",\n        \"description\": \"\"\n      }\n    },\n    {\n      \"column\": \"TenYearCHD\",\n      \"properties\": {\n        \"dtype\": \"number\",\n        \"std\": 0,\n        \"min\": 0,\n        \"max\": 1,\n        \"samples\": [\n          1,\n          0\n        ],\n        \"num_unique_values\": 2,\n        \"semantic_type\": \"\",\n        \"description\": \"\"\n      }\n    }\n  ]\n}"
            }
          },
          "metadata": {},
          "execution_count": 60
        }
      ]
    },
    {
      "cell_type": "code",
      "source": [
        "# Información general del dataframe\n",
        "df.info()"
      ],
      "metadata": {
        "colab": {
          "base_uri": "https://localhost:8080/"
        },
        "id": "LWe5J2QD_UlV",
        "outputId": "4ec91d09-90b3-46f5-c0fa-88c2304098e3"
      },
      "execution_count": 61,
      "outputs": [
        {
          "output_type": "stream",
          "name": "stdout",
          "text": [
            "<class 'pandas.core.frame.DataFrame'>\n",
            "RangeIndex: 4238 entries, 0 to 4237\n",
            "Data columns (total 16 columns):\n",
            " #   Column           Non-Null Count  Dtype  \n",
            "---  ------           --------------  -----  \n",
            " 0   sex              4238 non-null   object \n",
            " 1   age              4238 non-null   int64  \n",
            " 2   education        4133 non-null   float64\n",
            " 3   currentSmoker    4238 non-null   object \n",
            " 4   cigsPerDay       4209 non-null   float64\n",
            " 5   BPMeds           4185 non-null   float64\n",
            " 6   prevalentStroke  4238 non-null   int64  \n",
            " 7   prevalentHyp     4238 non-null   int64  \n",
            " 8   diabetes         4238 non-null   int64  \n",
            " 9   totChol          4188 non-null   float64\n",
            " 10  sysBP            4238 non-null   float64\n",
            " 11  diaBP            4238 non-null   float64\n",
            " 12  BMI              4219 non-null   float64\n",
            " 13  heartRate        4237 non-null   float64\n",
            " 14  glucose          3850 non-null   float64\n",
            " 15  TenYearCHD       4238 non-null   int64  \n",
            "dtypes: float64(9), int64(5), object(2)\n",
            "memory usage: 529.9+ KB\n"
          ]
        }
      ]
    },
    {
      "cell_type": "code",
      "source": [
        "# Estadísticas descriptivas de las variables numéricas\n",
        "df.describe()"
      ],
      "metadata": {
        "colab": {
          "base_uri": "https://localhost:8080/",
          "height": 320
        },
        "id": "tIaPNdGgMpjM",
        "outputId": "c132e9b9-ff06-4a65-8748-7fa37b5aa9f6"
      },
      "execution_count": 62,
      "outputs": [
        {
          "output_type": "execute_result",
          "data": {
            "text/plain": [
              "               age    education   cigsPerDay       BPMeds  prevalentStroke  \\\n",
              "count  4238.000000  4133.000000  4209.000000  4185.000000      4238.000000   \n",
              "mean     49.584946     1.978950     9.003089     0.029630         0.005899   \n",
              "std       8.572160     1.019791    11.920094     0.169584         0.076587   \n",
              "min      32.000000     1.000000     0.000000     0.000000         0.000000   \n",
              "25%      42.000000     1.000000     0.000000     0.000000         0.000000   \n",
              "50%      49.000000     2.000000     0.000000     0.000000         0.000000   \n",
              "75%      56.000000     3.000000    20.000000     0.000000         0.000000   \n",
              "max      70.000000     4.000000    70.000000     1.000000         1.000000   \n",
              "\n",
              "       prevalentHyp     diabetes      totChol        sysBP        diaBP  \\\n",
              "count   4238.000000  4238.000000  4188.000000  4238.000000  4238.000000   \n",
              "mean       0.310524     0.025720   236.721585   132.352407    82.893464   \n",
              "std        0.462763     0.158316    44.590334    22.038097    11.910850   \n",
              "min        0.000000     0.000000   107.000000    83.500000    48.000000   \n",
              "25%        0.000000     0.000000   206.000000   117.000000    75.000000   \n",
              "50%        0.000000     0.000000   234.000000   128.000000    82.000000   \n",
              "75%        1.000000     0.000000   263.000000   144.000000    89.875000   \n",
              "max        1.000000     1.000000   696.000000   295.000000   142.500000   \n",
              "\n",
              "               BMI    heartRate      glucose   TenYearCHD  \n",
              "count  4219.000000  4237.000000  3850.000000  4238.000000  \n",
              "mean     25.802008    75.878924    81.966753     0.151958  \n",
              "std       4.080111    12.026596    23.959998     0.359023  \n",
              "min      15.540000    44.000000    40.000000     0.000000  \n",
              "25%      23.070000    68.000000    71.000000     0.000000  \n",
              "50%      25.400000    75.000000    78.000000     0.000000  \n",
              "75%      28.040000    83.000000    87.000000     0.000000  \n",
              "max      56.800000   143.000000   394.000000     1.000000  "
            ],
            "text/html": [
              "\n",
              "  <div id=\"df-81f46a22-2206-44ee-abd4-c3163b0bf776\" class=\"colab-df-container\">\n",
              "    <div>\n",
              "<style scoped>\n",
              "    .dataframe tbody tr th:only-of-type {\n",
              "        vertical-align: middle;\n",
              "    }\n",
              "\n",
              "    .dataframe tbody tr th {\n",
              "        vertical-align: top;\n",
              "    }\n",
              "\n",
              "    .dataframe thead th {\n",
              "        text-align: right;\n",
              "    }\n",
              "</style>\n",
              "<table border=\"1\" class=\"dataframe\">\n",
              "  <thead>\n",
              "    <tr style=\"text-align: right;\">\n",
              "      <th></th>\n",
              "      <th>age</th>\n",
              "      <th>education</th>\n",
              "      <th>cigsPerDay</th>\n",
              "      <th>BPMeds</th>\n",
              "      <th>prevalentStroke</th>\n",
              "      <th>prevalentHyp</th>\n",
              "      <th>diabetes</th>\n",
              "      <th>totChol</th>\n",
              "      <th>sysBP</th>\n",
              "      <th>diaBP</th>\n",
              "      <th>BMI</th>\n",
              "      <th>heartRate</th>\n",
              "      <th>glucose</th>\n",
              "      <th>TenYearCHD</th>\n",
              "    </tr>\n",
              "  </thead>\n",
              "  <tbody>\n",
              "    <tr>\n",
              "      <th>count</th>\n",
              "      <td>4238.000000</td>\n",
              "      <td>4133.000000</td>\n",
              "      <td>4209.000000</td>\n",
              "      <td>4185.000000</td>\n",
              "      <td>4238.000000</td>\n",
              "      <td>4238.000000</td>\n",
              "      <td>4238.000000</td>\n",
              "      <td>4188.000000</td>\n",
              "      <td>4238.000000</td>\n",
              "      <td>4238.000000</td>\n",
              "      <td>4219.000000</td>\n",
              "      <td>4237.000000</td>\n",
              "      <td>3850.000000</td>\n",
              "      <td>4238.000000</td>\n",
              "    </tr>\n",
              "    <tr>\n",
              "      <th>mean</th>\n",
              "      <td>49.584946</td>\n",
              "      <td>1.978950</td>\n",
              "      <td>9.003089</td>\n",
              "      <td>0.029630</td>\n",
              "      <td>0.005899</td>\n",
              "      <td>0.310524</td>\n",
              "      <td>0.025720</td>\n",
              "      <td>236.721585</td>\n",
              "      <td>132.352407</td>\n",
              "      <td>82.893464</td>\n",
              "      <td>25.802008</td>\n",
              "      <td>75.878924</td>\n",
              "      <td>81.966753</td>\n",
              "      <td>0.151958</td>\n",
              "    </tr>\n",
              "    <tr>\n",
              "      <th>std</th>\n",
              "      <td>8.572160</td>\n",
              "      <td>1.019791</td>\n",
              "      <td>11.920094</td>\n",
              "      <td>0.169584</td>\n",
              "      <td>0.076587</td>\n",
              "      <td>0.462763</td>\n",
              "      <td>0.158316</td>\n",
              "      <td>44.590334</td>\n",
              "      <td>22.038097</td>\n",
              "      <td>11.910850</td>\n",
              "      <td>4.080111</td>\n",
              "      <td>12.026596</td>\n",
              "      <td>23.959998</td>\n",
              "      <td>0.359023</td>\n",
              "    </tr>\n",
              "    <tr>\n",
              "      <th>min</th>\n",
              "      <td>32.000000</td>\n",
              "      <td>1.000000</td>\n",
              "      <td>0.000000</td>\n",
              "      <td>0.000000</td>\n",
              "      <td>0.000000</td>\n",
              "      <td>0.000000</td>\n",
              "      <td>0.000000</td>\n",
              "      <td>107.000000</td>\n",
              "      <td>83.500000</td>\n",
              "      <td>48.000000</td>\n",
              "      <td>15.540000</td>\n",
              "      <td>44.000000</td>\n",
              "      <td>40.000000</td>\n",
              "      <td>0.000000</td>\n",
              "    </tr>\n",
              "    <tr>\n",
              "      <th>25%</th>\n",
              "      <td>42.000000</td>\n",
              "      <td>1.000000</td>\n",
              "      <td>0.000000</td>\n",
              "      <td>0.000000</td>\n",
              "      <td>0.000000</td>\n",
              "      <td>0.000000</td>\n",
              "      <td>0.000000</td>\n",
              "      <td>206.000000</td>\n",
              "      <td>117.000000</td>\n",
              "      <td>75.000000</td>\n",
              "      <td>23.070000</td>\n",
              "      <td>68.000000</td>\n",
              "      <td>71.000000</td>\n",
              "      <td>0.000000</td>\n",
              "    </tr>\n",
              "    <tr>\n",
              "      <th>50%</th>\n",
              "      <td>49.000000</td>\n",
              "      <td>2.000000</td>\n",
              "      <td>0.000000</td>\n",
              "      <td>0.000000</td>\n",
              "      <td>0.000000</td>\n",
              "      <td>0.000000</td>\n",
              "      <td>0.000000</td>\n",
              "      <td>234.000000</td>\n",
              "      <td>128.000000</td>\n",
              "      <td>82.000000</td>\n",
              "      <td>25.400000</td>\n",
              "      <td>75.000000</td>\n",
              "      <td>78.000000</td>\n",
              "      <td>0.000000</td>\n",
              "    </tr>\n",
              "    <tr>\n",
              "      <th>75%</th>\n",
              "      <td>56.000000</td>\n",
              "      <td>3.000000</td>\n",
              "      <td>20.000000</td>\n",
              "      <td>0.000000</td>\n",
              "      <td>0.000000</td>\n",
              "      <td>1.000000</td>\n",
              "      <td>0.000000</td>\n",
              "      <td>263.000000</td>\n",
              "      <td>144.000000</td>\n",
              "      <td>89.875000</td>\n",
              "      <td>28.040000</td>\n",
              "      <td>83.000000</td>\n",
              "      <td>87.000000</td>\n",
              "      <td>0.000000</td>\n",
              "    </tr>\n",
              "    <tr>\n",
              "      <th>max</th>\n",
              "      <td>70.000000</td>\n",
              "      <td>4.000000</td>\n",
              "      <td>70.000000</td>\n",
              "      <td>1.000000</td>\n",
              "      <td>1.000000</td>\n",
              "      <td>1.000000</td>\n",
              "      <td>1.000000</td>\n",
              "      <td>696.000000</td>\n",
              "      <td>295.000000</td>\n",
              "      <td>142.500000</td>\n",
              "      <td>56.800000</td>\n",
              "      <td>143.000000</td>\n",
              "      <td>394.000000</td>\n",
              "      <td>1.000000</td>\n",
              "    </tr>\n",
              "  </tbody>\n",
              "</table>\n",
              "</div>\n",
              "    <div class=\"colab-df-buttons\">\n",
              "\n",
              "  <div class=\"colab-df-container\">\n",
              "    <button class=\"colab-df-convert\" onclick=\"convertToInteractive('df-81f46a22-2206-44ee-abd4-c3163b0bf776')\"\n",
              "            title=\"Convert this dataframe to an interactive table.\"\n",
              "            style=\"display:none;\">\n",
              "\n",
              "  <svg xmlns=\"http://www.w3.org/2000/svg\" height=\"24px\" viewBox=\"0 -960 960 960\">\n",
              "    <path d=\"M120-120v-720h720v720H120Zm60-500h600v-160H180v160Zm220 220h160v-160H400v160Zm0 220h160v-160H400v160ZM180-400h160v-160H180v160Zm440 0h160v-160H620v160ZM180-180h160v-160H180v160Zm440 0h160v-160H620v160Z\"/>\n",
              "  </svg>\n",
              "    </button>\n",
              "\n",
              "  <style>\n",
              "    .colab-df-container {\n",
              "      display:flex;\n",
              "      gap: 12px;\n",
              "    }\n",
              "\n",
              "    .colab-df-convert {\n",
              "      background-color: #E8F0FE;\n",
              "      border: none;\n",
              "      border-radius: 50%;\n",
              "      cursor: pointer;\n",
              "      display: none;\n",
              "      fill: #1967D2;\n",
              "      height: 32px;\n",
              "      padding: 0 0 0 0;\n",
              "      width: 32px;\n",
              "    }\n",
              "\n",
              "    .colab-df-convert:hover {\n",
              "      background-color: #E2EBFA;\n",
              "      box-shadow: 0px 1px 2px rgba(60, 64, 67, 0.3), 0px 1px 3px 1px rgba(60, 64, 67, 0.15);\n",
              "      fill: #174EA6;\n",
              "    }\n",
              "\n",
              "    .colab-df-buttons div {\n",
              "      margin-bottom: 4px;\n",
              "    }\n",
              "\n",
              "    [theme=dark] .colab-df-convert {\n",
              "      background-color: #3B4455;\n",
              "      fill: #D2E3FC;\n",
              "    }\n",
              "\n",
              "    [theme=dark] .colab-df-convert:hover {\n",
              "      background-color: #434B5C;\n",
              "      box-shadow: 0px 1px 3px 1px rgba(0, 0, 0, 0.15);\n",
              "      filter: drop-shadow(0px 1px 2px rgba(0, 0, 0, 0.3));\n",
              "      fill: #FFFFFF;\n",
              "    }\n",
              "  </style>\n",
              "\n",
              "    <script>\n",
              "      const buttonEl =\n",
              "        document.querySelector('#df-81f46a22-2206-44ee-abd4-c3163b0bf776 button.colab-df-convert');\n",
              "      buttonEl.style.display =\n",
              "        google.colab.kernel.accessAllowed ? 'block' : 'none';\n",
              "\n",
              "      async function convertToInteractive(key) {\n",
              "        const element = document.querySelector('#df-81f46a22-2206-44ee-abd4-c3163b0bf776');\n",
              "        const dataTable =\n",
              "          await google.colab.kernel.invokeFunction('convertToInteractive',\n",
              "                                                    [key], {});\n",
              "        if (!dataTable) return;\n",
              "\n",
              "        const docLinkHtml = 'Like what you see? Visit the ' +\n",
              "          '<a target=\"_blank\" href=https://colab.research.google.com/notebooks/data_table.ipynb>data table notebook</a>'\n",
              "          + ' to learn more about interactive tables.';\n",
              "        element.innerHTML = '';\n",
              "        dataTable['output_type'] = 'display_data';\n",
              "        await google.colab.output.renderOutput(dataTable, element);\n",
              "        const docLink = document.createElement('div');\n",
              "        docLink.innerHTML = docLinkHtml;\n",
              "        element.appendChild(docLink);\n",
              "      }\n",
              "    </script>\n",
              "  </div>\n",
              "\n",
              "\n",
              "<div id=\"df-68396d1c-f908-4e2d-a0c8-015e7eb3e935\">\n",
              "  <button class=\"colab-df-quickchart\" onclick=\"quickchart('df-68396d1c-f908-4e2d-a0c8-015e7eb3e935')\"\n",
              "            title=\"Suggest charts\"\n",
              "            style=\"display:none;\">\n",
              "\n",
              "<svg xmlns=\"http://www.w3.org/2000/svg\" height=\"24px\"viewBox=\"0 0 24 24\"\n",
              "     width=\"24px\">\n",
              "    <g>\n",
              "        <path d=\"M19 3H5c-1.1 0-2 .9-2 2v14c0 1.1.9 2 2 2h14c1.1 0 2-.9 2-2V5c0-1.1-.9-2-2-2zM9 17H7v-7h2v7zm4 0h-2V7h2v10zm4 0h-2v-4h2v4z\"/>\n",
              "    </g>\n",
              "</svg>\n",
              "  </button>\n",
              "\n",
              "<style>\n",
              "  .colab-df-quickchart {\n",
              "      --bg-color: #E8F0FE;\n",
              "      --fill-color: #1967D2;\n",
              "      --hover-bg-color: #E2EBFA;\n",
              "      --hover-fill-color: #174EA6;\n",
              "      --disabled-fill-color: #AAA;\n",
              "      --disabled-bg-color: #DDD;\n",
              "  }\n",
              "\n",
              "  [theme=dark] .colab-df-quickchart {\n",
              "      --bg-color: #3B4455;\n",
              "      --fill-color: #D2E3FC;\n",
              "      --hover-bg-color: #434B5C;\n",
              "      --hover-fill-color: #FFFFFF;\n",
              "      --disabled-bg-color: #3B4455;\n",
              "      --disabled-fill-color: #666;\n",
              "  }\n",
              "\n",
              "  .colab-df-quickchart {\n",
              "    background-color: var(--bg-color);\n",
              "    border: none;\n",
              "    border-radius: 50%;\n",
              "    cursor: pointer;\n",
              "    display: none;\n",
              "    fill: var(--fill-color);\n",
              "    height: 32px;\n",
              "    padding: 0;\n",
              "    width: 32px;\n",
              "  }\n",
              "\n",
              "  .colab-df-quickchart:hover {\n",
              "    background-color: var(--hover-bg-color);\n",
              "    box-shadow: 0 1px 2px rgba(60, 64, 67, 0.3), 0 1px 3px 1px rgba(60, 64, 67, 0.15);\n",
              "    fill: var(--button-hover-fill-color);\n",
              "  }\n",
              "\n",
              "  .colab-df-quickchart-complete:disabled,\n",
              "  .colab-df-quickchart-complete:disabled:hover {\n",
              "    background-color: var(--disabled-bg-color);\n",
              "    fill: var(--disabled-fill-color);\n",
              "    box-shadow: none;\n",
              "  }\n",
              "\n",
              "  .colab-df-spinner {\n",
              "    border: 2px solid var(--fill-color);\n",
              "    border-color: transparent;\n",
              "    border-bottom-color: var(--fill-color);\n",
              "    animation:\n",
              "      spin 1s steps(1) infinite;\n",
              "  }\n",
              "\n",
              "  @keyframes spin {\n",
              "    0% {\n",
              "      border-color: transparent;\n",
              "      border-bottom-color: var(--fill-color);\n",
              "      border-left-color: var(--fill-color);\n",
              "    }\n",
              "    20% {\n",
              "      border-color: transparent;\n",
              "      border-left-color: var(--fill-color);\n",
              "      border-top-color: var(--fill-color);\n",
              "    }\n",
              "    30% {\n",
              "      border-color: transparent;\n",
              "      border-left-color: var(--fill-color);\n",
              "      border-top-color: var(--fill-color);\n",
              "      border-right-color: var(--fill-color);\n",
              "    }\n",
              "    40% {\n",
              "      border-color: transparent;\n",
              "      border-right-color: var(--fill-color);\n",
              "      border-top-color: var(--fill-color);\n",
              "    }\n",
              "    60% {\n",
              "      border-color: transparent;\n",
              "      border-right-color: var(--fill-color);\n",
              "    }\n",
              "    80% {\n",
              "      border-color: transparent;\n",
              "      border-right-color: var(--fill-color);\n",
              "      border-bottom-color: var(--fill-color);\n",
              "    }\n",
              "    90% {\n",
              "      border-color: transparent;\n",
              "      border-bottom-color: var(--fill-color);\n",
              "    }\n",
              "  }\n",
              "</style>\n",
              "\n",
              "  <script>\n",
              "    async function quickchart(key) {\n",
              "      const quickchartButtonEl =\n",
              "        document.querySelector('#' + key + ' button');\n",
              "      quickchartButtonEl.disabled = true;  // To prevent multiple clicks.\n",
              "      quickchartButtonEl.classList.add('colab-df-spinner');\n",
              "      try {\n",
              "        const charts = await google.colab.kernel.invokeFunction(\n",
              "            'suggestCharts', [key], {});\n",
              "      } catch (error) {\n",
              "        console.error('Error during call to suggestCharts:', error);\n",
              "      }\n",
              "      quickchartButtonEl.classList.remove('colab-df-spinner');\n",
              "      quickchartButtonEl.classList.add('colab-df-quickchart-complete');\n",
              "    }\n",
              "    (() => {\n",
              "      let quickchartButtonEl =\n",
              "        document.querySelector('#df-68396d1c-f908-4e2d-a0c8-015e7eb3e935 button');\n",
              "      quickchartButtonEl.style.display =\n",
              "        google.colab.kernel.accessAllowed ? 'block' : 'none';\n",
              "    })();\n",
              "  </script>\n",
              "</div>\n",
              "\n",
              "    </div>\n",
              "  </div>\n"
            ],
            "application/vnd.google.colaboratory.intrinsic+json": {
              "type": "dataframe",
              "summary": "{\n  \"name\": \"df\",\n  \"rows\": 8,\n  \"fields\": [\n    {\n      \"column\": \"age\",\n      \"properties\": {\n        \"dtype\": \"number\",\n        \"std\": 1482.955278652531,\n        \"min\": 8.572159925118484,\n        \"max\": 4238.0,\n        \"samples\": [\n          49.58494572911751,\n          49.0,\n          4238.0\n        ],\n        \"num_unique_values\": 8,\n        \"semantic_type\": \"\",\n        \"description\": \"\"\n      }\n    },\n    {\n      \"column\": \"education\",\n      \"properties\": {\n        \"dtype\": \"number\",\n        \"std\": 1460.5295095025235,\n        \"min\": 1.0,\n        \"max\": 4133.0,\n        \"samples\": [\n          4133.0,\n          1.9789499153157513,\n          3.0\n        ],\n        \"num_unique_values\": 7,\n        \"semantic_type\": \"\",\n        \"description\": \"\"\n      }\n    },\n    {\n      \"column\": \"cigsPerDay\",\n      \"properties\": {\n        \"dtype\": \"number\",\n        \"std\": 1482.6851658255594,\n        \"min\": 0.0,\n        \"max\": 4209.0,\n        \"samples\": [\n          4209.0,\n          9.003088619624615,\n          70.0\n        ],\n        \"num_unique_values\": 6,\n        \"semantic_type\": \"\",\n        \"description\": \"\"\n      }\n    },\n    {\n      \"column\": \"BPMeds\",\n      \"properties\": {\n        \"dtype\": \"number\",\n        \"std\": 1479.560410009123,\n        \"min\": 0.0,\n        \"max\": 4185.0,\n        \"samples\": [\n          0.02962962962962963,\n          1.0,\n          0.16958356790200033\n        ],\n        \"num_unique_values\": 5,\n        \"semantic_type\": \"\",\n        \"description\": \"\"\n      }\n    },\n    {\n      \"column\": \"prevalentStroke\",\n      \"properties\": {\n        \"dtype\": \"number\",\n        \"std\": 1498.3046354997873,\n        \"min\": 0.0,\n        \"max\": 4238.0,\n        \"samples\": [\n          0.005899008966493629,\n          1.0,\n          0.07658717064585817\n        ],\n        \"num_unique_values\": 5,\n        \"semantic_type\": \"\",\n        \"description\": \"\"\n      }\n    },\n    {\n      \"column\": \"prevalentHyp\",\n      \"properties\": {\n        \"dtype\": \"number\",\n        \"std\": 1498.219254987568,\n        \"min\": 0.0,\n        \"max\": 4238.0,\n        \"samples\": [\n          0.31052383199622463,\n          1.0,\n          0.4627626956737016\n        ],\n        \"num_unique_values\": 5,\n        \"semantic_type\": \"\",\n        \"description\": \"\"\n      }\n    },\n    {\n      \"column\": \"diabetes\",\n      \"properties\": {\n        \"dtype\": \"number\",\n        \"std\": 1498.2995058316505,\n        \"min\": 0.0,\n        \"max\": 4238.0,\n        \"samples\": [\n          0.025719679093912224,\n          1.0,\n          0.15831642786899552\n        ],\n        \"num_unique_values\": 5,\n        \"semantic_type\": \"\",\n        \"description\": \"\"\n      }\n    },\n    {\n      \"column\": \"totChol\",\n      \"properties\": {\n        \"dtype\": \"number\",\n        \"std\": 1403.9002477579238,\n        \"min\": 44.590334318749456,\n        \"max\": 4188.0,\n        \"samples\": [\n          236.72158548233045,\n          234.0,\n          4188.0\n        ],\n        \"num_unique_values\": 8,\n        \"semantic_type\": \"\",\n        \"description\": \"\"\n      }\n    },\n    {\n      \"column\": \"sysBP\",\n      \"properties\": {\n        \"dtype\": \"number\",\n        \"std\": 1453.832095647962,\n        \"min\": 22.038096643544584,\n        \"max\": 4238.0,\n        \"samples\": [\n          132.35240679565834,\n          128.0,\n          4238.0\n        ],\n        \"num_unique_values\": 8,\n        \"semantic_type\": \"\",\n        \"description\": \"\"\n      }\n    },\n    {\n      \"column\": \"diaBP\",\n      \"properties\": {\n        \"dtype\": \"number\",\n        \"std\": 1471.9456329708814,\n        \"min\": 11.9108496002255,\n        \"max\": 4238.0,\n        \"samples\": [\n          82.89346389806512,\n          82.0,\n          4238.0\n        ],\n        \"num_unique_values\": 8,\n        \"semantic_type\": \"\",\n        \"description\": \"\"\n      }\n    },\n    {\n      \"column\": \"BMI\",\n      \"properties\": {\n        \"dtype\": \"number\",\n        \"std\": 1482.6891002296709,\n        \"min\": 4.080111062409028,\n        \"max\": 4219.0,\n        \"samples\": [\n          25.80200758473572,\n          25.4,\n          4219.0\n        ],\n        \"num_unique_values\": 8,\n        \"semantic_type\": \"\",\n        \"description\": \"\"\n      }\n    },\n    {\n      \"column\": \"heartRate\",\n      \"properties\": {\n        \"dtype\": \"number\",\n        \"std\": 1473.1708105984824,\n        \"min\": 12.0265963516126,\n        \"max\": 4237.0,\n        \"samples\": [\n          75.87892376681614,\n          75.0,\n          4237.0\n        ],\n        \"num_unique_values\": 8,\n        \"semantic_type\": \"\",\n        \"description\": \"\"\n      }\n    },\n    {\n      \"column\": \"glucose\",\n      \"properties\": {\n        \"dtype\": \"number\",\n        \"std\": 1327.2109769547703,\n        \"min\": 23.959998189237478,\n        \"max\": 3850.0,\n        \"samples\": [\n          81.96675324675324,\n          78.0,\n          3850.0\n        ],\n        \"num_unique_values\": 8,\n        \"semantic_type\": \"\",\n        \"description\": \"\"\n      }\n    },\n    {\n      \"column\": \"TenYearCHD\",\n      \"properties\": {\n        \"dtype\": \"number\",\n        \"std\": 1498.282992616441,\n        \"min\": 0.0,\n        \"max\": 4238.0,\n        \"samples\": [\n          0.1519584709768759,\n          1.0,\n          0.35902299199027266\n        ],\n        \"num_unique_values\": 5,\n        \"semantic_type\": \"\",\n        \"description\": \"\"\n      }\n    }\n  ]\n}"
            }
          },
          "metadata": {},
          "execution_count": 62
        }
      ]
    },
    {
      "cell_type": "code",
      "source": [
        "# Contar los valores nulos por columna\n",
        "print(df.isnull().sum())"
      ],
      "metadata": {
        "colab": {
          "base_uri": "https://localhost:8080/"
        },
        "id": "c0EHdR5w_biW",
        "outputId": "ac958b9b-4ca4-469b-aabe-70067d9ddef1"
      },
      "execution_count": 63,
      "outputs": [
        {
          "output_type": "stream",
          "name": "stdout",
          "text": [
            "sex                  0\n",
            "age                  0\n",
            "education          105\n",
            "currentSmoker        0\n",
            "cigsPerDay          29\n",
            "BPMeds              53\n",
            "prevalentStroke      0\n",
            "prevalentHyp         0\n",
            "diabetes             0\n",
            "totChol             50\n",
            "sysBP                0\n",
            "diaBP                0\n",
            "BMI                 19\n",
            "heartRate            1\n",
            "glucose            388\n",
            "TenYearCHD           0\n",
            "dtype: int64\n"
          ]
        }
      ]
    },
    {
      "cell_type": "code",
      "source": [
        "# Eliminar filas con valores nulos\n",
        "df.dropna(inplace=True)"
      ],
      "metadata": {
        "id": "_mJfDZZZHZkw"
      },
      "execution_count": 64,
      "outputs": []
    },
    {
      "cell_type": "code",
      "source": [
        "# Contar los valores nulos por columna\n",
        "print(df.isnull().sum())"
      ],
      "metadata": {
        "colab": {
          "base_uri": "https://localhost:8080/"
        },
        "id": "TI9CMukKBFOz",
        "outputId": "9a5108a9-1b31-4ecf-d818-324563b92bd6"
      },
      "execution_count": 65,
      "outputs": [
        {
          "output_type": "stream",
          "name": "stdout",
          "text": [
            "sex                0\n",
            "age                0\n",
            "education          0\n",
            "currentSmoker      0\n",
            "cigsPerDay         0\n",
            "BPMeds             0\n",
            "prevalentStroke    0\n",
            "prevalentHyp       0\n",
            "diabetes           0\n",
            "totChol            0\n",
            "sysBP              0\n",
            "diaBP              0\n",
            "BMI                0\n",
            "heartRate          0\n",
            "glucose            0\n",
            "TenYearCHD         0\n",
            "dtype: int64\n"
          ]
        }
      ]
    },
    {
      "cell_type": "markdown",
      "source": [
        "\n",
        "\n",
        "---\n",
        "\n"
      ],
      "metadata": {
        "id": "pqtRD4rMocuw"
      }
    },
    {
      "cell_type": "markdown",
      "source": [
        "**PREGUNTA 2**\n",
        "- Escoge tres variables cuantitativas y realiza un análisis descriptivo de ellas, utilizando indicadores y gráficos. ¿Cuál presenta mayor dispersión?"
      ],
      "metadata": {
        "id": "6hmepIzFCkeX"
      }
    },
    {
      "cell_type": "code",
      "source": [
        "# Seleccionar tres variables cuantitativas\n",
        "variables_cuantitativas = ['age', 'totChol', 'BMI']\n",
        "\n",
        "# Mostrar estadísticas descriptivas y gráficos para las variables seleccionadas\n",
        "for var in variables_cuantitativas:\n",
        "    print(f\"\\nAnálisis descriptivo de {var}:\")\n",
        "    print(df[var].describe())\n",
        "    df[var].plot(kind='hist', bins=20, title=var)\n",
        "    plt.show()"
      ],
      "metadata": {
        "colab": {
          "base_uri": "https://localhost:8080/",
          "height": 1000
        },
        "id": "WrNptlHQLg3E",
        "outputId": "4b1380bf-a677-4936-f91f-a51e5821f826"
      },
      "execution_count": 66,
      "outputs": [
        {
          "output_type": "stream",
          "name": "stdout",
          "text": [
            "\n",
            "Análisis descriptivo de age:\n",
            "count    3656.000000\n",
            "mean       49.557440\n",
            "std         8.561133\n",
            "min        32.000000\n",
            "25%        42.000000\n",
            "50%        49.000000\n",
            "75%        56.000000\n",
            "max        70.000000\n",
            "Name: age, dtype: float64\n"
          ]
        },
        {
          "output_type": "display_data",
          "data": {
            "text/plain": [
              "<Figure size 640x480 with 1 Axes>"
            ],
            "image/png": "[encoded data removed]"
          },
          "metadata": {}
        },
        {
          "output_type": "stream",
          "name": "stdout",
          "text": [
            "\n",
            "Análisis descriptivo de totChol:\n",
            "count    3656.000000\n",
            "mean      236.873085\n",
            "std        44.096223\n",
            "min       113.000000\n",
            "25%       206.000000\n",
            "50%       234.000000\n",
            "75%       263.250000\n",
            "max       600.000000\n",
            "Name: totChol, dtype: float64\n"
          ]
        },
        {
          "output_type": "display_data",
          "data": {
            "text/plain": [
              "<Figure size 640x480 with 1 Axes>"
            ],
            "image/png": "[encoded data removed]"
          },
          "metadata": {}
        },
        {
          "output_type": "stream",
          "name": "stdout",
          "text": [
            "\n",
            "Análisis descriptivo de BMI:\n",
            "count    3656.000000\n",
            "mean       25.784185\n",
            "std         4.065913\n",
            "min        15.540000\n",
            "25%        23.080000\n",
            "50%        25.380000\n",
            "75%        28.040000\n",
            "max        56.800000\n",
            "Name: BMI, dtype: float64\n"
          ]
        },
        {
          "output_type": "display_data",
          "data": {
            "text/plain": [
              "<Figure size 640x480 with 1 Axes>"
            ],
            "image/png": "[encoded data removed]"
          },
          "metadata": {}
        }
      ]
    },
    {
      "cell_type": "markdown",
      "source": [
        "**Conclusión**\n",
        "- En mi opinión la columna de edad (age) es la que presenta mayor dispersión y además la distribución es bastante curiosa, con una tendencia a la baja de la frecuencia a medida que aumenta la edad y con un valle muy pronunciado alrededor de los 50 años."
      ],
      "metadata": {
        "id": "7i2DM4TRoA1M"
      }
    },
    {
      "cell_type": "markdown",
      "source": [
        "\n",
        "\n",
        "---"
      ],
      "metadata": {
        "id": "qTQekZbSoXgB"
      }
    },
    {
      "cell_type": "markdown",
      "source": [
        "**Pregunta 3**\n",
        "- Elimina los datos atípicos del dataset. Para las siguientes preguntas, considera el dataset \"limpio\"."
      ],
      "metadata": {
        "id": "zbbjaxsYsUAP"
      }
    },
    {
      "cell_type": "code",
      "source": [
        "# Definir límites para los datos atípicos (por ejemplo, usando el rango intercuartílico)\n",
        "Q1 = df.quantile(0.25)\n",
        "Q3 = df.quantile(0.75)\n",
        "IQR = Q3 - Q1\n",
        "lower_bound = Q1 - 1.5 * IQR\n",
        "upper_bound = Q3 + 1.5 * IQR\n",
        "\n",
        "# Eliminar datos atípicos\n",
        "df_clean = df[~((df < lower_bound) | (df > upper_bound)).any(axis=1)]"
      ],
      "metadata": {
        "id": "FRC3m6alsWHB",
        "colab": {
          "base_uri": "https://localhost:8080/"
        },
        "outputId": "237cedf9-66cb-4b63-8829-e291d4d53bab"
      },
      "execution_count": 67,
      "outputs": [
        {
          "output_type": "stream",
          "name": "stderr",
          "text": [
            "<ipython-input-67-a469b13acd57>:2: FutureWarning: The default value of numeric_only in DataFrame.quantile is deprecated. In a future version, it will default to False. Select only valid columns or specify the value of numeric_only to silence this warning.\n",
            "  Q1 = df.quantile(0.25)\n",
            "<ipython-input-67-a469b13acd57>:3: FutureWarning: The default value of numeric_only in DataFrame.quantile is deprecated. In a future version, it will default to False. Select only valid columns or specify the value of numeric_only to silence this warning.\n",
            "  Q3 = df.quantile(0.75)\n",
            "<ipython-input-67-a469b13acd57>:9: FutureWarning: Automatic reindexing on DataFrame vs Series comparisons is deprecated and will raise ValueError in a future version. Do `left, right = left.align(right, axis=1, copy=False)` before e.g. `left == right`\n",
            "  df_clean = df[~((df < lower_bound) | (df > upper_bound)).any(axis=1)]\n"
          ]
        }
      ]
    },
    {
      "cell_type": "markdown",
      "source": [
        "\n",
        "---"
      ],
      "metadata": {
        "id": "VLpiVyDQoi-P"
      }
    },
    {
      "cell_type": "markdown",
      "source": [
        "**Pregunta 4**\n",
        "- ¿Qué variables cuantitativas presentan mayor correlación? Explica."
      ],
      "metadata": {
        "id": "vIwi0jZxqv65"
      }
    },
    {
      "cell_type": "code",
      "source": [
        "# Calcular matriz de correlación\n",
        "correlation_matrix = df_clean.corr()\n",
        "\n",
        "# Visualizar la matriz de correlación como un mapa de calor\n",
        "plt.figure(figsize=(10, 8))\n",
        "sns.heatmap(correlation_matrix, annot=True, cmap='coolwarm', fmt=\".2f\")\n",
        "plt.title('Matriz de correlación entre variables')\n",
        "plt.show()"
      ],
      "metadata": {
        "colab": {
          "base_uri": "https://localhost:8080/",
          "height": 851
        },
        "id": "-xrS0zbIm1c9",
        "outputId": "4117a314-3472-4397-ca6e-59b439001f82"
      },
      "execution_count": 68,
      "outputs": [
        {
          "output_type": "stream",
          "name": "stderr",
          "text": [
            "<ipython-input-68-c671ecb63cd4>:2: FutureWarning: The default value of numeric_only in DataFrame.corr is deprecated. In a future version, it will default to False. Select only valid columns or specify the value of numeric_only to silence this warning.\n",
            "  correlation_matrix = df_clean.corr()\n"
          ]
        },
        {
          "output_type": "display_data",
          "data": {
            "text/plain": [
              "<Figure size 1000x800 with 2 Axes>"
            ],
            "image/png": "[encoded data removed]"
          },
          "metadata": {}
        }
      ]
    },
    {
      "cell_type": "markdown",
      "source": [
        "\n",
        "\n",
        "---\n",
        "\n"
      ],
      "metadata": {
        "id": "7wcVjdjkoydp"
      }
    },
    {
      "cell_type": "markdown",
      "source": [
        "**Pregunta 5**\n",
        "- Si de este dataset se escoge un paciente al azar, ¿cuál es la probabilidad de que sea hombre, si se sabe que pertenece al mayor cuartil de la variable correspondiente al índice de masa corporal?"
      ],
      "metadata": {
        "id": "OrZBH0ofQGy8"
      }
    },
    {
      "cell_type": "code",
      "source": [
        "# Calcular los cuartiles del BMI\n",
        "bmi_quartiles = pd.qcut(df_clean['BMI'], q=4, retbins=True)[1]\n",
        "\n",
        "# Contar el número de hombres en el cuartil más alto del BMI\n",
        "num_hombres_mayor_cuartil_bmi = df_clean[(df_clean['BMI'] >= bmi_quartiles[-1]) & (df_clean['sex'] == 'M')].shape[0]\n",
        "\n",
        "# Contar el número total de personas en el cuartil más alto del BMI\n",
        "num_total_mayor_cuartil_bmi = df_clean[df_clean['BMI'] >= bmi_quartiles[-1]].shape[0]\n",
        "\n",
        "# Calcular la probabilidad\n",
        "probabilidad_hombre_en_mayor_cuartil_bmi = num_hombres_mayor_cuartil_bmi / num_total_mayor_cuartil_bmi\n",
        "\n",
        "print(\"La probabilidad de que un paciente sea hombre, dado que pertenece al mayor cuartil de BMI, es:\", probabilidad_hombre_en_mayor_cuartil_bmi)"
      ],
      "metadata": {
        "colab": {
          "base_uri": "https://localhost:8080/"
        },
        "id": "J-GyCj0OPs5h",
        "outputId": "101a38c4-860c-49c6-c4f8-2c45d5a114f7"
      },
      "execution_count": 69,
      "outputs": [
        {
          "output_type": "stream",
          "name": "stdout",
          "text": [
            "La probabilidad de que un paciente sea hombre, dado que pertenece al mayor cuartil de BMI, es: 0.0\n"
          ]
        }
      ]
    },
    {
      "cell_type": "markdown",
      "source": [
        "---"
      ],
      "metadata": {
        "id": "b42oTCVYSdSE"
      }
    },
    {
      "cell_type": "markdown",
      "source": [
        "**PREGUNTA 6**\n",
        "- ¿Es razonable afirmar que, para una persona cualquiera (no necesariamente dentro del dataset), su ritmo cardiaco promedio es 75? Explica y justifica."
      ],
      "metadata": {
        "id": "XclYaxfwSfHT"
      }
    },
    {
      "cell_type": "markdown",
      "source": [
        "Para responder a esta pregunta, podemos realizar un test de hipótesis. Podemos plantear la hipótesis nula (H0) como \"el ritmo cardíaco promedio es igual a 75\" y la hipótesis alternativa (H1) como \"el ritmo cardíaco promedio no es igual a 75\". Luego, podemos realizar una prueba de t para determinar si hay suficiente evidencia para rechazar la hipótesis nula."
      ],
      "metadata": {
        "id": "jb-tqMQ4S-yC"
      }
    },
    {
      "cell_type": "code",
      "source": [
        "from scipy.stats import ttest_1samp\n",
        "\n",
        "# Realizar test de hipótesis\n",
        "alpha = 0.05\n",
        "promedio_ritmo_cardiaco = df_clean['heartRate'].mean()\n",
        "t_statistic, p_value = ttest_1samp(df_clean['heartRate'], popmean=75)\n",
        "\n",
        "if p_value < alpha:\n",
        "    print(f\"Con un valor de p={p_value:.4f}, rechazamos la hipótesis nula.\")\n",
        "    print(\"Por lo tanto, no es razonable afirmar que el ritmo cardíaco promedio es 75.\")\n",
        "else:\n",
        "    print(f\"Con un valor de p={p_value:.4f}, no podemos rechazar la hipótesis nula.\")\n",
        "    print(\"Por lo tanto, es razonable afirmar que el ritmo cardíaco promedio es 75.\")"
      ],
      "metadata": {
        "colab": {
          "base_uri": "https://localhost:8080/"
        },
        "id": "wsdF0R8pSl5n",
        "outputId": "6982ee8a-4ddd-4d16-8b24-ecce58159a49"
      },
      "execution_count": 70,
      "outputs": [
        {
          "output_type": "stream",
          "name": "stdout",
          "text": [
            "Con un valor de p=0.0589, no podemos rechazar la hipótesis nula.\n",
            "Por lo tanto, es razonable afirmar que el ritmo cardíaco promedio es 75.\n"
          ]
        }
      ]
    },
    {
      "cell_type": "markdown",
      "source": [
        "---"
      ],
      "metadata": {
        "id": "mpKBfEczTf2G"
      }
    },
    {
      "cell_type": "markdown",
      "source": [
        "**PREGUNTA 7**\n",
        "- Ser hombre, ¿influye en el promedio de cigarrillos consumidos por día, dentro de los pacientes fumadores? Explica."
      ],
      "metadata": {
        "id": "a8uenPzAThAX"
      }
    },
    {
      "cell_type": "markdown",
      "source": [
        "Para responder a esta pregunta, podemos comparar el promedio de cigarrillos consumidos por día entre hombres y mujeres fumadores. Luego, podemos realizar un test de hipótesis para determinar si hay una diferencia significativa en el promedio de cigarrillos consumidos por día entre ambos grupos."
      ],
      "metadata": {
        "id": "Ki-qyenkTswO"
      }
    },
    {
      "cell_type": "code",
      "source": [
        "# Filtrar los datos para obtener solo los pacientes fumadores\n",
        "fumadores = df_clean[df_clean['currentSmoker'] == 1]\n",
        "\n",
        "# Calcular el promedio de cigarrillos consumidos por día para hombres y mujeres fumadores\n",
        "promedio_cigarrillos_hombres = fumadores[fumadores['sex'] == 'M']['cigsPerDay'].mean()\n",
        "promedio_cigarrillos_mujeres = fumadores[fumadores['sex'] == 'F']['cigsPerDay'].mean()\n",
        "\n",
        "# Realizar test de hipótesis\n",
        "t_statistic, p_value = ttest_ind(fumadores[fumadores['sex'] == 'M']['cigsPerDay'], fumadores[fumadores['sex'] == 'F']['cigsPerDay'])\n",
        "\n",
        "if p_value < alpha:\n",
        "    print(f\"Con un valor de p={p_value:.4f}, rechazamos la hipótesis nula.\")\n",
        "    print(\"Por lo tanto, ser hombre influye en el promedio de cigarrillos consumidos por día.\")\n",
        "else:\n",
        "    print(f\"Con un valor de p={p_value:.4f}, no podemos rechazar la hipótesis nula.\")\n",
        "    print(\"Por lo tanto, no hay suficiente evidencia para afirmar que ser hombre influye en el promedio de cigarrillos consumidos por día.\")"
      ],
      "metadata": {
        "colab": {
          "base_uri": "https://localhost:8080/"
        },
        "id": "qQfGVMHqTlpv",
        "outputId": "c190b666-9936-4280-df20-9ff22845d833"
      },
      "execution_count": 71,
      "outputs": [
        {
          "output_type": "stream",
          "name": "stdout",
          "text": [
            "Con un valor de p=nan, no podemos rechazar la hipótesis nula.\n",
            "Por lo tanto, no hay suficiente evidencia para afirmar que ser hombre influye en el promedio de cigarrillos consumidos por día.\n"
          ]
        }
      ]
    },
    {
      "cell_type": "markdown",
      "source": [
        "---"
      ],
      "metadata": {
        "id": "LBFR9GvPViIY"
      }
    },
    {
      "cell_type": "markdown",
      "source": [
        "**PREGUNTA 8**\n",
        "- Construye un modelo de regresión lineal que permita relacionar 6 variables del dataset con el índice de masa corporal. (Debes incluir al menos dos variables cualitativas). Evalúa tu modelo y explica."
      ],
      "metadata": {
        "id": "kAO6dxXmVjHi"
      }
    },
    {
      "cell_type": "markdown",
      "source": [
        "Para construir el modelo de regresión lineal, seleccionaremos seis variables del conjunto de datos, incluyendo al menos dos variables cualitativas. Luego, ajustaremos el modelo y evaluaremos su desempeño utilizando métricas como el coeficiente de determinación (R cuadrado) y el error cuadrático medio (MSE)."
      ],
      "metadata": {
        "id": "jQZJFB5oWAD2"
      }
    },
    {
      "cell_type": "code",
      "source": [
        "# Seleccionar variables predictoras (X) y variable objetivo (y)\n",
        "X = df_clean[['age', 'currentSmoker', 'BPMeds', 'prevalentStroke', 'prevalentHyp', 'diabetes']]\n",
        "y = df_clean['BMI']\n",
        "\n",
        "# Convertir variables cualitativas en variables dummy\n",
        "X = pd.get_dummies(X)\n",
        "\n",
        "# Dividir el conjunto de datos en conjuntos de entrenamiento y prueba\n",
        "X_train, X_test, y_train, y_test = train_test_split(X, y, test_size=0.2, random_state=42)\n",
        "\n",
        "# Construir el modelo de regresión lineal\n",
        "model = LinearRegression()\n",
        "model.fit(X_train, y_train)\n",
        "\n",
        "# Evaluar el modelo\n",
        "y_pred = model.predict(X_test)\n",
        "r2 = r2_score(y_test, y_pred)\n",
        "mse = mean_squared_error(y_test, y_pred)\n",
        "\n",
        "print(\"Coeficiente de determinación (R cuadrado):\", r2)\n",
        "print(\"Error cuadrático medio (MSE):\", mse)"
      ],
      "metadata": {
        "colab": {
          "base_uri": "https://localhost:8080/"
        },
        "id": "aWqknzD3VrDM",
        "outputId": "e36c5252-7041-4174-8d06-d11bb1d58354"
      },
      "execution_count": 76,
      "outputs": [
        {
          "output_type": "stream",
          "name": "stdout",
          "text": [
            "Coeficiente de determinación (R cuadrado): 0.06952448450491155\n",
            "Error cuadrático medio (MSE): 11.112675071401291\n"
          ]
        }
      ]
    },
    {
      "cell_type": "markdown",
      "source": [
        "---"
      ],
      "metadata": {
        "id": "gY2AepBUn_ni"
      }
    },
    {
      "cell_type": "markdown",
      "source": [
        "**PREGUNTA 9**\n",
        "- Construye un modelo de regresión logística para predecir el riesgo de sufrir una enfermedad coronaria en los próximos diez años, a partir de las variables descritas. Verifica el balanceo de datos y evalúa tu modelo."
      ],
      "metadata": {
        "id": "FPrn8DTNoAm9"
      }
    },
    {
      "cell_type": "code",
      "source": [
        "# Dividir los datos en características (X) y variable objetivo (y)\n",
        "X = df.drop(columns=['TenYearCHD'])\n",
        "y = df['TenYearCHD']\n",
        "\n",
        "# Convertir variables cualitativas en variables dummy\n",
        "X = pd.get_dummies(X)\n",
        "\n",
        "# Dividir los datos en conjuntos de entrenamiento y prueba\n",
        "X_train, X_test, y_train, y_test = train_test_split(X, y, test_size=0.2, random_state=42)\n",
        "\n",
        "# Calcular la mediana de y_train\n",
        "threshold = y_train.median()\n",
        "\n",
        "# Convertir valores continuos en binarios usando la mediana como umbral\n",
        "y_train_binary = (y_train > threshold).astype(int)\n",
        "\n",
        "# Verificar si la variable objetivo está correctamente codificada como binaria\n",
        "if len(y_train_binary.unique()) == 2 and set(y_train_binary.unique()) == {0, 1}:\n",
        "    print(\"La variable objetivo está correctamente codificada como binaria.\")\n",
        "else:\n",
        "    print(\"La variable objetivo no está correctamente codificada como binaria.\")\n",
        "\n",
        "# Verificar el desbalance de clases\n",
        "class_counts = y_train_binary.value_counts()\n",
        "print(\"Distribución de clases:\")\n",
        "print(class_counts)\n",
        "\n",
        "# Normalizar los datos\n",
        "scaler = StandardScaler()\n",
        "X_train_scaled = scaler.fit_transform(X_train)\n",
        "X_test_scaled = scaler.transform(X_test)\n",
        "\n",
        "# Construir el modelo de regresión logística\n",
        "model = LogisticRegression()\n",
        "model.fit(X_train_scaled, y_train_binary)\n",
        "\n",
        "# Predecir en el conjunto de prueba\n",
        "y_pred = model.predict(X_test_scaled)\n",
        "\n",
        "# Evaluar el modelo\n",
        "accuracy = accuracy_score(y_test, y_pred)\n",
        "conf_matrix = confusion_matrix(y_test, y_pred)\n",
        "class_report = classification_report(y_test, y_pred)\n",
        "\n",
        "print(\"Accuracy:\", accuracy)\n",
        "print(\"Matriz de confusión:\")\n",
        "print(conf_matrix)\n",
        "print(\"Reporte de clasificación:\")\n",
        "print(class_report)"
      ],
      "metadata": {
        "colab": {
          "base_uri": "https://localhost:8080/"
        },
        "id": "Q3VQXpC2P42l",
        "outputId": "0d7ac554-a87e-46ce-81e9-649dc186093d"
      },
      "execution_count": 77,
      "outputs": [
        {
          "output_type": "stream",
          "name": "stdout",
          "text": [
            "La variable objetivo está correctamente codificada como binaria.\n",
            "Distribución de clases:\n",
            "0    2489\n",
            "1     435\n",
            "Name: TenYearCHD, dtype: int64\n",
            "Accuracy: 0.8360655737704918\n",
            "Matriz de confusión:\n",
            "[[602   8]\n",
            " [112  10]]\n",
            "Reporte de clasificación:\n",
            "              precision    recall  f1-score   support\n",
            "\n",
            "           0       0.84      0.99      0.91       610\n",
            "           1       0.56      0.08      0.14       122\n",
            "\n",
            "    accuracy                           0.84       732\n",
            "   macro avg       0.70      0.53      0.53       732\n",
            "weighted avg       0.80      0.84      0.78       732\n",
            "\n"
          ]
        }
      ]
    },
    {
      "cell_type": "markdown",
      "source": [
        "---"
      ],
      "metadata": {
        "id": "LDpx0dRnR_8q"
      }
    },
    {
      "cell_type": "markdown",
      "source": [
        "**PREGUNTA 10**\n",
        "\n",
        "- Separa los modelos de regresión anteriores en dos distintos, respectivamente, considerando alguna variable categórica. Compara y concluye."
      ],
      "metadata": {
        "id": "iXmNBeG-SA1C"
      }
    },
    {
      "cell_type": "markdown",
      "source": [
        "Para responder esta pregunta vamos a calcular los resultados de los modelos de regresión lineal de la pregunta 8 y del modelo de regresión logística de la pregunta 9 prediciendo por separado los resultados de los hombres vs los de mujeres."
      ],
      "metadata": {
        "id": "kYNHPPV9XktO"
      }
    },
    {
      "cell_type": "markdown",
      "source": [
        "**Modelo Regresión Lineal**\n",
        "- Segmento: Hombres"
      ],
      "metadata": {
        "id": "wffelVLlYlJr"
      }
    },
    {
      "cell_type": "code",
      "source": [
        "# Seleccionar solo los datos de hombres\n",
        "df_male = df_clean[df_clean['sex'] == 'M']\n",
        "\n",
        "# Seleccionar variables predictoras (X) y variable objetivo (y) para hombres\n",
        "X_male = df_male[['age', 'currentSmoker', 'BPMeds', 'prevalentStroke', 'prevalentHyp', 'diabetes']]\n",
        "y_male = df_male['BMI']\n",
        "\n",
        "# Convertir variables cualitativas en variables dummy\n",
        "X_male = pd.get_dummies(X_male)\n",
        "\n",
        "# Dividir el conjunto de datos de hombres en conjuntos de entrenamiento y prueba\n",
        "X_train_male, X_test_male, y_train_male, y_test_male = train_test_split(X_male, y_male, test_size=0.1, random_state=42)\n",
        "\n",
        "# Construir el modelo de regresión lineal para hombres\n",
        "model_male = LinearRegression()\n",
        "model_male.fit(X_train_male, y_train_male)\n",
        "\n",
        "# Evaluar el modelo para hombres\n",
        "y_pred_male = model_male.predict(X_test_male)\n",
        "r2_male = r2_score(y_test_male, y_pred_male)\n",
        "mse_male = mean_squared_error(y_test_male, y_pred_male)\n",
        "\n",
        "print(\"Coeficiente de determinación (R cuadrado) para hombres:\", r2_male)\n",
        "print(\"Error cuadrático medio (MSE) para hombres:\", mse_male)"
      ],
      "metadata": {
        "colab": {
          "base_uri": "https://localhost:8080/"
        },
        "id": "sMyUONJHSGcI",
        "outputId": "8660bfe1-1994-48e9-fa4d-4af949d79857"
      },
      "execution_count": 78,
      "outputs": [
        {
          "output_type": "stream",
          "name": "stdout",
          "text": [
            "Coeficiente de determinación (R cuadrado) para hombres: 0.06515386875559048\n",
            "Error cuadrático medio (MSE) para hombres: 9.99053905358204\n"
          ]
        }
      ]
    },
    {
      "cell_type": "markdown",
      "source": [
        "**Modelo Regresión Lineal**\n",
        "- Segmento: Mujeres"
      ],
      "metadata": {
        "id": "zVzKp5cM9m8Q"
      }
    },
    {
      "cell_type": "code",
      "source": [
        "# Seleccionar solo los datos de mujeres\n",
        "df_female = df_clean[df_clean['sex'] == 'F']\n",
        "\n",
        "# Seleccionar variables predictoras (X) y variable objetivo (y) para mujeres\n",
        "X_female = df_female[['age', 'currentSmoker', 'BPMeds', 'prevalentStroke', 'prevalentHyp', 'diabetes']]\n",
        "y_female = df_female['BMI']\n",
        "\n",
        "# Convertir variables cualitativas en variables dummy\n",
        "X_female = pd.get_dummies(X_female)\n",
        "\n",
        "# Dividir el conjunto de datos de mujeres en conjuntos de entrenamiento y prueba\n",
        "X_train_female, X_test_female, y_train_female, y_test_female = train_test_split(X_female, y_female, test_size=0.2, random_state=42)\n",
        "\n",
        "# Construir el modelo de regresión lineal para mujeres\n",
        "model_female = LinearRegression()\n",
        "model_female.fit(X_train_female, y_train_female)\n",
        "\n",
        "# Evaluar el modelo para mujeres\n",
        "y_pred_female = model_female.predict(X_test_female)\n",
        "r2_female = r2_score(y_test_female, y_pred_female)\n",
        "mse_female = mean_squared_error(y_test_female, y_pred_female)\n",
        "\n",
        "print(\"Coeficiente de determinación (R cuadrado) para mujeres:\", r2_female)\n",
        "print(\"Error cuadrático medio (MSE) para mujeres:\", mse_female)"
      ],
      "metadata": {
        "colab": {
          "base_uri": "https://localhost:8080/"
        },
        "id": "lRuENaIB9mNW",
        "outputId": "e39027d7-8d6d-4096-eb26-68653351a8ea"
      },
      "execution_count": 79,
      "outputs": [
        {
          "output_type": "stream",
          "name": "stdout",
          "text": [
            "Coeficiente de determinación (R cuadrado) para mujeres: 0.0563176544237618\n",
            "Error cuadrático medio (MSE) para mujeres: 10.231899278842922\n"
          ]
        }
      ]
    },
    {
      "cell_type": "markdown",
      "source": [
        "En conclusión, ambos modelos de regresión lineal tienen un rendimiento bastante bajo en términos de explicar la variabilidad en la variable objetivo y hacer predicciones precisas. Sin embargo, el modelo para hombres parece tener un rendimiento ligeramente mejor en términos de R cuadrado y MSE en comparación con el modelo para mujeres."
      ],
      "metadata": {
        "id": "O6XBMNZIddn3"
      }
    },
    {
      "cell_type": "markdown",
      "source": [
        "**Modelo Regresión Logística**\n",
        "- Segmento: Hombres"
      ],
      "metadata": {
        "id": "SL1ylZ9I93T3"
      }
    },
    {
      "cell_type": "code",
      "source": [
        "# Seleccionar solo los datos de hombres\n",
        "df_male = df[df['sex'] == 'M']\n",
        "\n",
        "# Dividir los datos en características (X) y variable objetivo (y)\n",
        "X_male = df_male.drop(columns=['TenYearCHD'])\n",
        "y_male = df_male['TenYearCHD']\n",
        "\n",
        "# Convertir variables cualitativas en variables dummy\n",
        "X_male = pd.get_dummies(X_male)\n",
        "\n",
        "# Dividir los datos en conjuntos de entrenamiento y prueba\n",
        "X_train_male, X_test_male, y_train_male, y_test_male = train_test_split(X_male, y_male, test_size=0.2, random_state=42)\n",
        "\n",
        "# Calcular la mediana de y_train\n",
        "threshold = y_train_male.median()\n",
        "\n",
        "# Convertir valores continuos en binarios usando la mediana como umbral\n",
        "y_train_male_binary = (y_train_male > threshold).astype(int)\n",
        "\n",
        "# Verificar si la variable objetivo está correctamente codificada como binaria\n",
        "if len(y_train_male_binary.unique()) == 2 and set(y_train_male_binary.unique()) == {0, 1}:\n",
        "    print(\"La variable objetivo está correctamente codificada como binaria.\")\n",
        "else:\n",
        "    print(\"La variable objetivo no está correctamente codificada como binaria.\")\n",
        "\n",
        "# Verificar el desbalance de clases\n",
        "class_counts = y_train_male_binary.value_counts()\n",
        "print(\"Distribución de clases:\")\n",
        "print(class_counts)\n",
        "\n",
        "# Normalizar los datos\n",
        "scaler = StandardScaler()\n",
        "X_train_male_scaled = scaler.fit_transform(X_train_male)\n",
        "X_test_male_scaled = scaler.transform(X_test_male)\n",
        "\n",
        "# Construir el modelo de regresión logística\n",
        "model_male = LogisticRegression()\n",
        "model_male.fit(X_train_male_scaled, y_train_male_binary)\n",
        "\n",
        "# Predecir en el conjunto de prueba\n",
        "y_pred_male = model_male.predict(X_test_male_scaled)\n",
        "\n",
        "# Evaluar el modelo\n",
        "accuracy_male = accuracy_score(y_test_male, y_pred_male)\n",
        "conf_matrix_male = confusion_matrix(y_test_male, y_pred_male)\n",
        "class_report_male = classification_report(y_test_male, y_pred_male)\n",
        "\n",
        "print(\"Accuracy:\", accuracy_male)\n",
        "print(\"Matriz de confusión:\")\n",
        "print(conf_matrix_male)\n",
        "print(\"Reporte de clasificación:\")\n",
        "print(class_report_male)"
      ],
      "metadata": {
        "colab": {
          "base_uri": "https://localhost:8080/"
        },
        "id": "Wt54BndR-LiF",
        "outputId": "a0c4d8ef-5f0f-4b5f-ea86-7faa17e2887b"
      },
      "execution_count": 84,
      "outputs": [
        {
          "output_type": "stream",
          "name": "stdout",
          "text": [
            "La variable objetivo está correctamente codificada como binaria.\n",
            "Distribución de clases:\n",
            "0    1061\n",
            "1     236\n",
            "Name: TenYearCHD, dtype: int64\n",
            "Accuracy: 0.7846153846153846\n",
            "Matriz de confusión:\n",
            "[[247   7]\n",
            " [ 63   8]]\n",
            "Reporte de clasificación:\n",
            "              precision    recall  f1-score   support\n",
            "\n",
            "           0       0.80      0.97      0.88       254\n",
            "           1       0.53      0.11      0.19        71\n",
            "\n",
            "    accuracy                           0.78       325\n",
            "   macro avg       0.67      0.54      0.53       325\n",
            "weighted avg       0.74      0.78      0.73       325\n",
            "\n"
          ]
        }
      ]
    },
    {
      "cell_type": "markdown",
      "source": [
        "**Modelo Regresión Logística**\n",
        "- Segmento: Mujeres"
      ],
      "metadata": {
        "id": "tzbo0eQv-Hrf"
      }
    },
    {
      "cell_type": "code",
      "source": [
        "# Seleccionar solo los datos de hombres\n",
        "df_female = df[df['sex'] == 'F']\n",
        "\n",
        "# Dividir los datos en características (X) y variable objetivo (y)\n",
        "X_female = df_female.drop(columns=['TenYearCHD'])\n",
        "y_female = df_female['TenYearCHD']\n",
        "\n",
        "# Convertir variables cualitativas en variables dummy\n",
        "X_female = pd.get_dummies(X_female)\n",
        "\n",
        "# Dividir los datos en conjuntos de entrenamiento y prueba\n",
        "X_train_female, X_test_female, y_train_female, y_test_female = train_test_split(X_female, y_female, test_size=0.2, random_state=42)\n",
        "\n",
        "# Calcular la mediana de y_train\n",
        "threshold = y_train_female.median()\n",
        "\n",
        "# Convertir valores continuos en binarios usando la mediana como umbral\n",
        "y_train_female_binary = (y_train_female > threshold).astype(int)\n",
        "\n",
        "# Verificar si la variable objetivo está correctamente codificada como binaria\n",
        "if len(y_train_female_binary.unique()) == 2 and set(y_train_female_binary.unique()) == {0, 1}:\n",
        "    print(\"La variable objetivo está correctamente codificada como binaria.\")\n",
        "else:\n",
        "    print(\"La variable objetivo no está correctamente codificada como binaria.\")\n",
        "\n",
        "# Verificar el desbalance de clases\n",
        "class_counts = y_train_female_binary.value_counts()\n",
        "print(\"Distribución de clases:\")\n",
        "print(class_counts)\n",
        "\n",
        "# Normalizar los datos\n",
        "scaler = StandardScaler()\n",
        "X_train_female_scaled = scaler.fit_transform(X_train_female)\n",
        "X_test_female_scaled = scaler.transform(X_test_female)\n",
        "\n",
        "# Construir el modelo de regresión logística\n",
        "model_female = LogisticRegression()\n",
        "model_female.fit(X_train_female_scaled, y_train_female_binary)\n",
        "\n",
        "# Predecir en el conjunto de prueba\n",
        "y_pred_female = model_female.predict(X_test_female_scaled)\n",
        "\n",
        "# Evaluar el modelo\n",
        "accuracy_female = accuracy_score(y_test_female, y_pred_female)\n",
        "conf_matrix_female = confusion_matrix(y_test_female, y_pred_female)\n",
        "class_report_female = classification_report(y_test_female, y_pred_female)\n",
        "\n",
        "print(\"Accuracy:\", accuracy_female)\n",
        "print(\"Matriz de confusión:\")\n",
        "print(conf_matrix_female)\n",
        "print(\"Reporte de clasificación:\")\n",
        "print(class_report_female)"
      ],
      "metadata": {
        "colab": {
          "base_uri": "https://localhost:8080/"
        },
        "id": "MO2WvGSl-MjS",
        "outputId": "34c56645-9841-4b34-bf0c-4e69bf547488"
      },
      "execution_count": 85,
      "outputs": [
        {
          "output_type": "stream",
          "name": "stdout",
          "text": [
            "La variable objetivo está correctamente codificada como binaria.\n",
            "Distribución de clases:\n",
            "0    1434\n",
            "1     193\n",
            "Name: TenYearCHD, dtype: int64\n",
            "Accuracy: 0.8574938574938575\n",
            "Matriz de confusión:\n",
            "[[348   2]\n",
            " [ 56   1]]\n",
            "Reporte de clasificación:\n",
            "              precision    recall  f1-score   support\n",
            "\n",
            "           0       0.86      0.99      0.92       350\n",
            "           1       0.33      0.02      0.03        57\n",
            "\n",
            "    accuracy                           0.86       407\n",
            "   macro avg       0.60      0.51      0.48       407\n",
            "weighted avg       0.79      0.86      0.80       407\n",
            "\n"
          ]
        }
      ]
    },
    {
      "cell_type": "markdown",
      "source": [
        "Aunque el modelo de regresión logística para mujeres tiene una precisión global más alta en comparación con el modelo para hombres, ambos modelos muestran dificultades para identificar correctamente los casos positivos de riesgo de enfermedad cardíaca (clase 1), como lo indican las proporciones relativamente altas de falsos negativos en las matrices de confusión y los valores más bajos de precisión y recall para la clase positiva en el reporte de clasificación."
      ],
      "metadata": {
        "id": "Tahgm24EegD5"
      }
    }
  ]
}